{
 "cells": [
  {
   "cell_type": "markdown",
   "metadata": {},
   "source": [
    "# User Location Classification in Hurricane Harvey\n",
    "The goal of this analysis is to evaluate methods by which users Tweeting about Hurricane Harvey may be classified as in the area or otherwise.\n",
    "\n",
    "Data was collected with custom software which observed several Twitter streams and enhanced this information by querying the Twitter REST APIs for the network data (friends and followers) of each author. Stream volume which exceeded the capacity of the REST requests was discarded. \n",
    "* The keyword stream monitored the terms: [#harvey, #harveystorm, #hurricaneharvey, #corpuschristi]\n",
    "* The GPS stream used the bounding box: [-99.9590682, 26.5486063, -93.9790001, 30.3893434]\n",
    "* The collection period ran from 2017-08-26 01:32:18 until 2017-09-02 10:30:52 \n",
    "* 55,605 Tweets by 33,585 unique authors were recorded\n",
    "\n",
    "Data was coded using an interface built into the collection software by a primary coder. A secondary coder coded a sub-set of coded users for validation of the coding schema. User instances were coded by whether they 'appeared to be in the affected area'.\n",
    "\n",
    "\n",
    "## Data Cleaning & Enrichment\n",
    "First we get all the coding instances made by the primary and secondary coders, and check the total codings of each class. There may be multiple coding dimensions (sets of coding schema), in which case the code requires adjustment to constrain to one."
   ]
  },
  {
   "cell_type": "code",
   "execution_count": 99,
   "metadata": {},
   "outputs": [
    {
     "name": "stdout",
     "output_type": "stream",
     "text": [
      "Coding Dimension:  Local\n",
      "Subject:  user\n",
      "Class Totals (primary / secondary): \n",
      "\t Unsure: \t31 \t/ 5\n",
      "\t Non-Witness: \t1070 \t/ 94\n",
      "\t Witness: \t378 \t/ 52\n",
      "1479 Accounts coded by primary coder, 151 by secondary coder.\n"
     ]
    }
   ],
   "source": [
    "import pandas as pd\n",
    "\n",
    "# Get coding instances of user objects:\n",
    "account_codings = (Coding.objects\n",
    "                    .filter(coding_id=1)\n",
    "                    .filter(user__isnull=False)\n",
    "                    .filter(data_code__data_code_id__gt=0)\n",
    "                  )\n",
    "account_codings_secondary = (Coding.objects\n",
    "                                 .filter(coding_id=2)\n",
    "                                 .filter(user__isnull=False)\n",
    "                            )\n",
    "\n",
    "# Check available coding schema:\n",
    "dimensions = DataCodeDimension.objects.all()[1:]\n",
    "for d in dimensions:\n",
    "    print('Coding Dimension: ', d.name)\n",
    "    print('Subject: ', d.coding_subject)\n",
    "    print('Class Totals (primary / secondary): ')\n",
    "    for code in d.datacode.all():\n",
    "        print(\"\\t {}: \\t{} \\t/ {}\"\n",
    "                .format(code.name, \n",
    "                    account_codings.filter(data_code__id=code.id).count(), \n",
    "                    account_codings_secondary.filter(data_code__id=code.id).count())\n",
    "             )\n",
    "print(\"{} Accounts coded by primary coder, {} by secondary coder.\".format(account_codings.count(), account_codings_secondary.count()))\n",
    "if len(dimensions) > 1: \n",
    "    print('\\tNote: Totals represent sum of all codes from {} dimensions.'.format(len(dimensions)))\n",
    "    print('WARNING: Code in cells below assume one dimension -- adjust to constrain.')"
   ]
  },
  {
   "cell_type": "markdown",
   "metadata": {},
   "source": [
    "We then create a dataframe of all users which have been coded by the primary coder to create the initial dataset. The subjects of the secondary coder are a subset of this set by design."
   ]
  },
  {
   "cell_type": "code",
   "execution_count": 100,
   "metadata": {},
   "outputs": [
    {
     "data": {
      "text/plain": [
       "utc_offset                           906\n",
       "time_zone                            906\n",
       "undirected_eigenvector_centrality    878\n",
       "closeness_centrality                 878\n",
       "degree_centrality                    878\n",
       "eigenvector_centrality               878\n",
       "load_centrality                      878\n",
       "betweenness_centrality               878\n",
       "url                                  799\n",
       "old_screen_name                       95\n",
       "suspended                              0\n",
       "user_network_update_observed_at        0\n",
       "needs_phone_verification               0\n",
       "user_followers                         0\n",
       "katz_centrality                        0\n",
       "is_deleted_observed                    0\n",
       "is_deleted                             0\n",
       "user_followers_update                  0\n",
       "user_following                         0\n",
       "user_following_update                  0\n",
       "dtype: int64"
      ]
     },
     "execution_count": 100,
     "metadata": {},
     "output_type": "execute_result"
    }
   ],
   "source": [
    "# Get all Users coded by primary coder:\n",
    "# (exclude data_code_id=0 as this is the temporary 'to be coded' class)\n",
    "users = User.objects.filter(coding_for_user__coding_id=1, \n",
    "                            coding_for_user__data_code__data_code_id__gt=0)\n",
    "users_df = pd.DataFrame(list(users.values()))\n",
    "\n",
    "# Check for missing values by column:\n",
    "users_df.count()[users_df.count() != account_codings.count()].sort_values(ascending=False)"
   ]
  },
  {
   "cell_type": "markdown",
   "metadata": {},
   "source": [
    "* The centrality measures have a common value. As these values are only calculated for the largest connected component of the graph, this consistency makes sense.\n",
    "* The fields time_zone, utc_offset, old_screen_name, and url are nullable.\n",
    "* Twitter has deprecated the field 'needs_phone_verification', so no values were returned.\n",
    "* Various 0 value fields were not implemented at the time of collection but have been added to the database. These can be safely dropped."
   ]
  },
  {
   "cell_type": "code",
   "execution_count": 101,
   "metadata": {},
   "outputs": [],
   "source": [
    "# Dropping empty columns\n",
    "dropped_cols = users_df.columns[users_df.isnull().all()]\n",
    "users_df.drop(dropped_cols, axis=1, inplace=True)"
   ]
  },
  {
   "cell_type": "markdown",
   "metadata": {},
   "source": [
    "### Adding Location Data\n",
    "There are a number of options which can represent the ground truth location of the user.\n",
    "* Location listed on a user's profile\n",
    "* User Timezone (deprecated)\n",
    "* Manual Coding\n",
    "* Location data derived from Tweet stream\n",
    "    * GPS tagged Tweets\n",
    "    * Mention of location in Tweet body\n",
    "    \n",
    "#### Parsing user-set location in profile field\n",
    "The location the user sets in their profile as a string is evaluated and a locality decision made. In this instance, a location is considered 'local' if its coordinates (supplied by the Google geolocation API or parsed directly from the location string) fall within the bounding box used for geographic Twitter data collection, or if it contains the string 'houston' or 'christi' (representing the town Corpus Christi). Both of these locations fall within the bounding box, and are used here as a time-saving operation.\n",
    "\n",
    "Note that as this field can be set manually, it is unverifiable and therefore not a perfect representation of location, even where it exists. Users may neglect to update their location after moving, and some observations were made of users setting their location to that of a disaster event as a 'show of solidarity'."
   ]
  },
  {
   "cell_type": "code",
   "execution_count": 102,
   "metadata": {},
   "outputs": [],
   "source": [
    "## This block supports manual coding of locations as local or non-local.\n",
    "## It has been superceded by the next block which uses the Googlemaps API\n",
    "\n",
    "#location_list = users_df.location.unique()\n",
    "#with open('data/harvey_user_location/all_profile_locations.txt', 'w') as f:\n",
    "#    for item in location_list:\n",
    "#        f.write(\"%s\\n\" % item)\n",
    "\n",
    "################\n",
    "## This list then manually sorted and non-local locations removed.\n",
    "## List of local locations then re-imported.\n",
    "## Note this list excludes any locations containing 'Christi' or 'Houston'\n",
    "## Note: if more users are coded, this list needs to be re-examined. Raise alert:\n",
    "#if users_df.shape[0] != 931:\n",
    "#    print('ALERT: New codings detected. Consider updating manual locality selection')\n",
    "################\n",
    "\n",
    "#with open('data/harvey_user_location/local_profile_locations_manual_check.txt', 'r') as f:\n",
    "#    local_locations_list = f.read().splitlines()\n",
    "    \n",
    "## Create column for users with local location listed in profile\n",
    "#users_df['local_profile_location_manual'] = \\\n",
    "#    (users_df.location.str.contains('houston|christi', case=False, regex=True) |\n",
    "#    users_df.location.isin(local_locations_list))"
   ]
  },
  {
   "cell_type": "code",
   "execution_count": 103,
   "metadata": {},
   "outputs": [],
   "source": [
    "import re\n",
    "\n",
    "def parse_coordinates(string):\n",
    "    '''Parse a string for coordinates'''\n",
    "    reg = '[nsewNSEW]?\\s?-?\\d+[\\.°]\\s?\\d+°?\\s?[nsewNSEW]?'\n",
    "    result = re.findall(reg, string)\n",
    "    if len(result) == 2: # Coordinates detected\n",
    "        for i in range(len(result)):\n",
    "            # Replace middle degree symbol with decimal:\n",
    "            reg_middle_degree = '(\\d+)°\\s?(\\d+)'\n",
    "            result[i] = re.sub(reg_middle_degree, r'\\1.\\2', result[i])\n",
    "            # Remove trailing degree symbol, N and E marks:\n",
    "            reg_strip = '[°neNE\\s]'\n",
    "            result[i] = re.sub(reg_strip, '', result[i])\n",
    "            # Replace south/west with negative sign:\n",
    "            reg_replace_sw = '[swSW](\\d+\\.\\d+)|(\\d+\\.\\d+)[swSW]'\n",
    "            result[i] = re.sub(reg_replace_sw, r'-\\1\\2', result[i])\n",
    "            # Remove double negative (where string contained eg. '-99.10w')\n",
    "            result[i] = re.sub('--', '-', result[i])\n",
    "        return (float(result[0]), float(result[1]))\n",
    "    else:\n",
    "        return False"
   ]
  },
  {
   "cell_type": "code",
   "execution_count": 104,
   "metadata": {},
   "outputs": [],
   "source": [
    "import yaml\n",
    "import googlemaps\n",
    "\n",
    "\n",
    "def is_in_bounding_box(coords, boxes):\n",
    "    '''\n",
    "    Check whether coordinates fall within defined bounding box:\n",
    "    Boxes are defined as their NW and SE points.\n",
    "    '''\n",
    "    for box in boxes:\n",
    "        if coords[0] < box[0][0] and coords[0] > box[1][0]:\n",
    "            if coords[1] > box[0][1] and coords[1] < box[1][1]:\n",
    "                return True\n",
    "    return False\n",
    "\n",
    "\n",
    "def is_local(location, boxes, known_localities=[]):\n",
    "    '''\n",
    "    Check whether a location string falls within a set of \n",
    "    bounding boxes using Googlemaps API.\n",
    "    '''\n",
    "    if not location:\n",
    "        return False\n",
    "    # Check known localities first to save on API requests:\n",
    "    for x in known_localities:\n",
    "        if x in location:\n",
    "            return True\n",
    "    # Try and parse coordinates from string rather than API query:\n",
    "    coords = parse_coordinates(location)\n",
    "    # Get coords from API:\n",
    "    if not coords:\n",
    "        # Get API key from file:\n",
    "        with open(\"auth.yml\", 'r') as ymlfile:\n",
    "            auth = yaml.load(ymlfile, Loader=yaml.BaseLoader)\n",
    "        gmaps = googlemaps.Client(key=auth['apikeys']['googlemaps'])\n",
    "        #########################################################\n",
    "        ####### OVERRIDE API OBJECT TO PREVENT API CALLS: #######\n",
    "        #geocode_result = gmaps.geocode(location)\n",
    "        geocode_result = False\n",
    "        print('WARNING -- API DISABLED')\n",
    "        #########################################################\n",
    "        #########################################################\n",
    "        if geocode_result:\n",
    "            lat = geocode_result[0]['geometry']['location']['lat']\n",
    "            lon = geocode_result[0]['geometry']['location']['lng']\n",
    "            coords = (lat, lon)\n",
    "    if coords:\n",
    "        return(is_in_bounding_box(coords, boxes))\n",
    "    return False"
   ]
  },
  {
   "cell_type": "code",
   "execution_count": 21,
   "metadata": {},
   "outputs": [],
   "source": [
    "# Bounding boxes used for Hurricane Harvey dataset:\n",
    "boxes = [[(29.1197,-99.9590682),(26.5486063,-97.5021)],\n",
    "        [(30.3893434,-97.5021),(26.5486063,-93.9790001)]]\n",
    "# Don't need to look these up (save on API requests)\n",
    "known_localities = ['houston', 'christi']\n",
    "\n",
    "# Get list of locations in profiles:\n",
    "location_list = users_df.location.dropna().str.lower().unique()\n",
    "\n",
    "# Create sublist of local locations\n",
    "local_location_list = [loc for loc in location_list if is_local(loc, boxes, known_localities)]\n",
    "# Create sublist of non-local locations (for manual verification)\n",
    "non_local_location_list = [loc for loc in location_list if loc not in local_location_list]\n",
    "\n",
    "# Create column for users with local location listed in profile\n",
    "users_df['local_profile_location'] = users_df.location.str.lower().isin(local_location_list)\n",
    "\n",
    "# Write lists to file to save calling API on kernel restart:\n",
    "with open('data/harvey_user_location/local_locations_list_from_api.txt', 'w') as f:\n",
    "    for item in local_location_list:\n",
    "        f.write(\"%s\\n\" % item)\n",
    "with open('data/harvey_user_location/non_local_locations_list_from_api.txt', 'w') as f:\n",
    "    for item in non_local_location_list:\n",
    "        f.write(\"%s\\n\" % item)"
   ]
  },
  {
   "cell_type": "markdown",
   "metadata": {},
   "source": [
    "#### Timezone Field\n",
    "Timezone data provided by Twitter when capturing the user objects is less specific than other methods, but may be useful as a supplementary source.\n",
    "As this data field has been deprecated by Twitter, it will not be available in new data sets."
   ]
  },
  {
   "cell_type": "code",
   "execution_count": 22,
   "metadata": {},
   "outputs": [],
   "source": [
    "# Create column for profiles in relevant time zone:\n",
    "timezone = 'Central Time (US & Canada)'\n",
    "\n",
    "users_df['local_timezone'] = users_df.time_zone == timezone\n",
    "users_df = users_df.drop(['time_zone', 'utc_offset'], axis=1)"
   ]
  },
  {
   "cell_type": "markdown",
   "metadata": {},
   "source": [
    "#### Manual Coding\n",
    "Accounts were manually coded as 'local' or 'non-local'.\n",
    "\n",
    "Coders were shown the user account details as well as the Twitter stream of the user. The coders were instructed to determine whether the user account was in an area affected by the hurricane at any point during the data collection period. Therefore, the term 'local' may be misleading to the reader, as the definition given to the coders will include anyone visiting the area as, for example, a responder or aid worker. This larger set of 'on the ground' users is a more useful target for classification."
   ]
  },
  {
   "cell_type": "code",
   "execution_count": 23,
   "metadata": {},
   "outputs": [],
   "source": [
    "# Create column to represent manual coding:\n",
    "users_df['coded_as'] = \\\n",
    "    users_df['screen_name'].apply(lambda x: User.objects.get(screen_name=x).coding_for_user.get(coding_id=1).data_code.name)\n",
    "users_df['coded_as_witness'] = users_df['coded_as'] == 'Witness'\n",
    "# Remove original column:\n",
    "users_df = users_df.drop(['coded_as'], axis=1)"
   ]
  },
  {
   "cell_type": "markdown",
   "metadata": {},
   "source": [
    "#### GPS from Tweet stream\n",
    "While the Tweets detected by the system may not contain GPS data, the author may have made other GPS-enabled Tweets during the collection period from which we can infer location. We createa column representing whether the user made any geolocated Tweets within the bounding box during the collection period."
   ]
  },
  {
   "cell_type": "code",
   "execution_count": 24,
   "metadata": {},
   "outputs": [],
   "source": [
    "# Check whether any of a user's Tweets fall within the bounding box and update column:\n",
    "users_df['tweet_from_locality'] = False\n",
    "users = users_df.screen_name.tolist()\n",
    "for u in users:\n",
    "    try:\n",
    "        geo_tweets = User.objects.get(screen_name=u).tweet.filter(coordinates_lat__isnull=False)\n",
    "    except:\n",
    "        print('Error with user: ', u)\n",
    "        continue\n",
    "    for tweet in geo_tweets:\n",
    "        coords = (tweet.coordinates_lat, tweet.coordinates_lon)\n",
    "        if is_in_bounding_box(coords, boxes):\n",
    "            users_df.loc[users_df['screen_name'] == u, 'tweet_from_locality'] = True\n",
    "            break"
   ]
  },
  {
   "cell_type": "markdown",
   "metadata": {},
   "source": [
    "#### Combination Columns\n",
    "Combining data from columns may improve accuracy (at the cost of recall)"
   ]
  },
  {
   "cell_type": "code",
   "execution_count": 25,
   "metadata": {},
   "outputs": [],
   "source": [
    "users_df['three_local_metrics'] = users_df[['tweet_from_locality', \n",
    "                    'local_timezone', 'local_profile_location']].all(axis='columns')\n",
    "users_df['local_tw_and_local_profile'] = users_df[['tweet_from_locality', \n",
    "                    'local_profile_location']].all(axis='columns')\n",
    "users_df['local_tw_and_local_tz'] = users_df[['tweet_from_locality', \n",
    "                    'local_timezone']].all(axis='columns')\n",
    "users_df['local_tz_and_local_profile'] = users_df[['local_profile_location', \n",
    "                    'local_timezone']].all(axis='columns')"
   ]
  },
  {
   "cell_type": "code",
   "execution_count": 105,
   "metadata": {},
   "outputs": [],
   "source": [
    "########################################\n",
    "########################################\n",
    "## Write/read dataframe to temp file ###\n",
    "########################################\n",
    "########################################\n",
    "\n",
    "import pandas as pd\n",
    "path = 'data/harvey_user_location/temp_users_df.csv'\n",
    "\n",
    "#users_df.to_csv(path)\n",
    "\n",
    "#users_df = pd.read_csv(path, index_col=0) \n",
    "#users_df = users_df.drop(['Unnamed: 0.1'], axis=1)\n",
    "\n",
    "# Reading currently splits a row, delete rogue row:\n",
    "#if users_df.shape[0] == 1500:\n",
    "#    print('Dropping row 222, to verify')\n",
    "#    users_df = users_df.drop(users_df.index[222])\n",
    "#print(users_df.shape)\n",
    "\n",
    "########################################\n",
    "########################################\n",
    "########################################"
   ]
  },
  {
   "cell_type": "code",
   "execution_count": 147,
   "metadata": {},
   "outputs": [
    {
     "data": {
      "text/plain": [
       "(1478, 56)"
      ]
     },
     "execution_count": 147,
     "metadata": {},
     "output_type": "execute_result"
    }
   ],
   "source": [
    "users_df.shape"
   ]
  },
  {
   "cell_type": "markdown",
   "metadata": {},
   "source": [
    "#### Compare Stand-In Metrics\n",
    "Now we can compare the metrics against the hand-coded classifications to decide whether they are suitable as stand-in values. Note that while the combination columns do increase precision (as expected), they drastically impact recall. \n",
    "\n",
    "This suggests that the columns have little correlation.\n",
    "\n",
    "local_tw_and_local_profile has the lowest drop in pos_cases (i.e. the highest correlation) but we do not see an increase in precision, and do suffer a drop in recall. Therefore these combination columns are not considered useful."
   ]
  },
  {
   "cell_type": "code",
   "execution_count": 148,
   "metadata": {},
   "outputs": [
    {
     "name": "stdout",
     "output_type": "stream",
     "text": [
      "Total positive cases:  377\n",
      "Total negative cases:  1101\n"
     ]
    },
    {
     "data": {
      "text/html": [
       "<div>\n",
       "<style scoped>\n",
       "    .dataframe tbody tr th:only-of-type {\n",
       "        vertical-align: middle;\n",
       "    }\n",
       "\n",
       "    .dataframe tbody tr th {\n",
       "        vertical-align: top;\n",
       "    }\n",
       "\n",
       "    .dataframe thead th {\n",
       "        text-align: right;\n",
       "    }\n",
       "</style>\n",
       "<table border=\"1\" class=\"dataframe\">\n",
       "  <thead>\n",
       "    <tr style=\"text-align: right;\">\n",
       "      <th></th>\n",
       "      <th>column_name</th>\n",
       "      <th>pos_count</th>\n",
       "      <th>pos_precision</th>\n",
       "      <th>pos_recall</th>\n",
       "      <th>accuracy</th>\n",
       "      <th>weighted_precision</th>\n",
       "      <th>weighted_recall</th>\n",
       "    </tr>\n",
       "  </thead>\n",
       "  <tbody>\n",
       "    <tr>\n",
       "      <th>0</th>\n",
       "      <td>tweet_from_locality</td>\n",
       "      <td>462</td>\n",
       "      <td>0.53</td>\n",
       "      <td>0.65</td>\n",
       "      <td>0.77</td>\n",
       "      <td>0.78</td>\n",
       "      <td>0.77</td>\n",
       "    </tr>\n",
       "    <tr>\n",
       "      <th>1</th>\n",
       "      <td>local_timezone</td>\n",
       "      <td>335</td>\n",
       "      <td>0.41</td>\n",
       "      <td>0.37</td>\n",
       "      <td>0.71</td>\n",
       "      <td>0.69</td>\n",
       "      <td>0.71</td>\n",
       "    </tr>\n",
       "    <tr>\n",
       "      <th>2</th>\n",
       "      <td>local_profile_location</td>\n",
       "      <td>393</td>\n",
       "      <td>0.64</td>\n",
       "      <td>0.67</td>\n",
       "      <td>0.82</td>\n",
       "      <td>0.82</td>\n",
       "      <td>0.82</td>\n",
       "    </tr>\n",
       "    <tr>\n",
       "      <th>3</th>\n",
       "      <td>three_local_metrics</td>\n",
       "      <td>105</td>\n",
       "      <td>0.69</td>\n",
       "      <td>0.19</td>\n",
       "      <td>0.77</td>\n",
       "      <td>0.75</td>\n",
       "      <td>0.77</td>\n",
       "    </tr>\n",
       "    <tr>\n",
       "      <th>4</th>\n",
       "      <td>local_tw_and_local_profile</td>\n",
       "      <td>277</td>\n",
       "      <td>0.64</td>\n",
       "      <td>0.47</td>\n",
       "      <td>0.80</td>\n",
       "      <td>0.79</td>\n",
       "      <td>0.80</td>\n",
       "    </tr>\n",
       "    <tr>\n",
       "      <th>5</th>\n",
       "      <td>local_tw_and_local_tz</td>\n",
       "      <td>150</td>\n",
       "      <td>0.63</td>\n",
       "      <td>0.25</td>\n",
       "      <td>0.77</td>\n",
       "      <td>0.75</td>\n",
       "      <td>0.77</td>\n",
       "    </tr>\n",
       "    <tr>\n",
       "      <th>6</th>\n",
       "      <td>local_tz_and_local_profile</td>\n",
       "      <td>153</td>\n",
       "      <td>0.66</td>\n",
       "      <td>0.27</td>\n",
       "      <td>0.78</td>\n",
       "      <td>0.76</td>\n",
       "      <td>0.78</td>\n",
       "    </tr>\n",
       "  </tbody>\n",
       "</table>\n",
       "</div>"
      ],
      "text/plain": [
       "                  column_name pos_count  pos_precision  pos_recall  accuracy  \\\n",
       "0         tweet_from_locality       462           0.53        0.65      0.77   \n",
       "1              local_timezone       335           0.41        0.37      0.71   \n",
       "2      local_profile_location       393           0.64        0.67      0.82   \n",
       "3         three_local_metrics       105           0.69        0.19      0.77   \n",
       "4  local_tw_and_local_profile       277           0.64        0.47      0.80   \n",
       "5       local_tw_and_local_tz       150           0.63        0.25      0.77   \n",
       "6  local_tz_and_local_profile       153           0.66        0.27      0.78   \n",
       "\n",
       "   weighted_precision  weighted_recall  \n",
       "0                0.78             0.77  \n",
       "1                0.69             0.71  \n",
       "2                0.82             0.82  \n",
       "3                0.75             0.77  \n",
       "4                0.79             0.80  \n",
       "5                0.75             0.77  \n",
       "6                0.76             0.78  "
      ]
     },
     "execution_count": 148,
     "metadata": {},
     "output_type": "execute_result"
    }
   ],
   "source": [
    "from sklearn.metrics import classification_report\n",
    "\n",
    "# Columns to compare:\n",
    "columns = ['tweet_from_locality', 'local_timezone', 'local_profile_location', \n",
    "            #'local_profile_location_manual', \n",
    "           'three_local_metrics', 'local_tw_and_local_profile', 'local_tw_and_local_tz', \n",
    "           'local_tz_and_local_profile']\n",
    "\n",
    "# Create reporting dataframe:\n",
    "results = pd.DataFrame(columns=['column_name', 'pos_count', 'pos_precision', 'pos_recall', \n",
    "                                'accuracy', 'weighted_precision', 'weighted_recall'])\n",
    "\n",
    "# Fill NA values\n",
    "users_df.coded_as_witness.fillna(False, inplace=True)\n",
    "\n",
    "for col in columns:\n",
    "    users_df[col].fillna(False, inplace=True)\n",
    "    report = classification_report(users_df['coded_as_witness'], users_df[col], \n",
    "                                    output_dict = True)\n",
    "    row = pd.Series({'column_name': col, 'pos_count': users_df[col].sum(), \n",
    "                    'pos_precision': round(report['True']['precision'], 2),\n",
    "                    'pos_recall': round(report['True']['recall'], 2),\n",
    "                    'accuracy': round(report['accuracy'], 2),\n",
    "                    'weighted_precision': round(report['weighted avg']['precision'], 2),\n",
    "                    'weighted_recall': round(report['weighted avg']['recall'], 2)})\n",
    "    results = results.append(row, ignore_index=True)\n",
    "\n",
    "\n",
    "print('Total positive cases: ', users_df['coded_as_witness'].sum())\n",
    "print('Total negative cases: ', users_df['coded_as_witness'].count() - users_df['coded_as_witness'].sum())\n",
    "# Print table:\n",
    "results"
   ]
  },
  {
   "cell_type": "markdown",
   "metadata": {},
   "source": [
    "### Misc. Data Enrichment"
   ]
  },
  {
   "cell_type": "code",
   "execution_count": 150,
   "metadata": {},
   "outputs": [
    {
     "data": {
      "text/plain": [
       "Index(['added_at', 'betweenness_centrality', 'closeness_centrality',\n",
       "       'created_at', 'data_source', 'default_profile', 'default_profile_image',\n",
       "       'degree_centrality', 'description', 'eigenvector_centrality',\n",
       "       'favourites_count', 'followers_count', 'friends_count', 'geo_enabled',\n",
       "       'has_extended_profile', 'id', 'in_degree', 'is_deleted',\n",
       "       'is_deleted_observed', 'is_translation_enabled', 'katz_centrality',\n",
       "       'lang', 'listed_count', 'load_centrality', 'location', 'name',\n",
       "       'needs_phone_verification', 'old_screen_name', 'out_degree',\n",
       "       'protected', 'ratio_detected', 'ratio_media', 'ratio_original',\n",
       "       'screen_name', 'statuses_count', 'suspended', 'translator_type',\n",
       "       'tweets_per_hour', 'undirected_eigenvector_centrality', 'url',\n",
       "       'user_class', 'user_followers', 'user_followers_update',\n",
       "       'user_following', 'user_following_update', 'user_id',\n",
       "       'user_network_update_observed_at', 'verified', 'local_profile_location',\n",
       "       'local_timezone', 'coded_as_witness', 'tweet_from_locality',\n",
       "       'three_local_metrics', 'local_tw_and_local_profile',\n",
       "       'local_tw_and_local_tz', 'local_tz_and_local_profile'],\n",
       "      dtype='object')"
      ]
     },
     "execution_count": 150,
     "metadata": {},
     "output_type": "execute_result"
    }
   ],
   "source": [
    "users_df.columns"
   ]
  },
  {
   "cell_type": "code",
   "execution_count": 31,
   "metadata": {},
   "outputs": [],
   "source": [
    "# Create column to represent length of profile description:\n",
    "users_df['description_length'] = users_df.description.str.len()\n",
    "#users_df = users_df.drop(['description_length'], axis=1)\n",
    "\n",
    "# Profile language is English:\n",
    "users_df['lang_is_en'] = users_df['lang'] == 'en'\n",
    "users_df = users_df.drop(['lang'], axis=1)\n",
    "\n",
    "# translator_type exists:\n",
    "users_df['has_translator_type'] = users_df['translator_type'] != 'none'\n",
    "users_df = users_df.drop(['translator_type'], axis=1)\n",
    "\n",
    "# Url in profile:\n",
    "users_df['has_url'] = users_df['url'].notnull()\n",
    "\n",
    "# User has changed screen_name during collection period:\n",
    "users_df['changed_screen_name'] = users_df['old_screen_name'].notnull()"
   ]
  },
  {
   "cell_type": "code",
   "execution_count": 32,
   "metadata": {},
   "outputs": [
    {
     "name": "stdout",
     "output_type": "stream",
     "text": [
      "Dropping columns:  is_deleted\n",
      "Dropping columns:  is_deleted_observed\n",
      "Dropping columns:  katz_centrality\n",
      "Dropping columns:  needs_phone_verification\n",
      "Dropping columns:  protected\n",
      "Dropping columns:  ratio_media\n",
      "Dropping columns:  suspended\n",
      "Dropping columns:  user_followers\n",
      "Dropping columns:  user_followers_update\n",
      "Dropping columns:  user_following\n",
      "Dropping columns:  user_following_update\n",
      "Dropping columns:  user_network_update_observed_at\n"
     ]
    }
   ],
   "source": [
    "# Drop columns with only one unique value:\n",
    "for col in users_df.columns:\n",
    "    if len(users_df[col].value_counts()) <= 1:\n",
    "        print('Dropping columns: ', col)\n",
    "        users_df = users_df.drop([col], axis=1)\n",
    "        \n",
    "# TODO: consider dropping where value_counts() == 1, or is the alternative NaN value useful?:\n",
    "    # protected and ratio_media\n"
   ]
  },
  {
   "cell_type": "code",
   "execution_count": 42,
   "metadata": {},
   "outputs": [],
   "source": [
    "# Create columns to represent age of account at time of detection, and how soon\n",
    "# after the beginning of the event that the account was first detected.\n",
    "\n",
    "from datetime import datetime\n",
    "\n",
    "# Calculate whole days between two dates:\n",
    "def get_age_in_days(date_str, anchor_date):\n",
    "    date_str = str(date_str) # In case date_str is already a datetime obj\n",
    "    if date_str[-3:-2] == \":\":\n",
    "        date_str = date_str[:-3] + date_str[-2:]\n",
    "    try:\n",
    "        datetime_object = datetime.strptime(date_str, '%Y-%m-%d %H:%M:%S%z')\n",
    "    except:\n",
    "        datetime_object = datetime.strptime(date_str, '%Y-%m-%d %H:%M:%S.%f%z')\n",
    "    return abs((anchor_date - datetime_object).days)\n",
    "\n",
    "    \n",
    "# Get dates of event:\n",
    "e = Event.objects.all()[0]\n",
    "end = max(e.time_end, e.kw_stream_end, e.gps_stream_end)\n",
    "start = min(e.time_start, e.kw_stream_start, e.gps_stream_start)\n",
    "\n",
    "\n",
    "# Create column for age of account at end of data collection period:\n",
    "users_df['account_age'] = users_df['created_at'].apply(get_age_in_days, args=(end,))\n",
    "\n",
    "# Create column for how early from beginning of event account was first detected:\n",
    "users_df['day_of_detection'] = users_df['added_at'].apply(get_age_in_days, args=(start,))"
   ]
  },
  {
   "cell_type": "code",
   "execution_count": 43,
   "metadata": {},
   "outputs": [],
   "source": [
    "##########################################################################################\n",
    "########## Temporary handling of row with nan for ########################################\n",
    "########## geo_enabled, has_extended_profile, is_translation_enabled, verified: ##########\n",
    "##########################################################################################\n",
    "#users_df = users_df.drop(users_df.index[221])"
   ]
  },
  {
   "cell_type": "code",
   "execution_count": 44,
   "metadata": {},
   "outputs": [
    {
     "name": "stdout",
     "output_type": "stream",
     "text": [
      "data_source\n",
      "[1 3 0] \n",
      "\n",
      "user_class\n",
      "[2 1] \n",
      "\n",
      "day_of_detection\n",
      "[3 5 1 2 6 4 7 8] \n",
      "\n"
     ]
    }
   ],
   "source": [
    "# Check columns for categorical candidates:\n",
    "for col in users_df.columns:\n",
    "    if len(users_df[col].value_counts()) <= 20:\n",
    "        if len(users_df[col].unique()) == 2 and 0 in users_df[col].unique() and 1 in users_df[col].unique():\n",
    "            continue # Already encoded as True/False\n",
    "        print(col)\n",
    "        print(users_df[col].unique(),'\\n')"
   ]
  },
  {
   "cell_type": "code",
   "execution_count": 45,
   "metadata": {},
   "outputs": [],
   "source": [
    "# Encoding categorical columns as one-hot\n",
    "\n",
    "# Only two user_class categories, so binarise:\n",
    "users_df['is_user_class_2'] = users_df['user_class'] == 1.\n",
    "users_df = users_df.drop(['user_class'], axis=1)\n",
    "\n",
    "# Encode data_source categories (data_source=2 excluded as not extant in this dataset)\n",
    "# data_source=0 is not encoded as we only need n-1 columns to represent n categories.\n",
    "users_df['is_data_source_1'] = users_df['data_source'] == 1.\n",
    "#users_df['is_data_source_2'] = users_df['data_source'] == 2.\n",
    "users_df['is_data_source_3'] = users_df['data_source'] == 3.\n",
    "users_df = users_df.drop(['data_source'], axis=1)"
   ]
  },
  {
   "cell_type": "code",
   "execution_count": 46,
   "metadata": {},
   "outputs": [
    {
     "name": "stdout",
     "output_type": "stream",
     "text": [
      "default_profile\n",
      "[False  True]\n",
      "default_profile_image\n",
      "[False  True]\n",
      "geo_enabled\n",
      "[ True False]\n",
      "has_extended_profile\n",
      "[ True False]\n",
      "is_translation_enabled\n",
      "[False  True]\n",
      "verified\n",
      "[False  True]\n",
      "local_profile_location\n",
      "[False  True]\n",
      "local_timezone\n",
      "[ True False]\n",
      "coded_as_witness\n",
      "[False  True]\n",
      "tweet_from_locality\n",
      "[False  True]\n",
      "three_local_metrics\n",
      "[False  True]\n",
      "local_tw_and_local_profile\n",
      "[False  True]\n",
      "local_tw_and_local_tz\n",
      "[False  True]\n",
      "local_tz_and_local_profile\n",
      "[False  True]\n",
      "lang_is_en\n",
      "[ True False]\n",
      "has_translator_type\n",
      "[ True False]\n",
      "has_url\n",
      "[False  True]\n",
      "changed_screen_name\n",
      "[False  True]\n",
      "is_user_class_2\n",
      "[False  True]\n",
      "is_data_source_1\n",
      "[ True False]\n",
      "is_data_source_3\n",
      "[False  True]\n"
     ]
    }
   ],
   "source": [
    "# Convert True/False columns to 0/1\n",
    "for col in users_df.columns:\n",
    "    if len(users_df[col].value_counts()) == 2:\n",
    "        if True in users_df[col].values and False in users_df[col].values:\n",
    "            print(col)\n",
    "            print(users_df[col].unique())\n",
    "            users_df[col] = users_df[col].astype(int)"
   ]
  },
  {
   "cell_type": "code",
   "execution_count": 47,
   "metadata": {},
   "outputs": [],
   "source": [
    "# Fix negative values in in_degree and out_degree: an error from data collection:\n",
    "users_df.loc[users_df['in_degree'] < 0, 'in_degree'] = 0\n",
    "users_df.loc[users_df['out_degree'] < 0, 'out_degree'] = 0"
   ]
  },
  {
   "cell_type": "code",
   "execution_count": 51,
   "metadata": {},
   "outputs": [
    {
     "name": "stdout",
     "output_type": "stream",
     "text": [
      "(1499, 50)\n"
     ]
    }
   ],
   "source": [
    "########################################\n",
    "########################################\n",
    "## Write/read dataframe to temp file ###\n",
    "########################################\n",
    "########################################\n",
    "\n",
    "import pandas as pd\n",
    "path = 'data/harvey_user_location/cleaned_users_df.csv'\n",
    "\n",
    "users_df.to_csv(path)\n",
    "\n",
    "#users_df = pd.read_csv(path, index_col=0) \n",
    "#users_df = users_df.drop(['Unnamed: 0.1'], axis=1)\n",
    "\n",
    "print(users_df.shape)\n",
    "\n",
    "########################################\n",
    "########################################\n",
    "########################################"
   ]
  }
 ],
 "metadata": {
  "kernelspec": {
   "display_name": "Django Shell-Plus",
   "language": "python",
   "name": "django_extensions"
  },
  "language_info": {
   "codemirror_mode": {
    "name": "ipython",
    "version": 3
   },
   "file_extension": ".py",
   "mimetype": "text/x-python",
   "name": "python",
   "nbconvert_exporter": "python",
   "pygments_lexer": "ipython3",
   "version": "3.6.2"
  },
  "toc": {
   "base_numbering": 1,
   "nav_menu": {},
   "number_sections": true,
   "sideBar": true,
   "skip_h1_title": false,
   "title_cell": "Table of Contents",
   "title_sidebar": "Contents",
   "toc_cell": false,
   "toc_position": {},
   "toc_section_display": true,
   "toc_window_display": true
  },
  "varInspector": {
   "cols": {
    "lenName": 16,
    "lenType": 16,
    "lenVar": 40
   },
   "kernels_config": {
    "python": {
     "delete_cmd_postfix": "",
     "delete_cmd_prefix": "del ",
     "library": "var_list.py",
     "varRefreshCmd": "print(var_dic_list())"
    },
    "r": {
     "delete_cmd_postfix": ") ",
     "delete_cmd_prefix": "rm(",
     "library": "var_list.r",
     "varRefreshCmd": "cat(var_dic_list()) "
    }
   },
   "types_to_exclude": [
    "module",
    "function",
    "builtin_function_or_method",
    "instance",
    "_Feature"
   ],
   "window_display": false
  }
 },
 "nbformat": 4,
 "nbformat_minor": 2
}
