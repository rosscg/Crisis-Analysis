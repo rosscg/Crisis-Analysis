{
 "cells": [
  {
   "cell_type": "markdown",
   "metadata": {},
   "source": [
    "# User Location Classification in Hurricane Harvey\n",
    "This is the first notebook in a series which are written primarily as a research logbook for the author. They are therefore not to be considered complete and do not represent the final analysis. For this -- see the final published papers and thesis, or contact the author directly.\n",
    "\n",
    "The goal of this analysis is to evaluate methods by which users Tweeting about Hurricane Harvey may be classified as in the area or otherwise.\n",
    "\n",
    "Data was collected with custom software which observed several Twitter streams and enhanced this information by querying the Twitter REST APIs for the network data (friends and followers) of each author. Stream volume which exceeded the capacity of the REST requests was discarded. \n",
    "* The keyword stream monitored the terms: [#harvey, #harveystorm, #hurricaneharvey, #corpuschristi]\n",
    "* The GPS stream used the bounding box: [-99.9590682, 26.5486063, -93.9790001, 30.3893434]\n",
    "* The collection period ran from 2017-08-26 01:32:18 until 2017-09-02 10:30:52 \n",
    "* 55,605 Tweets by 33,585 unique authors were recorded\n",
    "\n",
    "Data was coded using an interface built into the collection software by a primary coder. A secondary coder coded a sub-set of coded users for validation of the coding schema. User instances were coded by whether they 'appeared to be in the affected area'.\n",
    "\n",
    "These notebooks access the data directly from the database using standard Django query syntax.\n",
    "\n",
    "# Data Cleaning & Enrichment\n",
    "In this chapter, we will investigate the data which was collected by the custom software. It is assessed for suitability for machine learning approaches, and enriched with synthesised features. The final result is a dataframe which is ready for statistical techniques which are presented in later chapters.\n",
    "\n",
    "First we get all the coding instances made by the primary and secondary coders, and check the total codings of each class. There may be multiple coding dimensions (sets of coding schema), in which case the code requires adjustment to constrain to one."
   ]
  },
  {
   "cell_type": "code",
   "execution_count": 1,
   "metadata": {},
   "outputs": [],
   "source": [
    "# Confirm correct database is set in Django settings.py\n",
    "if 'Harvey' not in Event.objects.all()[0].name:\n",
    "    raise Exception('Event name mismatch -- check connected database')"
   ]
  },
  {
   "cell_type": "code",
   "execution_count": 3,
   "metadata": {},
   "outputs": [
    {
     "name": "stdout",
     "output_type": "stream",
     "text": [
      "Dataset:  Hurricane Harvey\n",
      "Coding Dimension:  Local\n",
      "Subject:  user\n",
      "Class Totals (primary / secondary): \n",
      "\t Unsure: \t31 \t/ 5\n",
      "\t Non-Witness: \t1083 \t/ 94\n",
      "\t Witness: \t386 \t/ 52\n",
      "1500 Accounts coded by primary coder, 151 by secondary coder.\n"
     ]
    }
   ],
   "source": [
    "import pandas as pd\n",
    "\n",
    "# Get coding instances of user objects:\n",
    "account_codings = (Coding.objects\n",
    "                    .filter(coding_id=1)\n",
    "                    .filter(user__isnull=False)\n",
    "                    .filter(data_code__data_code_id__gt=0)\n",
    "                  )\n",
    "account_codings_secondary = (Coding.objects\n",
    "                                 .filter(coding_id=2)\n",
    "                                 .filter(user__isnull=False)\n",
    "                            )\n",
    "\n",
    "# Check available coding schema:\n",
    "\n",
    "# Confirm correct database is set in Django settings.py\n",
    "print('Dataset: ', Event.objects.all()[0].name)\n",
    "dimensions = DataCodeDimension.objects.all()[1:]\n",
    "for d in dimensions:\n",
    "    print('Coding Dimension: ', d.name)\n",
    "    print('Subject: ', d.coding_subject)\n",
    "    print('Class Totals (primary / secondary): ')\n",
    "    for code in d.datacode.all():\n",
    "        print(\"\\t {}: \\t{} \\t/ {}\"\n",
    "                .format(code.name, \n",
    "                    account_codings.filter(data_code__id=code.id).count(), \n",
    "                    account_codings_secondary.filter(data_code__id=code.id).count())\n",
    "             )\n",
    "print(\"{} Accounts coded by primary coder, {} by secondary coder.\".format(account_codings.count(), account_codings_secondary.count()))\n",
    "if len(dimensions) > 1: \n",
    "    print('\\tNote: Totals represent sum of all codes from {} dimensions.'.format(len(dimensions)))\n",
    "    print('WARNING: Code in cells below assume one dimension -- adjust to constrain.')"
   ]
  },
  {
   "cell_type": "markdown",
   "metadata": {},
   "source": [
    "We then create a dataframe of all users which have been coded by the primary coder to create the initial dataset. The subjects of the secondary coder are a subset of this set by design."
   ]
  },
  {
   "cell_type": "code",
   "execution_count": 141,
   "metadata": {},
   "outputs": [
    {
     "data": {
      "text/plain": [
       "utc_offset                           920\n",
       "time_zone                            920\n",
       "undirected_eigenvector_centrality    890\n",
       "closeness_centrality                 890\n",
       "degree_centrality                    890\n",
       "eigenvector_centrality               890\n",
       "load_centrality                      890\n",
       "betweenness_centrality               890\n",
       "url                                  808\n",
       "old_screen_name                       98\n",
       "suspended                              0\n",
       "user_network_update_observed_at        0\n",
       "needs_phone_verification               0\n",
       "user_followers                         0\n",
       "katz_centrality                        0\n",
       "is_deleted_observed                    0\n",
       "is_deleted                             0\n",
       "user_followers_update                  0\n",
       "user_following                         0\n",
       "user_following_update                  0\n",
       "dtype: int64"
      ]
     },
     "execution_count": 141,
     "metadata": {},
     "output_type": "execute_result"
    }
   ],
   "source": [
    "# Get all Users coded by primary coder:\n",
    "# (exclude data_code_id=0 as this is the temporary 'to be coded' class)\n",
    "users = User.objects.filter(coding_for_user__coding_id=1, \n",
    "                            coding_for_user__data_code__data_code_id__gt=0)\n",
    "users_df = pd.DataFrame(list(users.values()))\n",
    "\n",
    "# Check for missing values by column:\n",
    "users_df.count()[users_df.count() != account_codings.count()].sort_values(ascending=False)"
   ]
  },
  {
   "cell_type": "markdown",
   "metadata": {},
   "source": [
    "* The centrality measures have a common value. As these values are only calculated for the largest connected component of the graph, this consistency makes sense.\n",
    "* The fields time_zone, utc_offset, old_screen_name, and url are nullable.\n",
    "* Twitter has deprecated the field 'needs_phone_verification', so no values were returned.\n",
    "* Various 0 value fields had been added to the database schema but were not implemented at the time of collection. These can be safely dropped."
   ]
  },
  {
   "cell_type": "code",
   "execution_count": 142,
   "metadata": {},
   "outputs": [],
   "source": [
    "# Dropping empty columns\n",
    "empty_cols = users_df.columns[users_df.isnull().all()]\n",
    "users_df.drop(empty_cols, axis=1, inplace=True)"
   ]
  },
  {
   "cell_type": "markdown",
   "metadata": {},
   "source": [
    "We can also drop columns which have a single value, as they provide no differentiation:"
   ]
  },
  {
   "cell_type": "code",
   "execution_count": 146,
   "metadata": {},
   "outputs": [
    {
     "name": "stdout",
     "output_type": "stream",
     "text": [
      "Dropping columns:  protected\n",
      "Dropping columns:  ratio_media\n",
      "Dropping columns:  user_class\n"
     ]
    }
   ],
   "source": [
    "# Drop columns with only one unique value:\n",
    "for col in users_df.columns:\n",
    "    if len(users_df[col].value_counts()) <= 1:\n",
    "        print('Dropping columns: ', col)\n",
    "        users_df = users_df.drop([col], axis=1)"
   ]
  },
  {
   "cell_type": "markdown",
   "metadata": {},
   "source": [
    "## Adding Location Data\n",
    "There are a number of options which can represent the ground truth location of the user.\n",
    "* Location listed on a user's profile\n",
    "* User Timezone (deprecated)\n",
    "* Manual Coding\n",
    "* Location data derived from Tweet stream\n",
    "    * GPS tagged Tweets\n",
    "    * Mention of location in Tweet body\n",
    "    \n",
    "### Parsing user-set location in profile field\n",
    "The location the user sets in their profile as a string is evaluated and a locality decision made. In this instance, a location is considered 'local' if its coordinates (supplied by the Google geolocation API or parsed directly from the location string) fall within the bounding box used for geographic Twitter data collection, or if it contains the string 'houston' or 'christi' (representing the town Corpus Christi). Both of these locations fall within the bounding box, and are used here as a time-saving operation.\n",
    "\n",
    "Note that as this field can be set manually, it is unverifiable and therefore not a perfect representation of location, even where it exists. Users may neglect to update their location after moving, and some observations were made of users setting their location to that of a disaster event as a 'show of solidarity'."
   ]
  },
  {
   "cell_type": "code",
   "execution_count": 137,
   "metadata": {},
   "outputs": [],
   "source": [
    "## This block supports manual coding of locations as local or non-local.\n",
    "## It has been superceded by the next block which uses the Googlemaps API\n",
    "\n",
    "#location_list = users_df.location.unique()\n",
    "#with open('data/harvey_user_location/location_list_all_profile_locations.txt', 'w') as f:\n",
    "#    for item in location_list:\n",
    "#        f.write(\"%s\\n\" % item)\n",
    "\n",
    "################\n",
    "## This list then manually sorted and non-local locations removed.\n",
    "## List of local locations then re-imported.\n",
    "## Note this list excludes any locations containing 'Christi' or 'Houston'\n",
    "## Note: if more users are coded, this list needs to be re-examined. Raise alert:\n",
    "#if users_df.shape[0] != 931:\n",
    "#    print('ALERT: New codings detected. Consider updating manual locality selection')\n",
    "################\n",
    "\n",
    "#with open('data/harvey_user_location/local_profile_locations_manual_check.txt', 'r') as f:\n",
    "#    local_locations_list = f.read().splitlines()\n",
    "    \n",
    "## Create column for users with local location listed in profile\n",
    "#users_df['local_profile_location_manual'] = \\\n",
    "#    (users_df.location.str.contains('houston|christi', case=False, regex=True) |\n",
    "#    users_df.location.isin(local_locations_list))"
   ]
  },
  {
   "cell_type": "code",
   "execution_count": 7,
   "metadata": {},
   "outputs": [],
   "source": [
    "import re\n",
    "\n",
    "def parse_coordinates(string):\n",
    "    '''Parse a string for coordinates'''\n",
    "    reg = '[nsewNSEW]?\\s?-?\\d+[\\.°]\\s?\\d+°?\\s?[nsewNSEW]?'\n",
    "    result = re.findall(reg, string)\n",
    "    if len(result) == 2: # Coordinates detected\n",
    "        for i in range(len(result)):\n",
    "            # Replace middle degree symbol with decimal:\n",
    "            reg_middle_degree = '(\\d+)°\\s?(\\d+)'\n",
    "            result[i] = re.sub(reg_middle_degree, r'\\1.\\2', result[i])\n",
    "            # Remove trailing degree symbol, N and E marks:\n",
    "            reg_strip = '[°neNE\\s]'\n",
    "            result[i] = re.sub(reg_strip, '', result[i])\n",
    "            # Replace south/west with negative sign:\n",
    "            reg_replace_sw = '[swSW](\\d+\\.\\d+)|(\\d+\\.\\d+)[swSW]'\n",
    "            result[i] = re.sub(reg_replace_sw, r'-\\1\\2', result[i])\n",
    "            # Remove double negative (where string contained eg. '-99.10w')\n",
    "            result[i] = re.sub('--', '-', result[i])\n",
    "        return (float(result[0]), float(result[1]))\n",
    "    else:\n",
    "        return False"
   ]
  },
  {
   "cell_type": "code",
   "execution_count": 8,
   "metadata": {},
   "outputs": [],
   "source": [
    "import yaml\n",
    "import googlemaps\n",
    "\n",
    "def is_in_bounding_box(coords, boxes):\n",
    "    '''\n",
    "    Check whether coordinates fall within defined bounding box:\n",
    "    Boxes are defined as their NW and SE points.\n",
    "    '''\n",
    "    for box in boxes:\n",
    "        if coords[0] < box[0][0] and coords[0] > box[1][0]:\n",
    "            if coords[1] > box[0][1] and coords[1] < box[1][1]:\n",
    "                return True\n",
    "    return False\n",
    "\n",
    "\n",
    "def is_local(location, boxes, known_localities=[]):\n",
    "    '''\n",
    "    Check whether a location string falls within a set of \n",
    "    bounding boxes using Googlemaps API.\n",
    "    '''\n",
    "    if not location:\n",
    "        return False\n",
    "    # Check known localities first to save on API requests:\n",
    "    for x in known_localities:\n",
    "        if x in location:\n",
    "            return True\n",
    "    # Try and parse coordinates from string rather than API query:\n",
    "    coords = parse_coordinates(location)\n",
    "    # Get coords from API:\n",
    "    if not coords:\n",
    "        # Get API key from file:\n",
    "        with open(\"auth.yml\", 'r') as ymlfile:\n",
    "            auth = yaml.load(ymlfile, Loader=yaml.BaseLoader)\n",
    "        gmaps = googlemaps.Client(key=auth['apikeys']['googlemaps'])\n",
    "        #########################################################\n",
    "        ####### OVERRIDE API OBJECT TO PREVENT API CALLS: #######\n",
    "        geocode_result = gmaps.geocode(location)\n",
    "        #geocode_result = False\n",
    "        #print('WARNING -- API DISABLED')\n",
    "        #########################################################\n",
    "        #########################################################\n",
    "        if geocode_result:\n",
    "            lat = geocode_result[0]['geometry']['location']['lat']\n",
    "            lon = geocode_result[0]['geometry']['location']['lng']\n",
    "            coords = (lat, lon)\n",
    "    if coords:\n",
    "        return(is_in_bounding_box(coords, boxes))\n",
    "    return False"
   ]
  },
  {
   "cell_type": "code",
   "execution_count": 13,
   "metadata": {},
   "outputs": [],
   "source": [
    "# Bounding boxes used for Hurricane Harvey dataset:\n",
    "boxes = [[(29.1197,-99.9590682),(26.5486063,-97.5021)],\n",
    "        [(30.3893434,-97.5021),(26.5486063,-93.9790001)]]\n",
    "# Don't need to look these up (save on API requests)\n",
    "known_localities = ['houston', 'christi']\n",
    "\n",
    "# Get list of locations in profiles:\n",
    "users_df[\"location\"] = users_df[\"location\"].str.lower().str.strip()\n",
    "location_list = users_df.location.dropna().unique()\n",
    "\n",
    "# Create sublist of local/non-local locations (non-local only for manual verification)\n",
    "print(\"Running is_local() for {} strings...\".format(len(location_list)))\n",
    "local_location_list = [loc for loc in location_list if is_local(loc, boxes, known_localities)]\n",
    "non_local_location_list = [loc for loc in location_list if loc not in local_location_list]\n",
    "\n",
    "# Create column for users with local location listed in profile\n",
    "users_df['local_profile_location'] = users_df.location.str.lower().isin(local_location_list)\n",
    "\n",
    "# Write lists to file to save calling API on kernel restart:\n",
    "with open('data/harvey_user_location/location_list_from_api_local.txt', 'w') as f:\n",
    "    for item in local_location_list:\n",
    "        f.write(\"%s\\n\" % item)\n",
    "with open('data/harvey_user_location/location_list_from_api_non_local.txt', 'w') as f:\n",
    "    for item in non_local_location_list:\n",
    "        f.write(\"%s\\n\" % item)"
   ]
  },
  {
   "cell_type": "code",
   "execution_count": 21,
   "metadata": {},
   "outputs": [],
   "source": [
    "# Use cached locations instead of querying API:\n",
    "#users_df[\"location\"] = users_df[\"location\"].str.lower().str.strip()\n",
    "#local_location_list_cached = []\n",
    "#with open('data/harvey_user_location/location_list_from_api_local.txt', 'r') as f:\n",
    "#    for line in f:\n",
    "#        local_location_list_cached.append(line.rstrip('\\n'))\n",
    "#users_df['local_profile_location'] = users_df.location.str.lower().isin(local_location_list)"
   ]
  },
  {
   "cell_type": "markdown",
   "metadata": {},
   "source": [
    "### Timezone Field\n",
    "Timezone data provided by Twitter when capturing the user objects is less specific than other methods, but may be useful as a supplementary source.\n",
    "As this data field has been deprecated by Twitter, it will not be available in new data sets."
   ]
  },
  {
   "cell_type": "code",
   "execution_count": 26,
   "metadata": {},
   "outputs": [
    {
     "name": "stdout",
     "output_type": "stream",
     "text": [
      "Central Time (US & Canada)     341\n",
      "Eastern Time (US & Canada)     197\n",
      "Pacific Time (US & Canada)     177\n",
      "Mountain Time (US & Canada)     37\n",
      "Quito                           25\n",
      "Name: time_zone, dtype: int64\n"
     ]
    }
   ],
   "source": [
    "# View most prevalent time zones:\n",
    "print(users_df['time_zone'].value_counts().head())\n",
    "\n",
    "# Create column for profiles in relevant time zone (chosen manually):\n",
    "relevant_timezone = 'Central Time (US & Canada)'\n",
    "users_df['local_timezone'] = users_df.time_zone == relevant_timezone\n",
    "users_df = users_df.drop(['time_zone', 'utc_offset'], axis=1)"
   ]
  },
  {
   "cell_type": "markdown",
   "metadata": {},
   "source": [
    "### Manual Coding\n",
    "Accounts were manually coded as 'local' or 'non-local'.\n",
    "\n",
    "Coders were shown the user account details as well as the Twitter stream of the user. The coders were instructed to determine whether the user account was in an area affected by the hurricane at any point during the data collection period. Therefore, the term 'local' may be misleading to the reader, as the definition given to the coders will include anyone visiting the area as, for example, a responder or aid worker. This larger set of 'on the ground' users is a more useful target for classification."
   ]
  },
  {
   "cell_type": "code",
   "execution_count": 27,
   "metadata": {},
   "outputs": [],
   "source": [
    "# Create column to represent manual coding:\n",
    "users_df['coded_as'] = \\\n",
    "    users_df['screen_name'].apply(lambda x: account_codings.get(user__screen_name = x).data_code.name)\n",
    "\n",
    "# Convert to one-hot encoding\n",
    "users_df['coded_as_witness'] = users_df['coded_as'] == 'Witness'\n",
    "users_df['coded_as_non_witness'] = users_df['coded_as'] == 'Non-Witness'\n",
    "\n",
    "# Remove original column:\n",
    "users_df = users_df.drop(['coded_as'], axis=1)"
   ]
  },
  {
   "cell_type": "markdown",
   "metadata": {},
   "source": [
    "The 'Unsure' code is represented as `False` values in both the `coded_as_witness` and `coded_as_non_witness` columns. If the 'Unsure' rows are removed, we can also remove the `coded_as_non_witness` column (which is now represented as `False` in the `coded_as_witness` column).\n",
    "<br /><br />\n",
    "\n",
    "### GPS from Tweet stream\n",
    "While the Tweets detected by the system may not contain GPS data, the author may have made other GPS-enabled Tweets during the collection period from which we can infer location. We create a column representing whether the user made any geolocated Tweets within the bounding box during the collection period."
   ]
  },
  {
   "cell_type": "code",
   "execution_count": 28,
   "metadata": {},
   "outputs": [
    {
     "name": "stdout",
     "output_type": "stream",
     "text": [
      "1500\n",
      "User 10 of 1500: ChristiWilliams\n",
      "User 20 of 1500: OliviaFett\n",
      "User 30 of 1500: UHhousing\n",
      "User 40 of 1500: SmallTownDicks\n",
      "User 50 of 1500: WmBrockschmidt\n",
      "User 60 of 1500: marc_ahx\n",
      "User 70 of 1500: TamaraChanel\n",
      "User 80 of 1500: VotersDemand\n",
      "User 90 of 1500: MC_Halo687\n",
      "User 100 of 1500: TheBlazeKari\n",
      "User 110 of 1500: Ambersallin\n",
      "User 120 of 1500: Hamal\n",
      "User 130 of 1500: JMarkMcGinnis\n",
      "User 140 of 1500: deleon_sarita\n",
      "User 150 of 1500: meaneyreport\n",
      "User 160 of 1500: touchawe\n",
      "User 170 of 1500: Devil_dog_71\n",
      "User 180 of 1500: 2020Jobs\n",
      "User 190 of 1500: stevenmaislin\n",
      "User 200 of 1500: bquentin3\n",
      "Error with user:  TCAIS\n",
      "User 210 of 1500: Oscarluism_\n",
      "User 220 of 1500: hillarybeth\n",
      "Error with user:  SEFLCareers\n",
      "User 230 of 1500: homesteadraised\n",
      "User 240 of 1500: ArmyBtownAD\n",
      "User 250 of 1500: MagentaMelee\n",
      "User 260 of 1500: thepaigelewis\n",
      "User 270 of 1500: meVschristina\n",
      "User 280 of 1500: AvvBrosisky\n",
      "User 290 of 1500: JeremiahWheele1\n",
      "User 300 of 1500: KurtLKrieger\n",
      "User 310 of 1500: TrueDumbBlonde\n",
      "User 320 of 1500: MrAbdelLHS\n",
      "User 330 of 1500: LandlordLinks\n",
      "User 340 of 1500: gfbakery2014\n",
      "User 350 of 1500: JCP803\n",
      "User 360 of 1500: GinoMerlot\n",
      "User 370 of 1500: MeSSiaH_808\n",
      "User 380 of 1500: callinlexie\n",
      "User 390 of 1500: nikkinik528\n",
      "User 400 of 1500: JNLIII\n",
      "User 410 of 1500: IntentionallyKB\n",
      "User 420 of 1500: ezoptical\n",
      "User 430 of 1500: CabriLuigi\n",
      "User 440 of 1500: Bo_Wright\n",
      "User 450 of 1500: itzshelleybell\n",
      "User 460 of 1500: RWonMaui\n",
      "User 470 of 1500: Felixcalvince\n",
      "User 480 of 1500: PatMateluna\n",
      "User 490 of 1500: petermlotzemd1\n",
      "User 500 of 1500: IAmRobWu\n",
      "User 510 of 1500: TeviTroy\n",
      "User 520 of 1500: lovelyalica_\n",
      "User 530 of 1500: BizarroLuthor\n",
      "User 540 of 1500: austintindle\n",
      "User 550 of 1500: 2GrkGrls\n",
      "User 560 of 1500: weapon83\n",
      "User 570 of 1500: corgli\n",
      "User 580 of 1500: Heat975Action\n",
      "User 590 of 1500: SequoiaRE_EB\n",
      "User 600 of 1500: guss813\n",
      "User 610 of 1500: fatrat282\n",
      "User 620 of 1500: WendyFinneyWood\n",
      "User 630 of 1500: JohnnyKey_AR\n",
      "User 640 of 1500: SNSPP_PATS_FO_\n",
      "User 650 of 1500: NJS4EVER\n",
      "User 660 of 1500: ntebdwa\n",
      "User 670 of 1500: y81de\n",
      "User 680 of 1500: JackieSGolf\n",
      "User 690 of 1500: ThingsToShea\n",
      "User 700 of 1500: dallasreese\n",
      "User 710 of 1500: TurkWarfield\n",
      "User 720 of 1500: KaruniaAgung\n",
      "User 730 of 1500: catsterle\n",
      "User 740 of 1500: Jonathan4743\n",
      "User 750 of 1500: joal1969\n",
      "User 760 of 1500: youremysonshine\n",
      "User 770 of 1500: s_mellors\n",
      "User 780 of 1500: iamluvlady\n",
      "User 790 of 1500: MerrisBadcock\n",
      "User 800 of 1500: VictoriaBBurns\n",
      "User 810 of 1500: Margaret8OK\n",
      "User 820 of 1500: vicentearenastv\n",
      "User 830 of 1500: golivent1\n",
      "User 840 of 1500: ConmayS\n",
      "User 850 of 1500: EthanEmeryWX\n",
      "User 860 of 1500: LeahKWilliams\n",
      "User 870 of 1500: sameolg713\n",
      "User 880 of 1500: yanaincali\n",
      "User 890 of 1500: ChannelE2E\n",
      "User 900 of 1500: DJDLuxTx\n",
      "User 910 of 1500: SWELGL\n",
      "User 920 of 1500: abestesq\n",
      "User 930 of 1500: kyle_reidy\n",
      "User 940 of 1500: dontgruberme\n",
      "User 950 of 1500: BaneSaysTrump\n",
      "User 960 of 1500: dariameetsworld\n",
      "User 970 of 1500: SharpstownTX\n",
      "User 980 of 1500: RogueSquadronMC\n",
      "User 990 of 1500: shortmotivation\n",
      "User 1000 of 1500: DanielMoralesTV\n",
      "User 1010 of 1500: rcantu\n",
      "User 1020 of 1500: ZestyOrangePic\n",
      "User 1030 of 1500: ElenaRsv\n",
      "User 1040 of 1500: BeyondBlunt\n",
      "User 1050 of 1500: biominer86\n",
      "User 1060 of 1500: MikeImken\n",
      "User 1070 of 1500: Rosa_Sherrod\n",
      "User 1080 of 1500: wifeofJW\n",
      "User 1090 of 1500: AndreaROMANIN1\n",
      "User 1100 of 1500: TheBarkingPigTX\n",
      "User 1110 of 1500: lesleymesser\n",
      "User 1120 of 1500: Renate651\n",
      "User 1130 of 1500: BarryMyhawginya\n",
      "User 1140 of 1500: PepperBurns1\n",
      "User 1150 of 1500: RedPoliticalMan\n",
      "User 1160 of 1500: MrsBoothSays\n",
      "User 1170 of 1500: Foundry_HB\n",
      "User 1180 of 1500: VenatoreMedia\n",
      "User 1190 of 1500: KimiKentMusic\n",
      "User 1200 of 1500: SociologyofCC\n",
      "User 1210 of 1500: mlweldon5\n",
      "User 1220 of 1500: _ItEndsNow_\n",
      "User 1230 of 1500: LexeyJohnson\n",
      "User 1240 of 1500: not_DonnyTrump\n",
      "User 1250 of 1500: plsimmo\n",
      "User 1260 of 1500: lillamb1997\n",
      "User 1270 of 1500: JayleenHeft\n",
      "User 1280 of 1500: PrayerPictures\n",
      "User 1290 of 1500: HoustonISDGov\n",
      "User 1300 of 1500: BrownsteinHyatt\n",
      "User 1310 of 1500: olivesjoy\n",
      "User 1320 of 1500: bellinissima\n",
      "User 1330 of 1500: SUSANIRELAND4\n",
      "User 1340 of 1500: onlndtng_sucks\n",
      "User 1350 of 1500: DiscoverDior\n",
      "User 1360 of 1500: SMLaughna\n",
      "User 1370 of 1500: TweetsfromMsB\n",
      "User 1380 of 1500: ConveyerOfCool\n",
      "User 1390 of 1500: ocuellar10\n",
      "User 1400 of 1500: BusinessMoney5\n",
      "User 1410 of 1500: Ejwhite0\n",
      "User 1420 of 1500: Justin_Horne\n",
      "User 1430 of 1500: t3hasian\n",
      "User 1440 of 1500: palomaresjl\n",
      "User 1450 of 1500: SMUTexasMexico\n",
      "User 1460 of 1500: WeAreGoLocal\n",
      "User 1470 of 1500: ScoopALoop3\n",
      "User 1480 of 1500: JennyWCVB\n",
      "User 1490 of 1500: GalvHistory\n",
      "User 1500 of 1500: acman2k6\n"
     ]
    }
   ],
   "source": [
    "# Check whether any of a user's Tweets fall within the bounding box and update column:\n",
    "# This will take several minutes to run\n",
    "\n",
    "users_df['tweet_from_locality'] = False\n",
    "users = users_df.screen_name.tolist()\n",
    "\n",
    "for i in range(len(users)):\n",
    "    if i%100 == 0:\n",
    "        print('Progress: {} of {}: {}'.format(i, len(users)))\n",
    "    try:\n",
    "        geo_tweets = User.objects.get(screen_name=u).tweet.filter(coordinates_lat__isnull=False)\n",
    "    except:\n",
    "        print('Error with user: ', u)\n",
    "        continue\n",
    "    for tweet in geo_tweets:\n",
    "        coords = (tweet.coordinates_lat, tweet.coordinates_lon)\n",
    "        if is_in_bounding_box(coords, boxes):\n",
    "            users_df.loc[users_df['screen_name'] == u, 'tweet_from_locality'] = True\n",
    "            break"
   ]
  },
  {
   "cell_type": "markdown",
   "metadata": {},
   "source": [
    "###  Temporary Export\n",
    "The dataframe is exported to a csv file before further manipulation (and column dropping) to avoid repeating the expensive tasks above."
   ]
  },
  {
   "cell_type": "code",
   "execution_count": 135,
   "metadata": {},
   "outputs": [],
   "source": [
    "import pandas as pd\n",
    "path = 'data/harvey_user_location/df_users_temp.csv'\n",
    "\n",
    "# Sanitise description field:\n",
    "users_df[\"description\"] = users_df[\"description\"].str.replace(\"\\r\", \" \")\n",
    "users_df.to_csv(path)"
   ]
  },
  {
   "cell_type": "code",
   "execution_count": 136,
   "metadata": {},
   "outputs": [],
   "source": [
    "# Re-import and check rows match:\n",
    "orig_shape = users_df.shape\n",
    "users_df_temp = pd.read_csv(path, index_col=0)\n",
    "if users_df_temp.shape == orig_shape:\n",
    "    users_df = users_df_temp\n",
    "else:\n",
    "    print(\"Shape mis-match. Check string sanitisation\")"
   ]
  },
  {
   "cell_type": "markdown",
   "metadata": {},
   "source": [
    "## Data Enrichment\n",
    "New features are synthesised from existing data.\n",
    "\n",
    "\n",
    "Columns are added which represent the age of the user account (at the time of original collection) and at which point during the event the account was first detected by the stream."
   ]
  },
  {
   "cell_type": "code",
   "execution_count": 147,
   "metadata": {},
   "outputs": [],
   "source": [
    "# Create columns to represent age of account at time of detection, and how soon\n",
    "# after the beginning of the event that the account was first detected.\n",
    "\n",
    "from datetime import datetime\n",
    "\n",
    "# Calculate whole days between two dates:\n",
    "def get_age_in_days(date_str, anchor_date):\n",
    "    date_str = str(date_str) # In case date_str is already a datetime obj\n",
    "    if date_str[-3:-2] == \":\":\n",
    "        date_str = date_str[:-3] + date_str[-2:]\n",
    "    try:\n",
    "        datetime_object = datetime.strptime(date_str, '%Y-%m-%d %H:%M:%S%z')\n",
    "    except:\n",
    "        datetime_object = datetime.strptime(date_str, '%Y-%m-%d %H:%M:%S.%f%z')\n",
    "    return abs((anchor_date - datetime_object).days)\n",
    "\n",
    "    \n",
    "# Get dates of event:\n",
    "e = Event.objects.all()[0]\n",
    "end = max(e.time_end, e.kw_stream_end, e.gps_stream_end)\n",
    "start = min(e.time_start, e.kw_stream_start, e.gps_stream_start)\n",
    "\n",
    "\n",
    "# Create column for age of account at end of data collection period:\n",
    "users_df['account_age'] = users_df['created_at'].apply(get_age_in_days, args=(end,))\n",
    "\n",
    "# Create column for how early from beginning of event account was first detected:\n",
    "users_df['day_of_detection'] = users_df['added_at'].apply(get_age_in_days, args=(start,))"
   ]
  },
  {
   "cell_type": "markdown",
   "metadata": {},
   "source": [
    "An error in data collection allowed some `in_degree` and `out_degree` values to become negative. These are adjusted to 0. \n",
    "\n",
    "Note: It is possible that other entries have values one lower than what they should be."
   ]
  },
  {
   "cell_type": "code",
   "execution_count": 118,
   "metadata": {},
   "outputs": [],
   "source": [
    "# Fix negative values in in_degree and out_degree: an error from data collection:\n",
    "users_df.loc[users_df['in_degree'] < 0, 'in_degree'] = 0\n",
    "users_df.loc[users_df['out_degree'] < 0, 'out_degree'] = 0"
   ]
  },
  {
   "cell_type": "markdown",
   "metadata": {},
   "source": [
    "## Feature Encoding\n",
    "Qualitative columns are converted into formats interpretable by a model."
   ]
  },
  {
   "cell_type": "code",
   "execution_count": 148,
   "metadata": {},
   "outputs": [],
   "source": [
    "# Create column to represent length of profile description:\n",
    "users_df['description_length'] = users_df.description.str.len()\n",
    "#users_df = users_df.drop(['description_length'], axis=1)\n",
    "\n",
    "# Profile language is English:\n",
    "users_df['lang_is_en'] = users_df['lang'] == 'en'\n",
    "users_df = users_df.drop(['lang'], axis=1)\n",
    "\n",
    "# translator_type exists:\n",
    "users_df['has_translator_type'] = users_df['translator_type'] != 'none'\n",
    "users_df = users_df.drop(['translator_type'], axis=1)\n",
    "\n",
    "# Url in profile:\n",
    "users_df['has_url'] = users_df['url'].notnull()\n",
    "\n",
    "# User has changed screen_name during collection period:\n",
    "users_df['changed_screen_name'] = users_df['old_screen_name'].notnull()"
   ]
  },
  {
   "cell_type": "markdown",
   "metadata": {},
   "source": [
    "We check for columns which should be represented categorically by counting the unique values in each column (under the assumption that categorical variables will have fewer than 20 unique values):"
   ]
  },
  {
   "cell_type": "code",
   "execution_count": 105,
   "metadata": {},
   "outputs": [
    {
     "name": "stdout",
     "output_type": "stream",
     "text": [
      "data_source\n",
      "[1 3] \n",
      "\n",
      "day_of_detection\n",
      "[3 5 1 2 6 4 7 8] \n",
      "\n"
     ]
    }
   ],
   "source": [
    "# Check columns for categorical candidates:\n",
    "for col in users_df.columns:\n",
    "    if len(users_df[col].value_counts()) <= 20:\n",
    "        if len(users_df[col].unique()) == 2 and 0 in users_df[col].unique() and 1 in users_df[col].unique():\n",
    "            continue # Already encoded as True/False\n",
    "        print(col)\n",
    "        print(users_df[col].unique(),'\\n')"
   ]
  },
  {
   "cell_type": "markdown",
   "metadata": {},
   "source": [
    "`day_of_detection` is an ordinal feature and is therefore untouched.\n",
    "\n",
    "`data_source` is a categorical feature, so we re-encode it as a binary value. Here, the values of 1 and 3 are arbitrary (the 2 value was not implemented in the collection process)."
   ]
  },
  {
   "cell_type": "code",
   "execution_count": 107,
   "metadata": {},
   "outputs": [],
   "source": [
    "# Encoding categorical columns as one-hot:\n",
    "# data_source==1 is not encoded as we only need n-1 columns to represent n categories.\n",
    "users_df['is_data_source_3'] = users_df['data_source'] == 3.\n",
    "users_df = users_df.drop(['data_source'], axis=1)"
   ]
  },
  {
   "cell_type": "markdown",
   "metadata": {},
   "source": [
    "True/False columns are converted to 1/0 values for model compatibility"
   ]
  },
  {
   "cell_type": "code",
   "execution_count": 113,
   "metadata": {},
   "outputs": [
    {
     "name": "stdout",
     "output_type": "stream",
     "text": [
      "Converting columns from boolean to binary:\n",
      "\n",
      "default_profile\n",
      "default_profile_image\n",
      "geo_enabled\n",
      "has_extended_profile\n",
      "is_translation_enabled\n",
      "verified\n",
      "local_profile_location\n",
      "local_timezone\n",
      "coded_as_witness\n",
      "coded_as_non_witness\n",
      "tweet_from_locality\n",
      "lang_is_en\n",
      "has_translator_type\n",
      "has_url\n",
      "changed_screen_name\n",
      "is_data_source_3\n"
     ]
    }
   ],
   "source": [
    "# Convert True/False columns to 1/0\n",
    "print('Converting columns from boolean to binary:\\n')\n",
    "for col in users_df.columns:\n",
    "    if (len(users_df[col].value_counts()) == 2 and \n",
    "            True in users_df[col].values and \n",
    "            False in users_df[col].values):\n",
    "        print(col)\n",
    "        users_df[col] = users_df[col].astype(int)"
   ]
  },
  {
   "cell_type": "markdown",
   "metadata": {},
   "source": [
    "## Export to File"
   ]
  },
  {
   "cell_type": "code",
   "execution_count": 124,
   "metadata": {},
   "outputs": [
    {
     "name": "stdout",
     "output_type": "stream",
     "text": [
      "Dataframe exported to CSV.\n",
      "(1500, 45)\n"
     ]
    }
   ],
   "source": [
    "import pandas as pd\n",
    "\n",
    "path = 'data/harvey_user_location/df_users.csv'\n",
    "\n",
    "users_df.to_csv(path)\n",
    "\n",
    "# Re-import and check rows match:\n",
    "orig_shape = users_df.shape\n",
    "users_df_temp = pd.read_csv(path, index_col=0)\n",
    "if users_df_temp.shape == orig_shape:\n",
    "    users_df = users_df_temp\n",
    "    print('Dataframe exported to CSV.')\n",
    "    print(users_df.shape)\n",
    "else:\n",
    "    print(\"Shape mis-match. Check string sanitisation\")\n"
   ]
  },
  {
   "cell_type": "markdown",
   "metadata": {},
   "source": [
    "# Testing Community Detection Data\n",
    "\n",
    "<img src=\"./data/harvey_user_location/img/harvey-network-structure.png\" alt=\"network-structure\" style=\"width: 600px;\"/>\n",
    "\n",
    "A visual inspection of the follower/friend network of detected users (pictured above) shows a clear community structure. This suggests that there are certain user features that influence the propensity for a user to follow another user with similar features. These may be features which we have observed and recorded, or other features which we cannot predict. This can be tested by using community detection algorithms to partition the nodes of the graph into these communities, and then comparing these partitions to features with which they may be associated. Primarily, we are interested in whether these communities are related to whether a user is a 'witness' or not, as per our manual coding. If this is the case, the community metrics can be a useful feature in our models.\n",
    "\n",
    "The image below shows a representation of the same network structure, where only the 1500 coded nodes are displayed in colours which represent their codes. The general grouping of orange nodes towards one section of the graph which corresponds with a community cluster shown in the original graph structure suggests that this community contains a greater proportion of witness nodes and therefore is a dependent feature. A preliminary hypothesis is that local users are more likely to follow one another (thus forming this community) and are also more likely to be witnesses. If true, this community could accurately predict which users are local and therefore, more likely to be witnesses.\n",
    "\n",
    "<img src=\"./data/harvey_user_location/img/harvey-network-structure-coded.png\" alt=\"network-structure-coded\" style=\"width: 600px;\"/>\n",
    "\n",
    "The following image shows the output of a community detection algorithm which has partitioned the graph. In this example, the pink community appears to represent the witness group shown in the previous image.\n",
    "\n",
    "<img src=\"./data/harvey_user_location/img/harvey-network-structure-community.png\" alt=\"network-structure-community\" style=\"width: 600px;\"/>\n",
    "\n",
    "## Evaluating Community Algorithms\n",
    "In the following section, the original dataframe is enhanced with modularity metrics. These are features which are calculated based upon the graph structure of the user friend/follower network. There are a number of community detection algorithms, so a set of these have been calculated to be tested and compared for association to the target (witness) class.\n",
    "\n",
    "Community metrics were calculated using the `networkx` implementations of `greedy_modularity_communities`, `label_propagation_communities`, `asyn_lpa_communities`, `asyn_fluidc` and `community_louvain` from the `community` package. These were performed in a separate script for the sake of testing and will ideally be calculated by the data collection software at the end of the collection process in future iterations.\n",
    "\n",
    "The graph includes all detected users (i.e. not their followers/friends unless they were also detected as authors) for a total of 31,496 nodes and 99,602 edges. Community detection was performed on subgraph representing the largest connected component of 17,958 nodes and 75,203 edges. \n",
    "\n",
    "As most algorithms require an undirected graph, the direction of relationships was ignored.\n",
    "\n",
    "Communities are labelled as numbers according to their ranking in size (where 0 is the largest), thus the labels have some level of ordinality."
   ]
  },
  {
   "cell_type": "code",
   "execution_count": 45,
   "metadata": {},
   "outputs": [],
   "source": [
    "import networkx as nx\n",
    "\n",
    "def get_graph_object():\n",
    "    EVENT_NAME = Event.objects.all()[0].name.replace(' ', '')\n",
    "    FILENAME = 'network_data_{}_v1.gexf'.format(EVENT_NAME)\n",
    "    DIR = './data/harvey_user_location/'\n",
    "    try:\n",
    "        # Load cached file if available\n",
    "        G = nx.read_gexf(DIR + FILENAME)\n",
    "        print('Importing existing graph object...')\n",
    "    except:\n",
    "        print('Creating new graph object...')\n",
    "        classed_users = User.objects.filter(user_class__gte=1)\n",
    "        edges = Relo.objects.filter(target_user__in=classed_users, source_user__in=classed_users, end_observed_at=None)\n",
    "        G=nx.DiGraph()\n",
    "        for node in classed_users:\n",
    "            try:\n",
    "                user_code = node.coding_for_user.filter(coding_id=1).exclude(data_code__name='To Be Coded')[0].data_code.name\n",
    "            except:\n",
    "                user_code = ''\n",
    "            G.add_node(node.screen_name, user_class=node.user_class, user_code=user_code)\n",
    "        edge_list = [(edge.source_user.screen_name, edge.target_user.screen_name) for edge in edges]\n",
    "        G.add_edges_from(edge_list)\n",
    "        # Write to file and re-import to bypass issue with community algorithms\n",
    "        nx.write_gexf(G, DIR + FILENAME, prettyprint=True)\n",
    "        G = nx.read_gexf(DIR + FILENAME)\n",
    "    return G"
   ]
  },
  {
   "cell_type": "code",
   "execution_count": 46,
   "metadata": {},
   "outputs": [],
   "source": [
    "# Modularity:   https://scholar.google.com/scholar?q=Finding+community+structure+in+very+large+networks\n",
    "# Label Prop:   https://neo4j.com/docs/graph-algorithms/current/algorithms/label-propagation/#algorithms-label-propagation-sample\n",
    "# Louvain:      https://github.com/taynaud/python-louvain/blob/master/docs/index.rst\n",
    "\n",
    "import networkx as nx\n",
    "from networkx.algorithms.community import greedy_modularity_communities, label_propagation_communities, asyn_lpa_communities, asyn_fluidc, girvan_newman\n",
    "import community as community_louvain\n",
    "from collections import Counter\n",
    "\n",
    "def calc_community_metrics(filename=False, G=None):\n",
    "    DIR = './data/harvey_user_location/'\n",
    "    \n",
    "    FLIUD_COMMUNITIES_NUMBER = 8\n",
    "    RETURN_GIANT_COMPONENT = True # Only save giant component to graph objects\n",
    "    \n",
    "    if filename:\n",
    "        try:\n",
    "            # Load cached file if available\n",
    "            G = nx.read_gexf(DIR + filename)\n",
    "            print('Importing existing community graph object...')\n",
    "            return G\n",
    "        except:\n",
    "            pass\n",
    "    \n",
    "    print('Calculating community metrics...')\n",
    "    if not G:\n",
    "        print('Getting complete graph...')\n",
    "        G = get_graph_object()\n",
    "    print('Original graph has {} nodes and {} edges.'.format(len(G), G.number_of_edges()))\n",
    "\n",
    "    # Create undirected graph (required for community detection):\n",
    "    H = nx.Graph(G)\n",
    "\n",
    "    # Get largest component\n",
    "    Hcc = max(nx.connected_components(H), key=len)\n",
    "    H0 = H.subgraph(Hcc)\n",
    "    print('Largest component has {} nodes and {} edges.'.format(len(H0), H0.number_of_edges()))\n",
    "\n",
    "    # Discard other components:\n",
    "    if RETURN_GIANT_COMPONENT:\n",
    "        G = G.subgraph(Hcc)\n",
    "\n",
    "    # Get communities\n",
    "    print('Calculating c_modularity...')\n",
    "    c_modularity = list(greedy_modularity_communities(H0))\n",
    "    print('Calculating c_label_prop...')\n",
    "    c_label_prop = list(label_propagation_communities(H0))\n",
    "    c_label_prop = sorted(c_label_prop, key=len, reverse=True)\n",
    "    print('Calculating c_label_prop_asyn...')\n",
    "    c_label_prop_asyn = list(asyn_lpa_communities(H0))\n",
    "    c_label_prop_asyn = sorted(c_label_prop_asyn, key=len, reverse=True)\n",
    "    print('Calculating c_fluid...')\n",
    "    c_fluid = list(asyn_fluidc(H0, FLIUD_COMMUNITIES_NUMBER))\n",
    "    c_fluid = sorted(c_fluid, key=len, reverse=True)\n",
    "    # TOO SLOW:\n",
    "    # print('Calculating c_girvan_newman...')\n",
    "    # c_girvan_newman = list(girvan_newman(H0))\n",
    "\n",
    "    community_output_dict = {'c_modularity': c_modularity,\n",
    "                                'c_label_prop': c_label_prop,\n",
    "                                'c_label_prop_asyn': c_label_prop_asyn,\n",
    "                                'c_fluid': c_fluid,\n",
    "                                # 'c_girvan_newman': c_girvan_newman\n",
    "                                }\n",
    "\n",
    "    print('Adding data as node attributes...')\n",
    "    # Add communities to node attributes:\n",
    "    for key in community_output_dict:\n",
    "        community_dict = {}\n",
    "        for i, c in enumerate(community_output_dict[key]):\n",
    "            for name in c:\n",
    "                community_dict[name] = i\n",
    "        nx.set_node_attributes(G, community_dict, key)\n",
    "\n",
    "    # Repeat for louvain algorithm.\n",
    "    print('Calculating c_louvain...')\n",
    "    partition = community_louvain.best_partition(H0)\n",
    "    # Reset community indices by size\n",
    "    counter = Counter(partition.values())\n",
    "    ranking = sorted(counter, key=counter.get, reverse=True)\n",
    "    partition_sorted = {k: ranking.index(v) for k, v in partition.items()}\n",
    "    # Add to node attribute\n",
    "    print('Adding data to node attribute...')\n",
    "    nx.set_node_attributes(G, partition_sorted, 'c_louvain')\n",
    "\n",
    "    if filename:\n",
    "        print('Writing to file...')\n",
    "        nx.write_gexf(G, DIR + filename, prettyprint=True)\n",
    "        \n",
    "    return G"
   ]
  },
  {
   "cell_type": "code",
   "execution_count": null,
   "metadata": {},
   "outputs": [
    {
     "name": "stdout",
     "output_type": "stream",
     "text": [
      "Calculating community metrics...\n",
      "Getting complete graph...\n",
      "Importing existing graph object...\n",
      "Original graph has 31931 nodes and 101096 edges.\n",
      "Largest component has 18409 nodes and 76341 edges.\n",
      "Calculating c_modularity...\n"
     ]
    }
   ],
   "source": [
    "import pandas as pd\n",
    "\n",
    "e = Event.objects.all()[0]\n",
    "filename = 'network_data_{}_comm.gexf'.format(e.name.replace(' ', ''))\n",
    "\n",
    "G = calc_community_metrics(filename)\n",
    "\n",
    "nodes = G.nodes(data=True)\n",
    "df_comm = pd.DataFrame.from_dict(dict(nodes), orient='index')\n",
    "df_comm = df_comm.drop(['user_class', 'user_code', 'label'], axis=1)\n",
    "#df_comm = df_comm.reset_index(drop=True)\n",
    "df_comm.head()"
   ]
  },
  {
   "cell_type": "code",
   "execution_count": null,
   "metadata": {},
   "outputs": [],
   "source": [
    "# Open original Dataframe\n",
    "import pandas as pd\n",
    "\n",
    "path = 'data/harvey_user_location/df_users.csv'\n",
    "\n",
    "users_df = pd.read_csv(path, index_col=0)\n",
    "users_df.shape"
   ]
  },
  {
   "cell_type": "code",
   "execution_count": null,
   "metadata": {},
   "outputs": [],
   "source": [
    "# Create list of community algorithm column names\n",
    "comm_cols = list(df_comm.columns)\n",
    "\n",
    "# Merge dataframes\n",
    "users_df = pd.merge(left=users_df, right=df_comm, how='left', left_on='screen_name', right_index=True)\n",
    "\n",
    "users_df.head()"
   ]
  },
  {
   "cell_type": "markdown",
   "metadata": {},
   "source": [
    "As chi-square tests are typically recommended to require contingency tables with values of at least 5, the small communities are discarded (also, some algorithms create many communities of 1-2 members, which will not be useful in generalisation of the model).\n",
    "\n",
    "TODO: This only eliminates cells where the observed value is less than 5, this rule should also be applied to expected value cells."
   ]
  },
  {
   "cell_type": "code",
   "execution_count": null,
   "metadata": {},
   "outputs": [],
   "source": [
    "# Ignore small communities where observed cases are too low (required for chi-square tests)\n",
    "MIN_COMMUNITY_SIZE = 5\n",
    "\n",
    "for col in comm_cols:\n",
    "    s = users_df[col].value_counts()\n",
    "    #s = users_df.loc[users_df['coded_as_witness']==1, col].value_counts()\n",
    "    users_df.loc[~users_df[col].isin(s.index[s >= MIN_COMMUNITY_SIZE]), col] = np.NaN"
   ]
  },
  {
   "cell_type": "markdown",
   "metadata": {},
   "source": [
    "As a preliminary visual investigation into the relationship between community and code, we can check the proportion of nodes within a community that are coded as positive cases (witnesses). In an independent case, we would expect these ratios to be similar, and reflect the overall ratio of cases, which is:\n",
    "$$\\frac{386}{1500} = 0.257$$\n",
    "This is shown as a dotted line on the plots below."
   ]
  },
  {
   "cell_type": "code",
   "execution_count": null,
   "metadata": {},
   "outputs": [],
   "source": [
    "%matplotlib inline\n",
    "import matplotlib.pyplot as plt\n",
    "plt.rcParams['figure.figsize'] = [12, 8]\n",
    "\n",
    "# NOTE: required input is a list of series, not dataframes\n",
    "def plot_dfs_as_bar(df_list, axhline=None):\n",
    "    if len(df_list) == 1:\n",
    "        df_list[0].plot(kind='bar', title=df_list[0].name, colormap='Spectral', rot=45)\n",
    "        return\n",
    "    ncol = 2\n",
    "    nrow = int((len(df_list)+1)/2)\n",
    "    fig, axs = plt.subplots(nrow,ncol)\n",
    "    fig.tight_layout(pad=4.0)\n",
    "    if len(df_list) % 2 != 0:\n",
    "        fig.delaxes(axs[nrow-1,1])\n",
    "    count=0\n",
    "    for r in range(nrow):\n",
    "        for c in range(ncol):\n",
    "            if count < len(df_list): # Handle odd length\n",
    "                if len(df_list) > 2:\n",
    "                    df_list[count].plot(kind='bar', ax=axs[r,c], title=df_list[count].name, colormap='Spectral', rot=45)\n",
    "                else:\n",
    "                    df_list[count].plot(kind='bar', ax=axs[c], title=df_list[count].name, colormap='Spectral', rot=45)\n",
    "                #axs[r,c].text(.5, .9, df_list[count].name, horizontalalignment='center', transform=axs[r,c].transAxes, bbox=dict(facecolor='red', alpha=0.5))\n",
    "                if axhline:\n",
    "                    axs[r,c].axhline(y=axhline, color='b', linestyle='dotted', lw=2)\n",
    "                count += 1"
   ]
  },
  {
   "cell_type": "code",
   "execution_count": null,
   "metadata": {},
   "outputs": [],
   "source": [
    "# Create dataframe for ratio of positive cases per community class, for each community algorithm\n",
    "df_list = [users_df.loc[users_df['coded_as_witness']==1, col].dropna().value_counts() / \n",
    "               users_df[col].dropna().value_counts() \n",
    "               for col in comm_cols]\n",
    "\n",
    "# Calculate expected proportion of positive cases given independence:\n",
    "exp_pos_proportion = users_df['coded_as_witness'].value_counts()[1] / users_df.shape[0]\n",
    "\n",
    "plot_dfs_as_bar(df_list, exp_pos_proportion)"
   ]
  },
  {
   "cell_type": "markdown",
   "metadata": {},
   "source": [
    "From inspecting the graphs above, there appears to be a disproportionate amount of positive cases in certain communities, suggesting some association between community (as detected by a given algorithm) and the classification. Therefore, it is likely that including these metrics will increase the information available to the predictive models.\n",
    "\n",
    "The charts shown above suggest that the highest proportion of positive classes appear in the largest, or second-largest communities (as the labels have been ranked in order of size). This is significant -- a model cannot be trained on community label as a feature, as the labels are qualitative and will be different each time an algorithm runs on a network. Therefore these features cannot generalise to new datasets. The feature that is supplied must therefore be something which is generalisable; in this case, the ranking of the community by size my be appropriate (for example, a feature which represents whether a user is in the largest detected community). Alternatively, communities may exhibit different characteristics such as connectedness. This will be explored later. The higher proportions seen in some of the later communities are less relevant as these are of a much smaller size. Thus the high proportions are 'easier' to achieve, and as smaller communities are more likely to represent unique cases, they are less likely to generalise.\n",
    "\n",
    "The next steps in the analyis of the validity of this approach is the calculate whether the disparities observed above are statistically significant. That is, whether these associations could have been observed by chance.\n",
    "\n",
    "Formally, for each community detection algorithm, we are testing the hypotheses:\n",
    "$$H_0: \\text{There is no association between the community label and witness label}$$\n",
    "$$H_A: \\text{There is an association between the community label and witness label}$$\n",
    "\n",
    "A chi-squre analysis is performed on the output of each detection algorithm with the target class. Note that communities with a size below 5 are removed as per the recommendation for chi-square analysis."
   ]
  },
  {
   "cell_type": "code",
   "execution_count": 28,
   "metadata": {},
   "outputs": [],
   "source": [
    "import scipy.stats as scs\n",
    "\n",
    "def chi_square_of_df_cols(df, col1, col2):\n",
    "    confusion_matrix = pd.crosstab(df[col2], df[col1])\n",
    "    # Remove rows where observed cases are too low -- TODO: should also check expected values are > 4\n",
    "    confusion_matrix = confusion_matrix.loc[(confusion_matrix[0] > 4) & (confusion_matrix[1] > 4)]\n",
    "    return scs.chi2_contingency(confusion_matrix)\n",
    "\n",
    "y_col = 'coded_as_witness'\n",
    "data = [[col] + list(chi_square_of_df_cols(users_df, y_col, col)[:2]) for col in comm_cols]\n",
    "\n",
    "chi2a_df = pd.DataFrame(data=data, columns=['feature', 'chi-square-a', 'p-val'])\n",
    "#chi2a_df.plot(kind='bar', y='chi2', x='feature', rot=45)\n",
    "chi2a_df"
   ]
  },
  {
   "cell_type": "markdown",
   "metadata": {},
   "source": [
    "For all features, the analysis produced a significant $\\chi^2$ value, well beyond our $\\alpha=0.05$. Therefore we can reject the null hypothesis and accept that the alternative: there is an association between community and witness status.\n",
    "\n",
    "In the following cells, a number of other measures of association are tested, including the `sklearn` implementation of chi-square.\n",
    "\n",
    "We are now interested in selecting the community algorithm which is most useful in class prediction."
   ]
  },
  {
   "cell_type": "code",
   "execution_count": 42,
   "metadata": {},
   "outputs": [
    {
     "data": {
      "text/html": [
       "<div>\n",
       "<style scoped>\n",
       "    .dataframe tbody tr th:only-of-type {\n",
       "        vertical-align: middle;\n",
       "    }\n",
       "\n",
       "    .dataframe tbody tr th {\n",
       "        vertical-align: top;\n",
       "    }\n",
       "\n",
       "    .dataframe thead th {\n",
       "        text-align: right;\n",
       "    }\n",
       "</style>\n",
       "<table border=\"1\" class=\"dataframe\">\n",
       "  <thead>\n",
       "    <tr style=\"text-align: right;\">\n",
       "      <th></th>\n",
       "      <th>feature</th>\n",
       "      <th>chi-square-b</th>\n",
       "      <th>p-val</th>\n",
       "    </tr>\n",
       "  </thead>\n",
       "  <tbody>\n",
       "    <tr>\n",
       "      <th>0</th>\n",
       "      <td>c_modularity</td>\n",
       "      <td>120.389792</td>\n",
       "      <td>5.197549e-28</td>\n",
       "    </tr>\n",
       "    <tr>\n",
       "      <th>1</th>\n",
       "      <td>c_label_prop</td>\n",
       "      <td>203.008977</td>\n",
       "      <td>4.605000e-46</td>\n",
       "    </tr>\n",
       "    <tr>\n",
       "      <th>2</th>\n",
       "      <td>c_label_prop_asyn</td>\n",
       "      <td>206.310091</td>\n",
       "      <td>8.768650e-47</td>\n",
       "    </tr>\n",
       "    <tr>\n",
       "      <th>3</th>\n",
       "      <td>c_fluid</td>\n",
       "      <td>15.877921</td>\n",
       "      <td>6.756234e-05</td>\n",
       "    </tr>\n",
       "    <tr>\n",
       "      <th>4</th>\n",
       "      <td>c_louvain</td>\n",
       "      <td>268.643853</td>\n",
       "      <td>2.241188e-60</td>\n",
       "    </tr>\n",
       "  </tbody>\n",
       "</table>\n",
       "</div>"
      ],
      "text/plain": [
       "             feature  chi-square-b         p-val\n",
       "0       c_modularity    120.389792  5.197549e-28\n",
       "1       c_label_prop    203.008977  4.605000e-46\n",
       "2  c_label_prop_asyn    206.310091  8.768650e-47\n",
       "3            c_fluid     15.877921  6.756234e-05\n",
       "4          c_louvain    268.643853  2.241188e-60"
      ]
     },
     "execution_count": 42,
     "metadata": {},
     "output_type": "execute_result"
    }
   ],
   "source": [
    "from sklearn.feature_selection import chi2\n",
    "\n",
    "#TODO: only drop NA rows per column rather than entire row.\n",
    "temp_df = users_df[comm_cols + ['coded_as_witness']].dropna()\n",
    "\n",
    "X = temp_df[comm_cols]\n",
    "y = temp_df['coded_as_witness']\n",
    "\n",
    "chi2b_df = pd.DataFrame(data={'feature': comm_cols, 'chi-square-b': chi2(X,y)[0], 'p-val': chi2(X,y)[1]})\n",
    "#chi2b_df.plot(kind='bar', y='chi2', x='feature', rot=45)\n",
    "chi2b_df"
   ]
  },
  {
   "cell_type": "code",
   "execution_count": null,
   "metadata": {},
   "outputs": [],
   "source": []
  },
  {
   "cell_type": "markdown",
   "metadata": {},
   "source": [
    "`sklearn.feature_selection.chi2` uses a different implementation of the chi-square formula, therefore these result differ from the results returned by `scipy.stats.scs.chi2_contingency`. Regardless, the each of the p-values is sufficiently small to reject the null hypothesis and accept that there is an association.\n",
    "\n",
    " A p-value close to zero means that our variables are very unlikely to be completely unassociated in some population. However, this does not mean the variables are strongly associated; a weak association in a large sample size may also result in p = 0.000.\n",
    " \n",
    "Given that we would like to choose the algorithm which results in the communities with the strongest associations to the target label, we need another statistical measure. Cramérs $\\phi$ (or V) coefficient is based upon the $\\chi^2$ value and measures the strength the association between two categorical variables. Here, a score of $0$ represents no association, and $1$ represents a perfect association.\n",
    "\n",
    "$${\\phi}_c = \\sqrt{\\frac{\\chi^2}{N(k-1)}}$$"
   ]
  },
  {
   "cell_type": "code",
   "execution_count": 29,
   "metadata": {},
   "outputs": [],
   "source": [
    "def cramers_v(x, y):\n",
    "    confusion_matrix = pd.crosstab(x,y)\n",
    "    chi2 = scs.chi2_contingency(confusion_matrix)[0]\n",
    "    n = confusion_matrix.sum().sum()\n",
    "    phi2 = chi2/n\n",
    "    r,k = confusion_matrix.shape\n",
    "    phi2corr = max(0, phi2-((k-1)*(r-1))/(n-1))\n",
    "    rcorr = r-((r-1)**2)/(n-1)\n",
    "    kcorr = k-((k-1)**2)/(n-1)\n",
    "    return np.sqrt(phi2corr/min((kcorr-1),(rcorr-1)))\n",
    "\n",
    "# Drop na values from y col\n",
    "temp_df = users_df[comm_cols + ['coded_as_witness']].dropna()\n",
    "y = temp_df['coded_as_witness']\n",
    "\n",
    "data = [(col, cramers_v(temp_df[col],y)) for col in comm_cols]\n",
    "cramers_df = pd.DataFrame(data=data, columns=['feature', 'cramers_v'])\n",
    "#cramers_df.plot(kind='bar', x='feature', rot=45)\n",
    "cramers_df"
   ]
  },
  {
   "cell_type": "markdown",
   "metadata": {},
   "source": [
    "While Cramer's Phi measures the strength of the association, Theil's U is a conditional measure. That is, it is able to measure how well we can predict one variable, given the other. Therefore, it is a more suitable statistic when evaluating features to use in prediction models.\n"
   ]
  },
  {
   "cell_type": "code",
   "execution_count": 30,
   "metadata": {},
   "outputs": [],
   "source": [
    "import math\n",
    "from collections import Counter\n",
    "\n",
    "def conditional_entropy(x, y, log_base: float = math.e):\n",
    "    y_counter = Counter(y)\n",
    "    xy_counter = Counter(list(zip(x, y)))\n",
    "    total_occurrences = sum(y_counter.values())\n",
    "    entropy = 0.0\n",
    "    for xy in xy_counter.keys():\n",
    "        p_xy = xy_counter[xy] / total_occurrences\n",
    "        p_y = y_counter[xy[1]] / total_occurrences\n",
    "        entropy += p_xy * math.log(p_y / p_xy, log_base)\n",
    "    return entropy\n",
    "\n",
    "def theils_u(x, y):\n",
    "    s_xy = conditional_entropy(x,y)\n",
    "    x_counter = Counter(x)\n",
    "    total_occurrences = sum(x_counter.values())\n",
    "    p_x = list(map(lambda n: n/total_occurrences, x_counter.values()))\n",
    "    s_x = scs.entropy(p_x)\n",
    "    if s_x == 0:\n",
    "        return 1\n",
    "    else:\n",
    "        return (s_x - s_xy) / s_x\n",
    "    \n",
    "# Drop na values from y col\n",
    "temp_df = users_df[comm_cols + ['coded_as_witness']].dropna()\n",
    "y = temp_df['coded_as_witness']\n",
    "\n",
    "#data = [(col, theils_u(temp_df[col],y)) for col in community_cols]\n",
    "data = [(col, theils_u(y, temp_df[col])) for col in comm_cols]\n",
    "theils_df = pd.DataFrame(data=data, columns=['feature', 'theils_u'])\n",
    "#theils_df.plot(kind='bar', x='feature', rot=45)\n",
    "theils_df\n"
   ]
  },
  {
   "cell_type": "markdown",
   "metadata": {},
   "source": [
    "Decision Trees (and their ensemble random forest counterparts) can rank features on their importance, where their importance represents how much reduction of the (gini) uncertainty measure each feature contributes to the model. Note that due to how decision trees learn, these importance values can vary each time a model is trained, though this variance should be minimised in ensemble methods."
   ]
  },
  {
   "cell_type": "code",
   "execution_count": 186,
   "metadata": {},
   "outputs": [
    {
     "data": {
      "text/html": [
       "<div>\n",
       "<style scoped>\n",
       "    .dataframe tbody tr th:only-of-type {\n",
       "        vertical-align: middle;\n",
       "    }\n",
       "\n",
       "    .dataframe tbody tr th {\n",
       "        vertical-align: top;\n",
       "    }\n",
       "\n",
       "    .dataframe thead th {\n",
       "        text-align: right;\n",
       "    }\n",
       "</style>\n",
       "<table border=\"1\" class=\"dataframe\">\n",
       "  <thead>\n",
       "    <tr style=\"text-align: right;\">\n",
       "      <th></th>\n",
       "      <th>feature</th>\n",
       "      <th>importance</th>\n",
       "    </tr>\n",
       "  </thead>\n",
       "  <tbody>\n",
       "    <tr>\n",
       "      <th>0</th>\n",
       "      <td>c_modularity</td>\n",
       "      <td>0.234433</td>\n",
       "    </tr>\n",
       "    <tr>\n",
       "      <th>1</th>\n",
       "      <td>c_label_prop</td>\n",
       "      <td>0.087224</td>\n",
       "    </tr>\n",
       "    <tr>\n",
       "      <th>2</th>\n",
       "      <td>c_label_prop_asyn</td>\n",
       "      <td>0.096274</td>\n",
       "    </tr>\n",
       "    <tr>\n",
       "      <th>3</th>\n",
       "      <td>c_fluid</td>\n",
       "      <td>0.201301</td>\n",
       "    </tr>\n",
       "    <tr>\n",
       "      <th>4</th>\n",
       "      <td>c_louvain</td>\n",
       "      <td>0.380768</td>\n",
       "    </tr>\n",
       "  </tbody>\n",
       "</table>\n",
       "</div>"
      ],
      "text/plain": [
       "             feature  importance\n",
       "0       c_modularity    0.234433\n",
       "1       c_label_prop    0.087224\n",
       "2  c_label_prop_asyn    0.096274\n",
       "3            c_fluid    0.201301\n",
       "4          c_louvain    0.380768"
      ]
     },
     "execution_count": 186,
     "metadata": {},
     "output_type": "execute_result"
    }
   ],
   "source": [
    "from sklearn.tree import DecisionTreeRegressor, DecisionTreeClassifier\n",
    "from sklearn.ensemble import RandomForestClassifier\n",
    "import warnings\n",
    "\n",
    "# Ignore FutureWarning from RF classifier\n",
    "warnings.simplefilter(action='ignore', category=FutureWarning)\n",
    "\n",
    "X = users_df[comm_cols]\n",
    "y = users_df['coded_as_witness']\n",
    "for col in comm_cols:\n",
    "    y = y.loc[~X[col].isna()]\n",
    "    X = X.loc[~X[col].isna()]\n",
    "\n",
    "##tree = DecisionTreeRegressor().fit(X, y)\n",
    "#tree = DecisionTreeClassifier().fit(X, y)\n",
    "tree = RandomForestClassifier().fit(X, y)\n",
    "\n",
    "rf_df = pd.DataFrame(zip(comm_cols, tree.feature_importances_), \n",
    "               columns =['feature', 'importance']) \n",
    "\n",
    "#rf_df.plot(kind='bar', x='feature', rot=45)\n",
    "rf_df"
   ]
  },
  {
   "cell_type": "markdown",
   "metadata": {},
   "source": [
    "We can now compare the algorithms across each association measure. Theil's U and perhaps the random forest feature importance measures are more significant here. The Louvain and modularity measures appear to be the most promising. The asynchronous implementation of label propogation appears to outperform its synchronous counterpart, though it's overall relevance requires further investigation."
   ]
  },
  {
   "cell_type": "code",
   "execution_count": 46,
   "metadata": {},
   "outputs": [
    {
     "data": {
      "image/png": "[encoded data removed]",
      "text/plain": [
       "<Figure size 864x576 with 5 Axes>"
      ]
     },
     "metadata": {
      "needs_background": "light"
     },
     "output_type": "display_data"
    }
   ],
   "source": [
    "df_list = [chi2a_df, chi2b_df, cramers_df, theils_df, rf_df]\n",
    "indices = chi2a_df['feature'].values\n",
    "df_list = [x.set_index('feature').iloc[:,0] for x in df_list]\n",
    "\n",
    "plot_dfs_as_bar(df_list)"
   ]
  },
  {
   "cell_type": "markdown",
   "metadata": {},
   "source": [
    "## Evaluation on Temporal Sub-Graphs\n",
    "\n",
    "While the analysis above demonstrates the predictive power of these algorithms at the end point of an event, once the graph data is most rich, the purpose of this research is to classify user objects as they are detected. Therefore, we need to test the efficacy of these algorithms on partial graphs, as they appeared throughout the data collection process.\n",
    "\n",
    "Data was collected over the course of several days for this event, therefore we can create subgraphs at intervals an re-calculate the metrics discussed above. This function creates a subgraph as it existed at every 24-hour interval from the event start time. Therefore, for the Hurricane Harvey event, which was recorded over 7 days and 10 hours, 7 sub-graphs are generated. With the final graph, there are a total of 8 graphs. Each graph contains all the data of the graph preceding it plus the newly observed users and their common relationships.\n",
    "\n",
    "The same transormations as above are then applied and the association measures calculated. It is expected that the measures increase over time, as the network structure is revealed. We are therefore interested in observing the rate at which is happens."
   ]
  },
  {
   "cell_type": "code",
   "execution_count": 3,
   "metadata": {},
   "outputs": [],
   "source": [
    "import networkx as nx\n",
    "from datetime import timedelta\n",
    "\n",
    "def get_graph_objects_time_sliced():\n",
    "    \"\"\"\n",
    "    Creates subgraphs of the main event's graph every 24 hours \n",
    "    from start date.\n",
    "    \n",
    "    Sub-graphs are returned in a dictionary keyed by their\n",
    "    slice index, where t_n = k*24h. The dictionary will not\n",
    "    include the final, complete graph.\n",
    "    \"\"\"\n",
    "    EVENT_NAME = Event.objects.all()[0].name.replace(' ', '')\n",
    "    DIR = './data/harvey_user_location/'\n",
    "    \n",
    "    # Get event and calculate duration:\n",
    "    e = Event.objects.all()[0]\n",
    "    end = max(e.time_end, e.kw_stream_end, e.gps_stream_end)\n",
    "    start = min(e.time_start, e.kw_stream_start, e.gps_stream_start)\n",
    "    duration_days = (end - start).days\n",
    "    print('Days in event: {}: {} '.format(e.name, duration_days))\n",
    "    # Create timestamps every 24 hours:\n",
    "    interim_time_slices = [start + timedelta(days=t+1) for t in range(duration_days)]\n",
    "    # Reverse list to support progressively paring down subset queries:\n",
    "    interim_time_slices.reverse()\n",
    "    \n",
    "    graph_dict = {}\n",
    "    print('Getting user and edge list for full graph...')\n",
    "    classed_users = User.objects.filter(user_class__gte=1)\n",
    "    edges = Relo.objects.filter(target_user__in=classed_users, source_user__in=classed_users, end_observed_at=None)\n",
    "    \n",
    "    # Create subgraphs for each time stamp in reverse chronological order:\n",
    "    for i in range(len(interim_time_slices)):\n",
    "        filename = 'network_data_{}_tslice-{}.gexf'.format(EVENT_NAME, len(interim_time_slices)-i)\n",
    "        try:\n",
    "            # Load cached file if available\n",
    "            G = nx.read_gexf(DIR + filename)\n",
    "            print('Importing existing graph object for time slice {} ...'.format(i))\n",
    "        except:\n",
    "            print('Creating new graph object for time slice {}...'.format(i))\n",
    "            # Subset classed users for those added prior to slice point:\n",
    "            classed_users = classed_users.filter(added_at__lt=interim_time_slices[i])\n",
    "            G=nx.DiGraph()\n",
    "            for node in classed_users:\n",
    "                try:\n",
    "                    user_code = (node.coding_for_user.filter(coding_id=1)\n",
    "                                .exclude(data_code__name='To Be Coded')[0]\n",
    "                                .data_code.name)\n",
    "                except:\n",
    "                    user_code = ''\n",
    "                G.add_node(node.screen_name, user_class=node.user_class, user_code=user_code)\n",
    "            # Subset edges to those associated with subset of users\n",
    "            edges = edges.filter(target_user__in=classed_users, \n",
    "                                    source_user__in=classed_users)\n",
    "            edge_list = [(edge.source_user.screen_name, edge.target_user.screen_name) for edge in edges]\n",
    "            G.add_edges_from(edge_list)\n",
    "            # Write to file and re-import to bypass issue with community algorithms\n",
    "            nx.write_gexf(G, DIR + filename, prettyprint=True)\n",
    "            G = nx.read_gexf(DIR + filename)\n",
    "            \n",
    "        graph_dict[len(interim_time_slices)-i] = G\n",
    "        \n",
    "    return graph_dict"
   ]
  },
  {
   "cell_type": "code",
   "execution_count": 4,
   "metadata": {},
   "outputs": [
    {
     "name": "stdout",
     "output_type": "stream",
     "text": [
      "Days in event: Hurricane Harvey: 7 \n",
      "Getting user and edge list...\n",
      "Importing existing graph object for time slice 0 ...\n",
      "Importing existing graph object for time slice 1 ...\n",
      "Importing existing graph object for time slice 2 ...\n",
      "Importing existing graph object for time slice 3 ...\n",
      "Importing existing graph object for time slice 4 ...\n",
      "Importing existing graph object for time slice 5 ...\n",
      "Importing existing graph object for time slice 6 ...\n"
     ]
    }
   ],
   "source": [
    "g_dict = get_graph_objects_time_sliced()"
   ]
  },
  {
   "cell_type": "markdown",
   "metadata": {},
   "source": [
    "Calculate the community metrics for each subgraph and create time slice dataframes for each metric:"
   ]
  },
  {
   "cell_type": "code",
   "execution_count": 32,
   "metadata": {},
   "outputs": [],
   "source": [
    "import scipy.stats as scs\n",
    "from sklearn.tree import DecisionTreeRegressor, DecisionTreeClassifier\n",
    "from sklearn.ensemble import RandomForestClassifier\n",
    "from sklearn.feature_selection import chi2\n",
    "# #g_dict[1].nodes\n",
    "# dff = pd.DataFrame()\n",
    "\n",
    "# dgg = pd.DataFrame(data=[[1,'a',3],[2,'b',3],[3,'c',3]], columns=['feature', 'chi-square-a', 'p-val'])\n",
    "# s = dgg.set_index('feature')['chi-square-a']\n",
    "# dff.append(s, ignore_index=True)\n",
    "\n",
    "\n",
    "# #g_dict[1].nodes(data=True)\n",
    "# #     df_comm = pd.DataFrame.from_dict(dict(nodes), orient='index')\n",
    "# #     df_comm = df_comm.drop(['user_class', 'user_code', 'label'], axis=1)\n",
    "    \n",
    "# #     # Merge dataframes\n",
    "# #     path = 'data/harvey_user_location/df_users.csv'\n",
    "# #     users_df_temp = pd.read_csv(path, index_col=0)\n",
    "# #     comm_cols = list(df_comm.columns)"
   ]
  },
  {
   "cell_type": "code",
   "execution_count": 38,
   "metadata": {},
   "outputs": [
    {
     "name": "stdout",
     "output_type": "stream",
     "text": [
      "Processing subgraph:  7\n",
      "Importing existing community graph object...\n",
      "Processing subgraph:  6\n",
      "Importing existing community graph object...\n",
      "Processing subgraph:  5\n",
      "Importing existing community graph object...\n",
      "Processing subgraph:  4\n",
      "Importing existing community graph object...\n",
      "Processing subgraph:  3\n",
      "Importing existing community graph object...\n",
      "Processing subgraph:  2\n",
      "Importing existing community graph object...\n",
      "Processing subgraph:  1\n",
      "Importing existing community graph object...\n"
     ]
    }
   ],
   "source": [
    "import pandas as pd\n",
    "# Ignore FutureWarning from RF classifier\n",
    "import warnings\n",
    "warnings.simplefilter(action='ignore', category=FutureWarning)\n",
    "\n",
    "\n",
    "DIR = './data/harvey_user_location/'\n",
    "    \n",
    "g_dict_comm = {}\n",
    "\n",
    "\n",
    "#df_comm.columns\n",
    "tslice_chi2a_df = pd.DataFrame()\n",
    "tslice_chi2b_df = pd.DataFrame()\n",
    "tslice_cramers_df = pd.DataFrame()\n",
    "tslice_theils_df = pd.DataFrame()\n",
    "tslice_rf_df = pd.DataFrame()\n",
    "\n",
    "\n",
    "# Calculate the community metrics for each subgraph:\n",
    "for key in g_dict:\n",
    "    print('Processing subgraph: ', key)\n",
    "    e = Event.objects.all()[0]\n",
    "    filename = 'network_data_{}_comm_tslice-{}.gexf'.format(e.name.replace(' ', ''), key)\n",
    "    g2 = g_dict[key]\n",
    "    \n",
    "    # Write and reimport to avoid issue with community calculation:\n",
    "    nx.write_gexf(g2, DIR + 'temp.gexf', prettyprint=True)\n",
    "    g2 = nx.read_gexf(DIR + 'temp.gexf')\n",
    "    \n",
    "    # Calc community metrics for graph\n",
    "    g2 = calc_community_metrics(filename, g2)\n",
    "    g_dict_comm[key] = g2\n",
    "    \n",
    "    # Create community dataframe\n",
    "    nodes = g2.nodes(data=True)\n",
    "    df_comm = pd.DataFrame.from_dict(dict(nodes), orient='index')\n",
    "    df_comm = df_comm.drop(['user_class', 'user_code', 'label'], axis=1)\n",
    "    \n",
    "    # Merge dataframes\n",
    "    path = 'data/harvey_user_location/df_users.csv'\n",
    "    users_df_temp = pd.read_csv(path, index_col=0)\n",
    "    comm_cols = list(df_comm.columns)\n",
    "    users_df_temp = pd.merge(left=users_df_temp, right=df_comm, how='left', left_on='screen_name', right_index=True)\n",
    "\n",
    "    # Ignore small communities where observed cases are too low (required for chi-square tests)\n",
    "    MIN_COMMUNITY_SIZE = 5\n",
    "    for col in comm_cols:\n",
    "        s = users_df_temp[col].value_counts()\n",
    "        users_df_temp.loc[~users_df_temp[col].isin(s.index[s >= MIN_COMMUNITY_SIZE]), col] = np.NaN\n",
    "\n",
    "    # Calculate chi-square\n",
    "    y_col = 'coded_as_witness'\n",
    "    data = [[col] + list(chi_square_of_df_cols(users_df_temp, y_col, col)[:2]) for col in comm_cols]\n",
    "    chi2a_df_subgraph = pd.DataFrame(data=data, columns=['feature', 'chi-square-a', 'p-val'])\n",
    "    s = chi2a_df_subgraph.set_index('feature')['chi-square-a']\n",
    "    tslice_chi2a_df = tslice_chi2a_df.append(s, ignore_index=True)\n",
    "    \n",
    "    # Calculate chi-square b\n",
    "    temp_df = users_df_temp[comm_cols + ['coded_as_witness']].dropna()\n",
    "    X = temp_df[comm_cols]\n",
    "    y = temp_df['coded_as_witness']\n",
    "    chi2b_df_subgraph = pd.DataFrame(data={'feature': comm_cols, 'chi-square-b': chi2(X,y)[0], 'p-val': chi2(X,y)[1]})\n",
    "    s = chi2b_df_subgraph.set_index('feature')['chi-square-b']\n",
    "    tslice_chi2b_df = tslice_chi2b_df.append(s, ignore_index=True)\n",
    "    \n",
    "    # Cramer's V\n",
    "    temp_df = users_df_temp[comm_cols + ['coded_as_witness']].dropna()\n",
    "    y = temp_df['coded_as_witness']\n",
    "    data = [(col, cramers_v(temp_df[col], y)) for col in comm_cols]\n",
    "    cramers_df_subgraph = pd.DataFrame(data=data, columns=['feature', 'cramers_v'])\n",
    "    s = cramers_df_subgraph.set_index('feature')['cramers_v']\n",
    "    tslice_cramers_df = tslice_cramers_df.append(s, ignore_index=True)\n",
    "    \n",
    "    # Theil's U\n",
    "    temp_df = users_df_temp[comm_cols + ['coded_as_witness']].dropna()\n",
    "    y = temp_df['coded_as_witness']\n",
    "    data = [(col, theils_u(y, temp_df[col])) for col in comm_cols]\n",
    "    theils_df_subgraph = pd.DataFrame(data=data, columns=['feature', 'theils_u'])\n",
    "    s = theils_df_subgraph.set_index('feature')['theils_u']\n",
    "    tslice_theils_df = tslice_theils_df.append(s, ignore_index=True)\n",
    "    \n",
    "    # Random Forest\n",
    "    X = users_df_temp[comm_cols]\n",
    "    y = users_df_temp['coded_as_witness']\n",
    "    for col in comm_cols:\n",
    "        y = y.loc[~X[col].isna()]\n",
    "        X = X.loc[~X[col].isna()]\n",
    "    tree = RandomForestClassifier().fit(X, y)\n",
    "    rf_df_subgraph = pd.DataFrame(zip(comm_cols, tree.feature_importances_), \n",
    "                                   columns =['feature', 'importance']) \n",
    "    s = rf_df_subgraph.set_index('feature')['importance']\n",
    "    tslice_rf_df = tslice_rf_df.append(s, ignore_index=True)\n",
    "    \n",
    "    "
   ]
  },
  {
   "cell_type": "code",
   "execution_count": 41,
   "metadata": {},
   "outputs": [
    {
     "data": {
      "text/plain": [
       "<matplotlib.axes._subplots.AxesSubplot at 0x7fa5777a7278>"
      ]
     },
     "execution_count": 41,
     "metadata": {},
     "output_type": "execute_result"
    },
    {
     "data": {
      "image/png": "[encoded data removed]",
      "text/plain": [
       "<Figure size 432x288 with 1 Axes>"
      ]
     },
     "metadata": {
      "needs_background": "light"
     },
     "output_type": "display_data"
    }
   ],
   "source": [
    "node_counts = pd.Series([len(g) for g in g_dict_comm.values()] + [0]).iloc[::-1].reset_index(drop=True)\n",
    "node_counts.name = 'nodes'\n",
    "edge_counts = pd.Series([g.number_of_edges() for g in g_dict_comm.values()] + [0]).iloc[::-1].reset_index(drop=True)\n",
    "edge_counts.name = 'edges'\n",
    "dff = pd.concat([node_counts, edge_counts], axis=1)\n",
    "#dff.loc['final'] = [18409, 76341] # TODO: Hardcoded for convenience. Find original graph object instead (largest component).\n",
    "dff.plot(title='Graph Growth per 24h')"
   ]
  },
  {
   "cell_type": "code",
   "execution_count": 40,
   "metadata": {},
   "outputs": [],
   "source": [
    "# Set indices to timestamp ids and sort chronologically:\n",
    "dfs = [tslice_chi2a_df, tslice_chi2b_df, tslice_cramers_df, tslice_theils_df, tslice_rf_df]\n",
    "indices = list(g_dict.keys())\n",
    "\n",
    "for frame in dfs:\n",
    "    frame.index = indices\n",
    "    frame = frame.sort_index()"
   ]
  },
  {
   "cell_type": "code",
   "execution_count": 44,
   "metadata": {},
   "outputs": [
    {
     "data": {
      "text/html": [
       "<div>\n",
       "<style scoped>\n",
       "    .dataframe tbody tr th:only-of-type {\n",
       "        vertical-align: middle;\n",
       "    }\n",
       "\n",
       "    .dataframe tbody tr th {\n",
       "        vertical-align: top;\n",
       "    }\n",
       "\n",
       "    .dataframe thead th {\n",
       "        text-align: right;\n",
       "    }\n",
       "</style>\n",
       "<table border=\"1\" class=\"dataframe\">\n",
       "  <thead>\n",
       "    <tr style=\"text-align: right;\">\n",
       "      <th></th>\n",
       "      <th>c_fluid</th>\n",
       "      <th>c_label_prop</th>\n",
       "      <th>c_label_prop_asyn</th>\n",
       "      <th>c_louvain</th>\n",
       "      <th>c_modularity</th>\n",
       "    </tr>\n",
       "  </thead>\n",
       "  <tbody>\n",
       "    <tr>\n",
       "      <th>7</th>\n",
       "      <td>159.854151</td>\n",
       "      <td>33.974007</td>\n",
       "      <td>94.388503</td>\n",
       "      <td>168.109206</td>\n",
       "      <td>188.703738</td>\n",
       "    </tr>\n",
       "    <tr>\n",
       "      <th>6</th>\n",
       "      <td>102.780102</td>\n",
       "      <td>80.738849</td>\n",
       "      <td>42.438204</td>\n",
       "      <td>141.695747</td>\n",
       "      <td>145.670648</td>\n",
       "    </tr>\n",
       "    <tr>\n",
       "      <th>5</th>\n",
       "      <td>99.909415</td>\n",
       "      <td>50.559948</td>\n",
       "      <td>76.384040</td>\n",
       "      <td>144.028954</td>\n",
       "      <td>132.507450</td>\n",
       "    </tr>\n",
       "    <tr>\n",
       "      <th>4</th>\n",
       "      <td>97.911061</td>\n",
       "      <td>31.519923</td>\n",
       "      <td>61.807725</td>\n",
       "      <td>76.715505</td>\n",
       "      <td>122.389670</td>\n",
       "    </tr>\n",
       "    <tr>\n",
       "      <th>3</th>\n",
       "      <td>35.285523</td>\n",
       "      <td>38.404570</td>\n",
       "      <td>16.133908</td>\n",
       "      <td>60.067350</td>\n",
       "      <td>36.081732</td>\n",
       "    </tr>\n",
       "    <tr>\n",
       "      <th>2</th>\n",
       "      <td>28.811542</td>\n",
       "      <td>16.028485</td>\n",
       "      <td>14.200843</td>\n",
       "      <td>39.989409</td>\n",
       "      <td>41.105910</td>\n",
       "    </tr>\n",
       "    <tr>\n",
       "      <th>1</th>\n",
       "      <td>16.380409</td>\n",
       "      <td>7.440405</td>\n",
       "      <td>9.999497</td>\n",
       "      <td>12.021983</td>\n",
       "      <td>16.775953</td>\n",
       "    </tr>\n",
       "  </tbody>\n",
       "</table>\n",
       "</div>"
      ],
      "text/plain": [
       "      c_fluid  c_label_prop  c_label_prop_asyn   c_louvain  c_modularity\n",
       "7  159.854151     33.974007          94.388503  168.109206    188.703738\n",
       "6  102.780102     80.738849          42.438204  141.695747    145.670648\n",
       "5   99.909415     50.559948          76.384040  144.028954    132.507450\n",
       "4   97.911061     31.519923          61.807725   76.715505    122.389670\n",
       "3   35.285523     38.404570          16.133908   60.067350     36.081732\n",
       "2   28.811542     16.028485          14.200843   39.989409     41.105910\n",
       "1   16.380409      7.440405           9.999497   12.021983     16.775953"
      ]
     },
     "execution_count": 44,
     "metadata": {},
     "output_type": "execute_result"
    }
   ],
   "source": [
    "tslice_chi2a_df"
   ]
  },
  {
   "cell_type": "code",
   "execution_count": 43,
   "metadata": {},
   "outputs": [
    {
     "ename": "KeyError",
     "evalue": "'feature'",
     "output_type": "error",
     "traceback": [
      "\u001b[0;31m--------------------------------------\u001b[0m",
      "\u001b[0;31mKeyError\u001b[0mTraceback (most recent call last)",
      "\u001b[0;32m~/projects/crisis-data/venv/lib/python3.6/site-packages/pandas/core/indexes/base.py\u001b[0m in \u001b[0;36mget_loc\u001b[0;34m(self, key, method, tolerance)\u001b[0m\n\u001b[1;32m   2656\u001b[0m             \u001b[0;32mtry\u001b[0m\u001b[0;34m:\u001b[0m\u001b[0;34m\u001b[0m\u001b[0m\n\u001b[0;32m-> 2657\u001b[0;31m                 \u001b[0;32mreturn\u001b[0m \u001b[0mself\u001b[0m\u001b[0;34m.\u001b[0m\u001b[0m_engine\u001b[0m\u001b[0;34m.\u001b[0m\u001b[0mget_loc\u001b[0m\u001b[0;34m(\u001b[0m\u001b[0mkey\u001b[0m\u001b[0;34m)\u001b[0m\u001b[0;34m\u001b[0m\u001b[0m\n\u001b[0m\u001b[1;32m   2658\u001b[0m             \u001b[0;32mexcept\u001b[0m \u001b[0mKeyError\u001b[0m\u001b[0;34m:\u001b[0m\u001b[0;34m\u001b[0m\u001b[0m\n",
      "\u001b[0;32mpandas/_libs/index.pyx\u001b[0m in \u001b[0;36mpandas._libs.index.IndexEngine.get_loc\u001b[0;34m()\u001b[0m\n",
      "\u001b[0;32mpandas/_libs/index.pyx\u001b[0m in \u001b[0;36mpandas._libs.index.IndexEngine.get_loc\u001b[0;34m()\u001b[0m\n",
      "\u001b[0;32mpandas/_libs/hashtable_class_helper.pxi\u001b[0m in \u001b[0;36mpandas._libs.hashtable.PyObjectHashTable.get_item\u001b[0;34m()\u001b[0m\n",
      "\u001b[0;32mpandas/_libs/hashtable_class_helper.pxi\u001b[0m in \u001b[0;36mpandas._libs.hashtable.PyObjectHashTable.get_item\u001b[0;34m()\u001b[0m\n",
      "\u001b[0;31mKeyError\u001b[0m: 'feature'",
      "\nDuring handling of the above exception, another exception occurred:\n",
      "\u001b[0;31mKeyError\u001b[0mTraceback (most recent call last)",
      "\u001b[0;32m<ipython-input-43-1a58223f4a5f>\u001b[0m in \u001b[0;36m<module>\u001b[0;34m\u001b[0m\n\u001b[1;32m      1\u001b[0m \u001b[0;31m# Append the final graph values to each dataframe:\u001b[0m\u001b[0;34m\u001b[0m\u001b[0;34m\u001b[0m\u001b[0m\n\u001b[0;32m----> 2\u001b[0;31m \u001b[0ms\u001b[0m \u001b[0;34m=\u001b[0m \u001b[0mtslice_chi2a_df\u001b[0m\u001b[0;34m.\u001b[0m\u001b[0mset_index\u001b[0m\u001b[0;34m(\u001b[0m\u001b[0;34m'feature'\u001b[0m\u001b[0;34m)\u001b[0m\u001b[0;34m[\u001b[0m\u001b[0;34m'chi-square-a'\u001b[0m\u001b[0;34m]\u001b[0m\u001b[0;34m\u001b[0m\u001b[0m\n\u001b[0m\u001b[1;32m      3\u001b[0m \u001b[0ms\u001b[0m\u001b[0;34m.\u001b[0m\u001b[0mname\u001b[0m \u001b[0;34m=\u001b[0m \u001b[0;34m'final'\u001b[0m\u001b[0;34m\u001b[0m\u001b[0m\n\u001b[1;32m      4\u001b[0m \u001b[0mtslice_chi2a_df\u001b[0m \u001b[0;34m=\u001b[0m \u001b[0mtslice_chi2a_df\u001b[0m\u001b[0;34m.\u001b[0m\u001b[0mappend\u001b[0m\u001b[0;34m(\u001b[0m\u001b[0ms\u001b[0m\u001b[0;34m)\u001b[0m\u001b[0;34m\u001b[0m\u001b[0m\n\u001b[1;32m      5\u001b[0m \u001b[0;34m\u001b[0m\u001b[0m\n",
      "\u001b[0;32m~/projects/crisis-data/venv/lib/python3.6/site-packages/pandas/core/frame.py\u001b[0m in \u001b[0;36mset_index\u001b[0;34m(self, keys, drop, append, inplace, verify_integrity)\u001b[0m\n\u001b[1;32m   4176\u001b[0m                 \u001b[0mnames\u001b[0m\u001b[0;34m.\u001b[0m\u001b[0mappend\u001b[0m\u001b[0;34m(\u001b[0m\u001b[0;32mNone\u001b[0m\u001b[0;34m)\u001b[0m\u001b[0;34m\u001b[0m\u001b[0m\n\u001b[1;32m   4177\u001b[0m             \u001b[0;32melse\u001b[0m\u001b[0;34m:\u001b[0m\u001b[0;34m\u001b[0m\u001b[0m\n\u001b[0;32m-> 4178\u001b[0;31m                 \u001b[0mlevel\u001b[0m \u001b[0;34m=\u001b[0m \u001b[0mframe\u001b[0m\u001b[0;34m[\u001b[0m\u001b[0mcol\u001b[0m\u001b[0;34m]\u001b[0m\u001b[0;34m.\u001b[0m\u001b[0m_values\u001b[0m\u001b[0;34m\u001b[0m\u001b[0m\n\u001b[0m\u001b[1;32m   4179\u001b[0m                 \u001b[0mnames\u001b[0m\u001b[0;34m.\u001b[0m\u001b[0mappend\u001b[0m\u001b[0;34m(\u001b[0m\u001b[0mcol\u001b[0m\u001b[0;34m)\u001b[0m\u001b[0;34m\u001b[0m\u001b[0m\n\u001b[1;32m   4180\u001b[0m                 \u001b[0;32mif\u001b[0m \u001b[0mdrop\u001b[0m\u001b[0;34m:\u001b[0m\u001b[0;34m\u001b[0m\u001b[0m\n",
      "\u001b[0;32m~/projects/crisis-data/venv/lib/python3.6/site-packages/pandas/core/frame.py\u001b[0m in \u001b[0;36m__getitem__\u001b[0;34m(self, key)\u001b[0m\n\u001b[1;32m   2925\u001b[0m             \u001b[0;32mif\u001b[0m \u001b[0mself\u001b[0m\u001b[0;34m.\u001b[0m\u001b[0mcolumns\u001b[0m\u001b[0;34m.\u001b[0m\u001b[0mnlevels\u001b[0m \u001b[0;34m>\u001b[0m \u001b[0;36m1\u001b[0m\u001b[0;34m:\u001b[0m\u001b[0;34m\u001b[0m\u001b[0m\n\u001b[1;32m   2926\u001b[0m                 \u001b[0;32mreturn\u001b[0m \u001b[0mself\u001b[0m\u001b[0;34m.\u001b[0m\u001b[0m_getitem_multilevel\u001b[0m\u001b[0;34m(\u001b[0m\u001b[0mkey\u001b[0m\u001b[0;34m)\u001b[0m\u001b[0;34m\u001b[0m\u001b[0m\n\u001b[0;32m-> 2927\u001b[0;31m             \u001b[0mindexer\u001b[0m \u001b[0;34m=\u001b[0m \u001b[0mself\u001b[0m\u001b[0;34m.\u001b[0m\u001b[0mcolumns\u001b[0m\u001b[0;34m.\u001b[0m\u001b[0mget_loc\u001b[0m\u001b[0;34m(\u001b[0m\u001b[0mkey\u001b[0m\u001b[0;34m)\u001b[0m\u001b[0;34m\u001b[0m\u001b[0m\n\u001b[0m\u001b[1;32m   2928\u001b[0m             \u001b[0;32mif\u001b[0m \u001b[0mis_integer\u001b[0m\u001b[0;34m(\u001b[0m\u001b[0mindexer\u001b[0m\u001b[0;34m)\u001b[0m\u001b[0;34m:\u001b[0m\u001b[0;34m\u001b[0m\u001b[0m\n\u001b[1;32m   2929\u001b[0m                 \u001b[0mindexer\u001b[0m \u001b[0;34m=\u001b[0m \u001b[0;34m[\u001b[0m\u001b[0mindexer\u001b[0m\u001b[0;34m]\u001b[0m\u001b[0;34m\u001b[0m\u001b[0m\n",
      "\u001b[0;32m~/projects/crisis-data/venv/lib/python3.6/site-packages/pandas/core/indexes/base.py\u001b[0m in \u001b[0;36mget_loc\u001b[0;34m(self, key, method, tolerance)\u001b[0m\n\u001b[1;32m   2657\u001b[0m                 \u001b[0;32mreturn\u001b[0m \u001b[0mself\u001b[0m\u001b[0;34m.\u001b[0m\u001b[0m_engine\u001b[0m\u001b[0;34m.\u001b[0m\u001b[0mget_loc\u001b[0m\u001b[0;34m(\u001b[0m\u001b[0mkey\u001b[0m\u001b[0;34m)\u001b[0m\u001b[0;34m\u001b[0m\u001b[0m\n\u001b[1;32m   2658\u001b[0m             \u001b[0;32mexcept\u001b[0m \u001b[0mKeyError\u001b[0m\u001b[0;34m:\u001b[0m\u001b[0;34m\u001b[0m\u001b[0m\n\u001b[0;32m-> 2659\u001b[0;31m                 \u001b[0;32mreturn\u001b[0m \u001b[0mself\u001b[0m\u001b[0;34m.\u001b[0m\u001b[0m_engine\u001b[0m\u001b[0;34m.\u001b[0m\u001b[0mget_loc\u001b[0m\u001b[0;34m(\u001b[0m\u001b[0mself\u001b[0m\u001b[0;34m.\u001b[0m\u001b[0m_maybe_cast_indexer\u001b[0m\u001b[0;34m(\u001b[0m\u001b[0mkey\u001b[0m\u001b[0;34m)\u001b[0m\u001b[0;34m)\u001b[0m\u001b[0;34m\u001b[0m\u001b[0m\n\u001b[0m\u001b[1;32m   2660\u001b[0m         \u001b[0mindexer\u001b[0m \u001b[0;34m=\u001b[0m \u001b[0mself\u001b[0m\u001b[0;34m.\u001b[0m\u001b[0mget_indexer\u001b[0m\u001b[0;34m(\u001b[0m\u001b[0;34m[\u001b[0m\u001b[0mkey\u001b[0m\u001b[0;34m]\u001b[0m\u001b[0;34m,\u001b[0m \u001b[0mmethod\u001b[0m\u001b[0;34m=\u001b[0m\u001b[0mmethod\u001b[0m\u001b[0;34m,\u001b[0m \u001b[0mtolerance\u001b[0m\u001b[0;34m=\u001b[0m\u001b[0mtolerance\u001b[0m\u001b[0;34m)\u001b[0m\u001b[0;34m\u001b[0m\u001b[0m\n\u001b[1;32m   2661\u001b[0m         \u001b[0;32mif\u001b[0m \u001b[0mindexer\u001b[0m\u001b[0;34m.\u001b[0m\u001b[0mndim\u001b[0m \u001b[0;34m>\u001b[0m \u001b[0;36m1\u001b[0m \u001b[0;32mor\u001b[0m \u001b[0mindexer\u001b[0m\u001b[0;34m.\u001b[0m\u001b[0msize\u001b[0m \u001b[0;34m>\u001b[0m \u001b[0;36m1\u001b[0m\u001b[0;34m:\u001b[0m\u001b[0;34m\u001b[0m\u001b[0m\n",
      "\u001b[0;32mpandas/_libs/index.pyx\u001b[0m in \u001b[0;36mpandas._libs.index.IndexEngine.get_loc\u001b[0;34m()\u001b[0m\n",
      "\u001b[0;32mpandas/_libs/index.pyx\u001b[0m in \u001b[0;36mpandas._libs.index.IndexEngine.get_loc\u001b[0;34m()\u001b[0m\n",
      "\u001b[0;32mpandas/_libs/hashtable_class_helper.pxi\u001b[0m in \u001b[0;36mpandas._libs.hashtable.PyObjectHashTable.get_item\u001b[0;34m()\u001b[0m\n",
      "\u001b[0;32mpandas/_libs/hashtable_class_helper.pxi\u001b[0m in \u001b[0;36mpandas._libs.hashtable.PyObjectHashTable.get_item\u001b[0;34m()\u001b[0m\n",
      "\u001b[0;31mKeyError\u001b[0m: 'feature'"
     ]
    }
   ],
   "source": [
    "# Append the final graph values to each dataframe:\n",
    "s = chi2a_df.set_index('feature')['chi-square-a']\n",
    "s.name = 'final'\n",
    "tslice_chi2a_df = tslice_chi2a_df.append(s)\n",
    "\n",
    "s = chi2b_df.set_index('feature')['chi-square-b']\n",
    "s.name = 'final'\n",
    "tslice_chi2b_df = tslice_chi2b_df.append(s)\n",
    "\n",
    "s = cramers_df.set_index('feature')['cramers_v']\n",
    "s.name = 'final'\n",
    "tslice_cramers_df = tslice_cramers_df.append(s)\n",
    "\n",
    "s = theils_df.set_index('feature')['theils_u']\n",
    "s.name = 'final'\n",
    "tslice_theils_df = tslice_theils_df.append(s)\n",
    "\n",
    "s = rf_df.set_index('feature')['importance']\n",
    "s.name = 'final'\n",
    "tslice_rf_df = tslice_rf_df.append(s)\n"
   ]
  },
  {
   "cell_type": "code",
   "execution_count": 265,
   "metadata": {},
   "outputs": [
    {
     "name": "stdout",
     "output_type": "stream",
     "text": [
      "chi-square a\n"
     ]
    },
    {
     "data": {
      "image/png": "[encoded data removed]",
      "text/plain": [
       "<Figure size 864x576 with 5 Axes>"
      ]
     },
     "metadata": {
      "needs_background": "light"
     },
     "output_type": "display_data"
    }
   ],
   "source": [
    "colnames = tslice_chi2a_df.columns\n",
    "\n",
    "print('chi-square a')\n",
    "series_list = [tslice_chi2a_df[col] for col in colnames]\n",
    "plot_dfs_as_bar(series_list)"
   ]
  },
  {
   "cell_type": "code",
   "execution_count": 247,
   "metadata": {},
   "outputs": [
    {
     "name": "stdout",
     "output_type": "stream",
     "text": [
      "chi-square b\n"
     ]
    },
    {
     "data": {
      "image/png": "[encoded data removed]",
      "text/plain": [
       "<Figure size 864x576 with 5 Axes>"
      ]
     },
     "metadata": {
      "needs_background": "light"
     },
     "output_type": "display_data"
    }
   ],
   "source": [
    "print('chi-square b')\n",
    "series_list = [tslice_chi2b_df[col] for col in colnames]\n",
    "plot_dfs_as_bar(series_list)"
   ]
  },
  {
   "cell_type": "code",
   "execution_count": 248,
   "metadata": {},
   "outputs": [
    {
     "name": "stdout",
     "output_type": "stream",
     "text": [
      "Cramer's v\n"
     ]
    },
    {
     "data": {
      "image/png": "[encoded data removed]",
      "text/plain": [
       "<Figure size 864x576 with 5 Axes>"
      ]
     },
     "metadata": {
      "needs_background": "light"
     },
     "output_type": "display_data"
    }
   ],
   "source": [
    "print('Cramer\\'s v')\n",
    "series_list = [tslice_cramers_df[col] for col in colnames]\n",
    "plot_dfs_as_bar(series_list)"
   ]
  },
  {
   "cell_type": "code",
   "execution_count": 249,
   "metadata": {},
   "outputs": [
    {
     "name": "stdout",
     "output_type": "stream",
     "text": [
      "Theil\\s U\n"
     ]
    },
    {
     "data": {
      "image/png": "[encoded data removed]",
      "text/plain": [
       "<Figure size 864x576 with 5 Axes>"
      ]
     },
     "metadata": {
      "needs_background": "light"
     },
     "output_type": "display_data"
    }
   ],
   "source": [
    "print('Theil\\s U')\n",
    "series_list = [tslice_theils_df[col] for col in colnames]\n",
    "plot_dfs_as_bar(series_list)"
   ]
  },
  {
   "cell_type": "code",
   "execution_count": 250,
   "metadata": {},
   "outputs": [
    {
     "name": "stdout",
     "output_type": "stream",
     "text": [
      "RF Feature Importance\n"
     ]
    },
    {
     "data": {
      "image/png": "[encoded data removed]",
      "text/plain": [
       "<Figure size 864x576 with 5 Axes>"
      ]
     },
     "metadata": {
      "needs_background": "light"
     },
     "output_type": "display_data"
    }
   ],
   "source": [
    "print('RF Feature Importance')\n",
    "series_list = [tslice_rf_df[col] for col in colnames]\n",
    "plot_dfs_as_bar(series_list)"
   ]
  },
  {
   "cell_type": "code",
   "execution_count": 36,
   "metadata": {},
   "outputs": [
    {
     "name": "stdout",
     "output_type": "stream",
     "text": [
      "Int64Index([7, 6, 5, 4, 3, 2, 1], dtype='int64')\n",
      "RangeIndex(start=0, stop=8, step=1)\n",
      "RangeIndex(start=0, stop=7, step=1)\n",
      "RangeIndex(start=0, stop=7, step=1)\n",
      "RangeIndex(start=0, stop=7, step=1)\n"
     ]
    }
   ],
   "source": [
    "for frame in [tslice_chi2a_df, tslice_chi2b_df, tslice_cramers_df, tslice_theils_df, tslice_rf_df]:\n",
    "    print(frame.index)\n",
    "    #frame.drop(['final'], inplace=True)"
   ]
  },
  {
   "cell_type": "code",
   "execution_count": 37,
   "metadata": {},
   "outputs": [
    {
     "data": {
      "text/html": [
       "<div>\n",
       "<style scoped>\n",
       "    .dataframe tbody tr th:only-of-type {\n",
       "        vertical-align: middle;\n",
       "    }\n",
       "\n",
       "    .dataframe tbody tr th {\n",
       "        vertical-align: top;\n",
       "    }\n",
       "\n",
       "    .dataframe thead th {\n",
       "        text-align: right;\n",
       "    }\n",
       "</style>\n",
       "<table border=\"1\" class=\"dataframe\">\n",
       "  <thead>\n",
       "    <tr style=\"text-align: right;\">\n",
       "      <th></th>\n",
       "      <th>c_fluid</th>\n",
       "      <th>c_label_prop</th>\n",
       "      <th>c_label_prop_asyn</th>\n",
       "      <th>c_louvain</th>\n",
       "      <th>c_modularity</th>\n",
       "    </tr>\n",
       "  </thead>\n",
       "  <tbody>\n",
       "    <tr>\n",
       "      <th>0</th>\n",
       "      <td>159.854151</td>\n",
       "      <td>33.974007</td>\n",
       "      <td>94.388503</td>\n",
       "      <td>168.109206</td>\n",
       "      <td>188.703738</td>\n",
       "    </tr>\n",
       "    <tr>\n",
       "      <th>1</th>\n",
       "      <td>102.780102</td>\n",
       "      <td>80.738849</td>\n",
       "      <td>42.438204</td>\n",
       "      <td>141.695747</td>\n",
       "      <td>145.670648</td>\n",
       "    </tr>\n",
       "    <tr>\n",
       "      <th>2</th>\n",
       "      <td>99.909415</td>\n",
       "      <td>50.559948</td>\n",
       "      <td>76.384040</td>\n",
       "      <td>144.028954</td>\n",
       "      <td>132.507450</td>\n",
       "    </tr>\n",
       "    <tr>\n",
       "      <th>3</th>\n",
       "      <td>97.911061</td>\n",
       "      <td>31.519923</td>\n",
       "      <td>61.807725</td>\n",
       "      <td>76.715505</td>\n",
       "      <td>122.389670</td>\n",
       "    </tr>\n",
       "    <tr>\n",
       "      <th>4</th>\n",
       "      <td>35.285523</td>\n",
       "      <td>38.404570</td>\n",
       "      <td>16.133908</td>\n",
       "      <td>60.067350</td>\n",
       "      <td>36.081732</td>\n",
       "    </tr>\n",
       "    <tr>\n",
       "      <th>5</th>\n",
       "      <td>28.811542</td>\n",
       "      <td>16.028485</td>\n",
       "      <td>14.200843</td>\n",
       "      <td>39.989409</td>\n",
       "      <td>41.105910</td>\n",
       "    </tr>\n",
       "    <tr>\n",
       "      <th>6</th>\n",
       "      <td>16.380409</td>\n",
       "      <td>7.440405</td>\n",
       "      <td>9.999497</td>\n",
       "      <td>12.021983</td>\n",
       "      <td>16.775953</td>\n",
       "    </tr>\n",
       "    <tr>\n",
       "      <th>7</th>\n",
       "      <td>7.467430</td>\n",
       "      <td>3.212658</td>\n",
       "      <td>3.247541</td>\n",
       "      <td>13.231867</td>\n",
       "      <td>61.895158</td>\n",
       "    </tr>\n",
       "  </tbody>\n",
       "</table>\n",
       "</div>"
      ],
      "text/plain": [
       "      c_fluid  c_label_prop  c_label_prop_asyn   c_louvain  c_modularity\n",
       "0  159.854151     33.974007          94.388503  168.109206    188.703738\n",
       "1  102.780102     80.738849          42.438204  141.695747    145.670648\n",
       "2   99.909415     50.559948          76.384040  144.028954    132.507450\n",
       "3   97.911061     31.519923          61.807725   76.715505    122.389670\n",
       "4   35.285523     38.404570          16.133908   60.067350     36.081732\n",
       "5   28.811542     16.028485          14.200843   39.989409     41.105910\n",
       "6   16.380409      7.440405           9.999497   12.021983     16.775953\n",
       "7    7.467430      3.212658           3.247541   13.231867     61.895158"
      ]
     },
     "execution_count": 37,
     "metadata": {},
     "output_type": "execute_result"
    }
   ],
   "source": [
    "tslice_chi2b_df"
   ]
  },
  {
   "cell_type": "code",
   "execution_count": null,
   "metadata": {},
   "outputs": [],
   "source": []
  }
 ],
 "metadata": {
  "kernelspec": {
   "display_name": "Django Shell-Plus",
   "language": "python",
   "name": "django_extensions"
  },
  "language_info": {
   "codemirror_mode": {
    "name": "ipython",
    "version": 3
   },
   "file_extension": ".py",
   "mimetype": "text/x-python",
   "name": "python",
   "nbconvert_exporter": "python",
   "pygments_lexer": "ipython3",
   "version": "3.6.2"
  },
  "toc": {
   "base_numbering": 1,
   "nav_menu": {},
   "number_sections": true,
   "sideBar": true,
   "skip_h1_title": false,
   "title_cell": "Table of Contents",
   "title_sidebar": "Contents",
   "toc_cell": false,
   "toc_position": {},
   "toc_section_display": true,
   "toc_window_display": false
  },
  "varInspector": {
   "cols": {
    "lenName": 16,
    "lenType": 16,
    "lenVar": 40
   },
   "kernels_config": {
    "python": {
     "delete_cmd_postfix": "",
     "delete_cmd_prefix": "del ",
     "library": "var_list.py",
     "varRefreshCmd": "print(var_dic_list())"
    },
    "r": {
     "delete_cmd_postfix": ") ",
     "delete_cmd_prefix": "rm(",
     "library": "var_list.r",
     "varRefreshCmd": "cat(var_dic_list()) "
    }
   },
   "types_to_exclude": [
    "module",
    "function",
    "builtin_function_or_method",
    "instance",
    "_Feature"
   ],
   "window_display": false
  }
 },
 "nbformat": 4,
 "nbformat_minor": 2
}
