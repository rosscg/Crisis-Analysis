{
 "cells": [
  {
   "cell_type": "markdown",
   "metadata": {},
   "source": [
    "## Analysis"
   ]
  },
  {
   "cell_type": "code",
   "execution_count": 4,
   "metadata": {},
   "outputs": [],
   "source": [
    "import os\n",
    "from tex_funcs import set_tex_var as set_tex_var_import\n",
    "from tex_funcs import df_to_tex as df_to_tex_import\n",
    "\n",
    "LATEX_DAT_PATH = './data/harvey_user_location/latex/network-analysis.dat'\n",
    "LATEX_TABLE_PATH = './data/harvey_user_location/latex/network-analysis-tabs.dat'\n",
    "\n",
    "for file in [LATEX_DAT_PATH, LATEX_TABLE_PATH]:\n",
    "    try:    \n",
    "        os.remove(file)\n",
    "    except:\n",
    "        pass\n",
    "\n",
    "def set_tex_var(name, val, dec=3):\n",
    "    set_tex_var_import(name, val, LATEX_DAT_PATH, dec)\n",
    "\n",
    "def df_to_tex(df, cols=None, label='UNNAMED', caption='UNDEFINED', \n",
    "    width=0.8, row_sep=1, col_widths=None, dec_dict=None,sum_row=False):\n",
    "    df_to_tex_import(df, LATEX_TABLE_PATH, cols, label, caption, width, row_sep, col_widths, dec_dict,sum_row)"
   ]
  },
  {
   "cell_type": "code",
   "execution_count": 5,
   "metadata": {},
   "outputs": [
    {
     "name": "stdout",
     "output_type": "stream",
     "text": [
      "Unique Harvey Locs: 5056\n",
      "Unique Florence Locs: 29507\n"
     ]
    }
   ],
   "source": [
    "DIR = './data/harvey_user_location/'\n",
    "with open(DIR + 'locality_dict_hrv.txt') as json_file:\n",
    "    hrv_locs = json.load(json_file)\n",
    "print('Unique Harvey Locs:', len(hrv_locs))\n",
    "\n",
    "DIR = './data/florence_user_location/'\n",
    "with open(DIR + 'flr_locs.txt') as json_file:\n",
    "    flr_locs = json.load(json_file)\n",
    "print('Unique Florence Locs:', len(flr_locs))"
   ]
  },
  {
   "cell_type": "code",
   "execution_count": 6,
   "metadata": {},
   "outputs": [],
   "source": [
    "set_tex_var('hrvUniqLocs', len(hrv_locs))\n",
    "set_tex_var('flrUniqLocs', len(flr_locs))"
   ]
  },
  {
   "cell_type": "markdown",
   "metadata": {},
   "source": [
    "### Harvey Network"
   ]
  },
  {
   "cell_type": "code",
   "execution_count": 66,
   "metadata": {},
   "outputs": [],
   "source": [
    "import networkx as nx\n",
    "\n",
    "DIR = './data/harvey_user_location/graph_objs/'\n",
    "GEXF_FILE = 'network_data_HurricaneHarvey_v1.gexf'\n",
    "G = nx.read_gexf(DIR + GEXF_FILE)\n",
    "# Make undirected:\n",
    "G2 = nx.Graph(G)"
   ]
  },
  {
   "cell_type": "code",
   "execution_count": 67,
   "metadata": {},
   "outputs": [],
   "source": [
    "Gcc = max(nx.connected_components(G2), key=len)\n",
    "G_lcc = G2.subgraph(Gcc)\n",
    "\n",
    "lcc_nodes = '{:,.0f} ({:.2f})'.format(G_lcc.number_of_nodes(), G_lcc.number_of_nodes()/G.number_of_nodes())\n",
    "lcc_edges = '{:,.0f} ({:.2f})'.format(G_lcc.number_of_edges(), G_lcc.number_of_edges()/G.number_of_edges())\n",
    "\n",
    "hrv_g_row = {'Event':'Harvey', 'Nodes':'{:,.0f}'.format(G.number_of_nodes()), 'Edges':'{:,.0f}'.format(G.number_of_edges())}\n",
    "hrv_lcc_row = {'Event':'Harvey$_{LCC}$', 'Nodes':lcc_nodes, 'Edges':lcc_edges}\n",
    "\n",
    "Gcc = None\n",
    "G_lcc = None"
   ]
  },
  {
   "cell_type": "code",
   "execution_count": 68,
   "metadata": {},
   "outputs": [
    {
     "name": "stdout",
     "output_type": "stream",
     "text": [
      "Harvey assortativity for undirected graph: 0.37909172708250594\n",
      "Harvey assortativity for directed graph: 0.385031221987116\n"
     ]
    }
   ],
   "source": [
    "assort_coef = nx.attribute_assortativity_coefficient(G2, 'lcl_profile')\n",
    "print('Harvey assortativity for undirected graph:', assort_coef)\n",
    "assort_coef = nx.attribute_assortativity_coefficient(G, 'lcl_profile')\n",
    "print('Harvey assortativity for directed graph:', assort_coef)"
   ]
  },
  {
   "cell_type": "code",
   "execution_count": 8,
   "metadata": {},
   "outputs": [
    {
     "name": "stdout",
     "output_type": "stream",
     "text": [
      "31932 nodes reduced to 21157\n",
      "Harvey assortativity for non-null profile location nodes, undirected: 0.6165076429568769\n",
      "Harvey assortativity for non-null profile location nodes, directed: 0.6265234987134032\n"
     ]
    }
   ],
   "source": [
    "# Excluding non-geocoded nodes:\n",
    "partition = [node for node, data in G2.nodes(data=True) if data.get('lcl_profile') != '']\n",
    "G2 = G2.subgraph(partition)\n",
    "print('{} nodes reduced to {}'.format(G.number_of_nodes(), G2.number_of_nodes()))\n",
    "\n",
    "assort_coef_1 = nx.attribute_assortativity_coefficient(G2, 'lcl_profile')\n",
    "print('Harvey assortativity for non-null profile location nodes, undirected:', assort_coef_1)\n",
    "\n",
    "G3 = G.subgraph(partition)\n",
    "assort_coef_2 = nx.attribute_assortativity_coefficient(G3, 'lcl_profile')\n",
    "print('Harvey assortativity for non-null profile location nodes, directed:', assort_coef_2)"
   ]
  },
  {
   "cell_type": "code",
   "execution_count": 9,
   "metadata": {},
   "outputs": [],
   "source": [
    "set_tex_var('hrvAssortCoef', assort_coef_2, 3)\n",
    "\n",
    "hrv_g_row = {'Event':'Harvey', 'Nodes':orig_nodes, 'Edges':orig_edges}\n",
    "hrv_g2_row = {'Event':'Harvey$_{LCC}$', 'Nodes':G2.number_of_nodes(), 'Edges':G2.number_of_edges()}\n",
    "hrv_assort_row = {'Event': 'Harvey', 'Nodes$_{total}$':orig_nodes, 'Nodes$_{filtered}$':G2.number_of_nodes(), 'Assortativity':assort_coef_2}"
   ]
  },
  {
   "cell_type": "markdown",
   "metadata": {},
   "source": [
    "Assortativity based on the coded label is also calculated. This uses a subgraph of only nodes which have been coded."
   ]
  },
  {
   "cell_type": "code",
   "execution_count": 10,
   "metadata": {},
   "outputs": [
    {
     "name": "stdout",
     "output_type": "stream",
     "text": [
      "Harvey coded dataset assortativity, directed: 0.385031221987116\n",
      "Harvey coded dataset assortativity, undirected: 0.385031221987116\n",
      "Harvey LCC coded dataset assortativity, directed: 0.385031221987116\n",
      "Harvey LCC coded dataset assortativity, undirected: 0.385031221987116\n"
     ]
    }
   ],
   "source": [
    "G3 = G.copy()\n",
    "\n",
    "nodes = [\n",
    "    node\n",
    "    for node, data\n",
    "    in G3.nodes(data=True)\n",
    "    if data.get(\"user_code\") != \"\"\n",
    "]\n",
    "G3 = G3.subgraph(nodes)\n",
    "\n",
    "attrs = {}\n",
    "for node, data in G3.nodes(data=True):\n",
    "    if data.get(\"user_code\") != \"Non-Witness\":\n",
    "        attrs[node] = {\"user_code\":True}\n",
    "    else:\n",
    "        attrs[node] = {\"user_code\":False}\n",
    "nx.set_node_attributes(G3, attrs)\n",
    "\n",
    "assort_coef_1 = nx.attribute_assortativity_coefficient(G3, 'user_code')\n",
    "print('Harvey coded dataset assortativity, directed:', assort_coef)\n",
    "assort_coef_2 = nx.attribute_assortativity_coefficient(nx.Graph(G3), 'user_code')\n",
    "print('Harvey coded dataset assortativity, undirected:', assort_coef)\n",
    "\n",
    "\n",
    "# Check LCC (of full graph)\n",
    "Gcc = max(nx.connected_components(G2), key=len)\n",
    "G4 = G3.subgraph(Gcc)\n",
    "\n",
    "assort_coef_3 = nx.attribute_assortativity_coefficient(G4, 'user_code')\n",
    "print('Harvey LCC coded dataset assortativity, directed:', assort_coef)\n",
    "assort_coef_4 = nx.attribute_assortativity_coefficient(nx.Graph(G4), 'user_code')\n",
    "print('Harvey LCC coded dataset assortativity, undirected:', assort_coef)"
   ]
  },
  {
   "cell_type": "code",
   "execution_count": 11,
   "metadata": {},
   "outputs": [],
   "source": [
    "val = assort_coef_1\n",
    "\n",
    "set_tex_var('hrvAssortCoefCoded', val, 3)\n",
    "\n",
    "if val >= 0.5:\n",
    "    interp = 'strong'\n",
    "elif val >= 0.3:\n",
    "    interp = 'moderate'\n",
    "elif val > 0:\n",
    "    interp = 'low'\n",
    "else:\n",
    "    raise Exception('No correlation, check how value is used in document.')\n",
    "set_tex_var('hrvAssortCoefCodedInterpretation', interp)"
   ]
  },
  {
   "cell_type": "markdown",
   "metadata": {},
   "source": [
    "### Florence Network\n",
    "Now the same calculations are repeated for the Florence dataset (excluding the coded subgraph)"
   ]
  },
  {
   "cell_type": "code",
   "execution_count": 1,
   "metadata": {},
   "outputs": [],
   "source": [
    "import networkx as nx\n",
    "\n",
    "DIR = './data/florence_user_location/'\n",
    "# LCC of users detected within first week of event:\n",
    "GEXF_FILE = 'Florence_network_data_20210721.gexf'\n",
    "G = nx.read_gexf(DIR + GEXF_FILE)\n",
    "# Make undirected:\n",
    "G2 = nx.Graph(G)"
   ]
  },
  {
   "cell_type": "code",
   "execution_count": 23,
   "metadata": {},
   "outputs": [],
   "source": [
    "########## NOTE: vals hardcoded as file is already the LCC subgraph.\n",
    "orig_nodes = 124558\n",
    "orig_edges = 3428659\n",
    "##########\n",
    "\n",
    "# Gcc = max(nx.connected_components(G2), key=len)\n",
    "# G_lcc = G2.subgraph(Gcc)\n",
    "\n",
    "# lcc_nodes = '{:,.0f} ({:.3f})'.format(G_lcc.number_of_nodes(), G_lcc.number_of_nodes()/G.number_of_nodes())\n",
    "# lcc_edges = '{:,.0f} ({:.3f})'.format(G_lcc.number_of_edges(), G_lcc.number_of_edges()/G.number_of_edges())\n",
    "\n",
    "lcc_nodes = '{:,.0f} ({:.2f})'.format(G.number_of_nodes(), G.number_of_nodes()/orig_nodes)\n",
    "lcc_edges = '{:,.0f} ({:.2f})'.format(G.number_of_edges(), G.number_of_edges()/orig_edges)\n",
    "\n",
    "flr_g_row = {'Event':'Florence', 'Nodes':'{:,.0f}'.format(orig_nodes), 'Edges':'{:,.0f}'.format(orig_edges)}\n",
    "flr_lcc_row = {'Event':'Florence$_{LCC}$', 'Nodes':lcc_nodes, 'Edges':lcc_edges}\n",
    "\n",
    "# Gcc = None\n",
    "# G_lcc = None"
   ]
  },
  {
   "cell_type": "code",
   "execution_count": null,
   "metadata": {},
   "outputs": [],
   "source": [
    "assort_coef = nx.attribute_assortativity_coefficient(G2, 'lcl_profile')\n",
    "print('Florence assortativity for undirected graph:', assort_coef)\n",
    "assort_coef = nx.attribute_assortativity_coefficient(G, 'lcl_profile')\n",
    "print('Florence assortativity for directed graph:', assort_coef)"
   ]
  },
  {
   "cell_type": "code",
   "execution_count": 13,
   "metadata": {},
   "outputs": [
    {
     "name": "stdout",
     "output_type": "stream",
     "text": [
      "106732 nodes reduced to 79807\n",
      "Florence assortativity for non-null profile location nodes, undirected: 0.560285625242073\n",
      "Florence assortativity for non-null profile location nodes, directed: 0.5417783804383417\n"
     ]
    }
   ],
   "source": [
    "# Excluding non-geocoded nodes:\n",
    "orig_nodes = G2.number_of_nodes()\n",
    "partition = [node for node, data in G2.nodes(data=True) if data.get('lcl_profile') != None]\n",
    "G2 = G2.subgraph(partition)\n",
    "print('{} nodes reduced to {}'.format(orig_nodes, G2.number_of_nodes()))\n",
    "\n",
    "assort_coef_1 = nx.attribute_assortativity_coefficient(G2, 'lcl_profile')\n",
    "print('Florence assortativity for non-null profile location nodes, undirected:', assort_coef_1)\n",
    "\n",
    "G3 = G.subgraph(partition)\n",
    "assort_coef_2 = nx.attribute_assortativity_coefficient(G3, 'lcl_profile')\n",
    "print('Florence assortativity for non-null profile location nodes, directed:', assort_coef_2)"
   ]
  },
  {
   "cell_type": "code",
   "execution_count": 14,
   "metadata": {},
   "outputs": [],
   "source": [
    "set_tex_var('flrAssortCoef', assort_coef_2, 3)\n",
    "\n",
    "flr_assort_row = {'Event': 'Florence', 'Nodes$_{total}$':orig_nodes, 'Nodes$_{filtered}$':G2.number_of_nodes(), 'Assortativity':assort_coef_2}"
   ]
  },
  {
   "cell_type": "code",
   "execution_count": 19,
   "metadata": {},
   "outputs": [
    {
     "name": "stdout",
     "output_type": "stream",
     "text": [
      "Florence (exclusion) assortativity for undirected graph: 0.2095158880510173\n",
      "Florence (exclusion) assortativity for directed graph: 0.18983880059377306\n",
      "100343 nodes reduced to 68897\n",
      "Florence assortativity for non-null profile location nodes, undirected: 0.5364163672797281\n",
      "Florence assortativity for non-null profile location nodes, directed: 0.5130369248901543\n"
     ]
    }
   ],
   "source": [
    "###########################\n",
    "######### Florence network after exclusion box applied\n",
    "###########################\n",
    "import networkx as nx\n",
    "\n",
    "DIR = './data/florence_user_location/'\n",
    "# Network of users detected within first week of event:\n",
    "GEXF_FILE = 'Florence_network_data_exclusion_20210729.gexf'\n",
    "G = nx.read_gexf(DIR + GEXF_FILE)\n",
    "# Make undirected:\n",
    "G2 = nx.Graph(G)\n",
    "\n",
    "\n",
    "# Gcc = max(nx.connected_components(G2), key=len)\n",
    "# G_lcc = G2.subgraph(Gcc)\n",
    "\n",
    "# lcc_nodes = '{:,.0f} ({:.2f})'.format(G_lcc.number_of_nodes(), G_lcc.number_of_nodes()/G.number_of_nodes())\n",
    "# lcc_edges = '{:,.0f} ({:.2f})'.format(G_lcc.number_of_edges(), G_lcc.number_of_edges()/G.number_of_edges())\n",
    "\n",
    "# flr_g_row = {'Event':'Florence', 'Nodes':'{:,.0f}'.format(G.number_of_nodes()), 'Edges':'{:,.0f}'.format(G.number_of_edges())}\n",
    "# flr_lcc_row = {'Event':'Florence$_{LCC}$', 'Nodes':lcc_nodes, 'Edges':lcc_edges}\n",
    "\n",
    "# Gcc = None\n",
    "# G_lcc = None\n",
    "\n",
    "assort_coef = nx.attribute_assortativity_coefficient(G2, 'lcl_prf')\n",
    "print('Florence (exclusion) assortativity for undirected graph:', assort_coef)\n",
    "assort_coef = nx.attribute_assortativity_coefficient(G, 'lcl_prf')\n",
    "print('Florence (exclusion) assortativity for directed graph:', assort_coef)\n",
    "\n",
    "# Excluding non-geocoded nodes:\n",
    "orig_nodes = G2.number_of_nodes()\n",
    "partition = [node for node, data in G2.nodes(data=True) if data.get('lcl_prf') != None]\n",
    "G2 = G2.subgraph(partition)\n",
    "print('{} nodes reduced to {}'.format(orig_nodes, G2.number_of_nodes()))\n",
    "\n",
    "assort_coef_1 = nx.attribute_assortativity_coefficient(G2, 'lcl_prf')\n",
    "print('Florence assortativity for non-null profile location nodes, undirected:', assort_coef_1)\n",
    "\n",
    "G3 = G.subgraph(partition)\n",
    "assort_coef_2 = nx.attribute_assortativity_coefficient(G3, 'lcl_prf')\n",
    "print('Florence assortativity for non-null profile location nodes, directed:', assort_coef_2)"
   ]
  },
  {
   "cell_type": "code",
   "execution_count": 21,
   "metadata": {},
   "outputs": [
    {
     "name": "stdout",
     "output_type": "stream",
     "text": [
      "100343 2523974\n",
      "81274 1747636\n",
      "Florence (exclusion) assortativity for undirected graph: 0.20943478414306793\n",
      "Florence (exclusion) assortativity for directed graph: 0.18973403303935382\n",
      "81274 nodes reduced to 60917\n",
      "Florence assortativity for non-null profile location nodes, undirected: 0.5364150356059781\n",
      "Florence assortativity for non-null profile location nodes, directed: 0.5130346105509414\n"
     ]
    }
   ],
   "source": [
    "#Run again on LCC:\n",
    "print(G.number_of_nodes(), G.number_of_edges())\n",
    "\n",
    "G2 = nx.Graph(G)\n",
    "Gcc = max(nx.connected_components(G2), key=len)\n",
    "G2 = G2.subgraph(Gcc)\n",
    "G = G.subgraph(Gcc)\n",
    "\n",
    "print(G2.number_of_nodes(), G2.number_of_edges())\n",
    "\n",
    "assort_coef = nx.attribute_assortativity_coefficient(G2, 'lcl_prf')\n",
    "print('Florence (exclusion) assortativity for undirected graph:', assort_coef)\n",
    "assort_coef = nx.attribute_assortativity_coefficient(G, 'lcl_prf')\n",
    "print('Florence (exclusion) assortativity for directed graph:', assort_coef)\n",
    "\n",
    "# Excluding non-geocoded nodes:\n",
    "orig_nodes = G2.number_of_nodes()\n",
    "partition = [node for node, data in G2.nodes(data=True) if data.get('lcl_prf') != None]\n",
    "G2 = G2.subgraph(partition)\n",
    "print('{} nodes reduced to {}'.format(orig_nodes, G2.number_of_nodes()))\n",
    "\n",
    "assort_coef_1 = nx.attribute_assortativity_coefficient(G2, 'lcl_prf')\n",
    "print('Florence assortativity for non-null profile location nodes, undirected:', assort_coef_1)\n",
    "\n",
    "G3 = G.subgraph(partition)\n",
    "assort_coef_2 = nx.attribute_assortativity_coefficient(G3, 'lcl_prf')\n",
    "print('Florence assortativity for non-null profile location nodes, directed:', assort_coef_2)"
   ]
  },
  {
   "cell_type": "code",
   "execution_count": null,
   "metadata": {},
   "outputs": [],
   "source": [
    "############################\n",
    "import networkx as nx\n",
    "DIR = './data/florence_user_location/'\n",
    "\n",
    "GEXF_FILE = 'Florence_network_data_exclusion_wronglclprf_20210729.gexf'\n",
    "G = nx.read_gexf(DIR + GEXF_FILE)\n",
    "print(G.number_of_nodes(), G.number_of_edges())\n",
    "\n",
    "GEXF_FILE = 'Florence_network_data_exclusion_20210729.gexf'\n",
    "G = nx.read_gexf(DIR + GEXF_FILE)\n",
    "print(G.number_of_nodes(), G.number_of_edges())"
   ]
  },
  {
   "cell_type": "markdown",
   "metadata": {},
   "source": [
    "### Exporting Tables"
   ]
  },
  {
   "cell_type": "code",
   "execution_count": 69,
   "metadata": {},
   "outputs": [
    {
     "data": {
      "text/html": [
       "<div>\n",
       "<style scoped>\n",
       "    .dataframe tbody tr th:only-of-type {\n",
       "        vertical-align: middle;\n",
       "    }\n",
       "\n",
       "    .dataframe tbody tr th {\n",
       "        vertical-align: top;\n",
       "    }\n",
       "\n",
       "    .dataframe thead th {\n",
       "        text-align: right;\n",
       "    }\n",
       "</style>\n",
       "<table border=\"1\" class=\"dataframe\">\n",
       "  <thead>\n",
       "    <tr style=\"text-align: right;\">\n",
       "      <th></th>\n",
       "      <th>Event</th>\n",
       "      <th>Nodes</th>\n",
       "      <th>Edges</th>\n",
       "    </tr>\n",
       "  </thead>\n",
       "  <tbody>\n",
       "    <tr>\n",
       "      <th>0</th>\n",
       "      <td>Harvey</td>\n",
       "      <td>31,932</td>\n",
       "      <td>101,096</td>\n",
       "    </tr>\n",
       "    <tr>\n",
       "      <th>1</th>\n",
       "      <td>Harvey$_{LCC}$</td>\n",
       "      <td>18,410 (0.58)</td>\n",
       "      <td>76,341 (0.76)</td>\n",
       "    </tr>\n",
       "    <tr>\n",
       "      <th>2</th>\n",
       "      <td></td>\n",
       "      <td></td>\n",
       "      <td></td>\n",
       "    </tr>\n",
       "    <tr>\n",
       "      <th>3</th>\n",
       "      <td>Florence</td>\n",
       "      <td>124,558</td>\n",
       "      <td>3,428,659</td>\n",
       "    </tr>\n",
       "    <tr>\n",
       "      <th>4</th>\n",
       "      <td>Florence$_{LCC}$</td>\n",
       "      <td>106,732 (0.86)</td>\n",
       "      <td>3,428,033 (1.00)</td>\n",
       "    </tr>\n",
       "  </tbody>\n",
       "</table>\n",
       "</div>"
      ],
      "text/plain": [
       "              Event           Nodes             Edges\n",
       "0            Harvey          31,932           101,096\n",
       "1    Harvey$_{LCC}$   18,410 (0.58)     76,341 (0.76)\n",
       "2                                                    \n",
       "3          Florence         124,558         3,428,659\n",
       "4  Florence$_{LCC}$  106,732 (0.86)  3,428,033 (1.00)"
      ]
     },
     "execution_count": 69,
     "metadata": {},
     "output_type": "execute_result"
    }
   ],
   "source": [
    "import pandas as pd\n",
    "\n",
    "df = pd.DataFrame([hrv_g_row, hrv_lcc_row, {}, flr_g_row, flr_lcc_row])\n",
    "df = df[['Event', 'Nodes', 'Edges']]\n",
    "df = df.fillna('')\n",
    "df"
   ]
  },
  {
   "cell_type": "code",
   "execution_count": 70,
   "metadata": {},
   "outputs": [
    {
     "name": "stdout",
     "output_type": "stream",
     "text": [
      "Writing df to file as tex...\n"
     ]
    }
   ],
   "source": [
    "df_to_tex(df, label='network-size', caption='Network Sizes', width=0.8, row_sep=0)"
   ]
  },
  {
   "cell_type": "code",
   "execution_count": 15,
   "metadata": {},
   "outputs": [
    {
     "data": {
      "text/html": [
       "<div>\n",
       "<style scoped>\n",
       "    .dataframe tbody tr th:only-of-type {\n",
       "        vertical-align: middle;\n",
       "    }\n",
       "\n",
       "    .dataframe tbody tr th {\n",
       "        vertical-align: top;\n",
       "    }\n",
       "\n",
       "    .dataframe thead th {\n",
       "        text-align: right;\n",
       "    }\n",
       "</style>\n",
       "<table border=\"1\" class=\"dataframe\">\n",
       "  <thead>\n",
       "    <tr style=\"text-align: right;\">\n",
       "      <th></th>\n",
       "      <th>Event</th>\n",
       "      <th>Nodes$_{total}$</th>\n",
       "      <th>Nodes$_{filtered}$</th>\n",
       "      <th>Assortativity</th>\n",
       "    </tr>\n",
       "  </thead>\n",
       "  <tbody>\n",
       "    <tr>\n",
       "      <th>0</th>\n",
       "      <td>Harvey</td>\n",
       "      <td>31932</td>\n",
       "      <td>21157</td>\n",
       "      <td>0.626523</td>\n",
       "    </tr>\n",
       "    <tr>\n",
       "      <th>1</th>\n",
       "      <td>Florence</td>\n",
       "      <td>106732</td>\n",
       "      <td>79807</td>\n",
       "      <td>0.541778</td>\n",
       "    </tr>\n",
       "  </tbody>\n",
       "</table>\n",
       "</div>"
      ],
      "text/plain": [
       "      Event  Nodes$_{total}$  Nodes$_{filtered}$  Assortativity\n",
       "0    Harvey            31932               21157       0.626523\n",
       "1  Florence           106732               79807       0.541778"
      ]
     },
     "execution_count": 15,
     "metadata": {},
     "output_type": "execute_result"
    }
   ],
   "source": [
    "df = pd.DataFrame([hrv_row, flr_row])\n",
    "df = df[['Event', 'Nodes$_{total}$', 'Nodes$_{filtered}$', 'Assortativity']]\n",
    "df"
   ]
  },
  {
   "cell_type": "code",
   "execution_count": 16,
   "metadata": {},
   "outputs": [
    {
     "name": "stdout",
     "output_type": "stream",
     "text": [
      "Writing df to file as tex...\n"
     ]
    }
   ],
   "source": [
    "dec_d = {'Nodes$_{total}$':0, 'Nodes$_{filtered}$':0, 'Assortativity':3}\n",
    "#col_widths = 'X[-1,lm] X[-1,rm] X[-1,rm] X[-1,rm]'\n",
    "col_widths = None\n",
    "df_to_tex(df, label='assortativity', caption='Network Assortativity Coefficient', width=0.8, row_sep=0, dec_dict=dec_d, col_widths=col_widths)"
   ]
  },
  {
   "cell_type": "markdown",
   "metadata": {},
   "source": [
    "### Monte Carlo Testing\n",
    "Testing the significance of findings above using monte carlo testing and configuration networks."
   ]
  },
  {
   "cell_type": "code",
   "execution_count": 75,
   "metadata": {},
   "outputs": [],
   "source": [
    "import networkx as nx\n",
    "\n",
    "DIR = './data/harvey_user_location/graph_objs/'\n",
    "GEXF_FILE = 'network_data_HurricaneHarvey_v1.gexf'\n",
    "G = nx.read_gexf(DIR + GEXF_FILE)\n",
    "\n",
    "nodes = [\n",
    "    node\n",
    "    for node, data\n",
    "    in G.nodes(data=True)\n",
    "    if data.get(\"lcl_profile\") != \"\"\n",
    "]\n",
    "G = G.subgraph(nodes)"
   ]
  },
  {
   "cell_type": "code",
   "execution_count": 76,
   "metadata": {},
   "outputs": [],
   "source": [
    "seq_lbl = [(G.degree(n[0]), n[1]['lcl_profile']) for n in G.nodes(data=True)]\n",
    "\n",
    "seq = [x[0] for x in seq_lbl]\n",
    "\n",
    "labels = [x[1] for x in seq_lbl]\n",
    "index = [i for i in range(len(labels))]\n",
    "attrs = dict(zip(index, labels))"
   ]
  },
  {
   "cell_type": "code",
   "execution_count": 77,
   "metadata": {},
   "outputs": [
    {
     "name": "stdout",
     "output_type": "stream",
     "text": [
      "Original assort: 0.62652\n",
      "\n"
     ]
    }
   ],
   "source": [
    "assort_coef = nx.attribute_assortativity_coefficient(G, 'lcl_profile')\n",
    "print('Original assort: {:.5f}\\n'.format(assort_coef))\n",
    "\n",
    "vals = []\n",
    "for i in range(99):\n",
    "    G2 = nx.configuration_model(seq, seed=i**i)\n",
    "    nx.set_node_attributes(G2, attrs, name='lcl_profile')\n",
    "    \n",
    "    assort_coef = nx.attribute_assortativity_coefficient(G2, 'lcl_profile')\n",
    "    vals.append(assort_coef)\n",
    "    #print('Assort for configuration model {}: {:.5f}'.format(i, assort_coef))\n",
    "\n",
    "print('Avg config assort: {:.4f}'.format(sum(vals)/len(vals)))"
   ]
  },
  {
   "cell_type": "code",
   "execution_count": 78,
   "metadata": {},
   "outputs": [
    {
     "name": "stdout",
     "output_type": "stream",
     "text": [
      "Avg assort: -0.0005\n"
     ]
    }
   ],
   "source": []
  },
  {
   "cell_type": "code",
   "execution_count": null,
   "metadata": {},
   "outputs": [],
   "source": []
  }
 ],
 "metadata": {
  "kernelspec": {
   "display_name": "Django Shell-Plus",
   "language": "python",
   "name": "django_extensions"
  },
  "toc": {
   "base_numbering": 1,
   "nav_menu": {},
   "number_sections": true,
   "sideBar": true,
   "skip_h1_title": false,
   "title_cell": "Table of Contents",
   "title_sidebar": "Contents",
   "toc_cell": false,
   "toc_position": {},
   "toc_section_display": true,
   "toc_window_display": true
  },
  "varInspector": {
   "cols": {
    "lenName": 16,
    "lenType": 16,
    "lenVar": 40
   },
   "kernels_config": {
    "python": {
     "delete_cmd_postfix": "",
     "delete_cmd_prefix": "del ",
     "library": "var_list.py",
     "varRefreshCmd": "print(var_dic_list())"
    },
    "r": {
     "delete_cmd_postfix": ") ",
     "delete_cmd_prefix": "rm(",
     "library": "var_list.r",
     "varRefreshCmd": "cat(var_dic_list()) "
    }
   },
   "types_to_exclude": [
    "module",
    "function",
    "builtin_function_or_method",
    "instance",
    "_Feature"
   ],
   "window_display": false
  }
 },
 "nbformat": 4,
 "nbformat_minor": 2
}
