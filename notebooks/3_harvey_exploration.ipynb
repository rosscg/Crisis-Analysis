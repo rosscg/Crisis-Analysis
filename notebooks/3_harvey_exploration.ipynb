{
 "cells": [
  {
   "cell_type": "markdown",
   "metadata": {},
   "source": [
    "# General data questions and exploration\n"
   ]
  },
  {
   "cell_type": "code",
   "execution_count": null,
   "metadata": {},
   "outputs": [],
   "source": [
    "# Try ML with and without network metrics\n",
    "# Test at different time periods\n",
    "# Test other event datasets\n",
    "# Check steps from book - change to best practice sklearn\n",
    "\n",
    "\n",
    "# What correlates with witness label\n",
    "# GPS accounts tend to be spam/businesses?\n",
    "# Compare GPS from stream / profile / hand coding\n",
    "# Explore age of account\n",
    "# Is detecting co-occuring tags viable?\n",
    "# What kind of data/user is likely to be deleted?\n",
    "# Is user name change / user deletion/protection a useful predictor\n",
    "# Compare Change in network, whether it's useful to collect.\n",
    "# Check gps count, location in profile\n",
    "# Check timezone distribution\n",
    "# 'Ordinary person' vs bot/celeb/business/news -- using source field, tweet rate, timezone\n",
    "\n",
    "# prop of gps -- users and tweets. Automated, instagram sourced?\n",
    "# prop of sources\n",
    "# prop of media/urls\n",
    "# users with location on profile? Some set 'in solidarity'?\n",
    "# Cycadian posting rythym - can identify real people vs bots?\n",
    "# location via friend network?\n",
    "# language\n",
    "\n",
    "# \\item Tweets which were automatically generated from Instagram posts were much more likely to include GPS coordinates, and as media, more likely to represent a ground truth. Therefore this content may be worth focusing on.\n",
    "# \\item Aid requests were very rare. Those that were identified were often reposts rather than originals, and are often referring to the same original message which begins to trend.\n",
    "# \\item Info for affected class should differentiate between immediate and non-immediate content. E.g. a call to mobilise a clean-up or rescue crew vs. a link to an insurance claim form.\n",
    "# \\item For `unrelated' messages, those which matched the keyword stream were highly represented by automated messages coming from a particular set of sources which presumably uses trending tags to gain exposure. This is easy to pre-filter.\n",
    "# \\item Geographically-tagged Tweets are predominantly either: Instagram cross-posts, or automatically generated job listings from a small set of sources (and therefore easy to pre-filter).\n",
    "        \n",
    "\n",
    "# Sum of network edge reciprocity\n",
    "# k-cohesiveness -- Structural cohesion"
   ]
  }
 ],
 "metadata": {
  "kernelspec": {
   "display_name": "Django Shell-Plus",
   "language": "python",
   "name": "django_extensions"
  },
  "language_info": {
   "codemirror_mode": {
    "name": "ipython",
    "version": 3
   },
   "file_extension": ".py",
   "mimetype": "text/x-python",
   "name": "python",
   "nbconvert_exporter": "python",
   "pygments_lexer": "ipython3",
   "version": "3.6.2"
  },
  "toc": {
   "base_numbering": 1,
   "nav_menu": {},
   "number_sections": true,
   "sideBar": true,
   "skip_h1_title": false,
   "title_cell": "Table of Contents",
   "title_sidebar": "Contents",
   "toc_cell": false,
   "toc_position": {},
   "toc_section_display": true,
   "toc_window_display": false
  },
  "varInspector": {
   "cols": {
    "lenName": 16,
    "lenType": 16,
    "lenVar": 40
   },
   "kernels_config": {
    "python": {
     "delete_cmd_postfix": "",
     "delete_cmd_prefix": "del ",
     "library": "var_list.py",
     "varRefreshCmd": "print(var_dic_list())"
    },
    "r": {
     "delete_cmd_postfix": ") ",
     "delete_cmd_prefix": "rm(",
     "library": "var_list.r",
     "varRefreshCmd": "cat(var_dic_list()) "
    }
   },
   "types_to_exclude": [
    "module",
    "function",
    "builtin_function_or_method",
    "instance",
    "_Feature"
   ],
   "window_display": false
  }
 },
 "nbformat": 4,
 "nbformat_minor": 2
}
