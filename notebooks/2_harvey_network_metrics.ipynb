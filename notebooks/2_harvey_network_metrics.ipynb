{
 "cells": [
  {
   "cell_type": "markdown",
   "metadata": {},
   "source": [
    "# User Location Classification in Hurricane Harvey\n",
    "This is the second notebook in a series which are written primarily as a research logbook for the author. They are therefore not to be considered complete and do not represent the final analysis. For this -- see the final published papers and thesis, or contact the author directly.\n",
    "The goal of this analysis is to evaluate methods by which users Tweeting about Hurricane Harvey may be classified as in the area or otherwise.\n",
    "\n",
    "Data was collected with custom software which observed several Twitter streams and enhanced this information by querying the Twitter REST APIs for the network data (friends and followers) of each author. Stream volume which exceeded the capacity of the REST requests was discarded. \n",
    "* The keyword stream monitored the terms: [#harvey, #harveystorm, #hurricaneharvey, #corpuschristi]\n",
    "* The GPS stream used the bounding box: [-99.9590682, 26.5486063, -93.9790001, 30.3893434]\n",
    "* The collection period ran from 2017-08-26 01:32:18 until 2017-09-02 10:30:52 \n",
    "* 55,605 Tweets by 33,585 unique authors were recorded\n",
    "\n",
    "Data was coded using an interface built into the collection software by a primary coder. A secondary coder coded a sub-set of coded users for validation of the coding schema. User instances were coded by whether they 'appeared to be in the affected area'.\n",
    "\n",
    "These notebooks access the data directly from the database using standard Django query syntax.\n"
   ]
  },
  {
   "cell_type": "markdown",
   "metadata": {},
   "source": [
    "# Testing Community Detection Data\n",
    "\n",
    "This section investigates the value of social network data in classifying users by the target class (witness/non-witness). The hypothesis, loosely, is that local (or witness) users are more likely to follow one another, and therefore the reflection of this behaviour within the network structure provides a metric which can be implemented within classification models. Collecting this network data is significantly more difficult than the other User and Tweet features, therefore the associative qualities are rarely tested.\n",
    "\n",
    "The presence of this structure within the Hurricane Harvey dataset is visually established. The graph is then partitioned using a suite of community detection algorithms which provide metrics which are compatible with standard classification algorithms. These metrics are then tested for their correlation with the target feature to validate the use of community features in modelling, and to select the most appropriate algorithm. Finally, the algorithms are tested over subgraphs of the final dataset which represent the dataset at various points during the collection process.\n",
    "\n",
    "<img src=\"./data/harvey_user_location/img/harvey-network-structure.png\" alt=\"network-structure\" style=\"width: 600px;\"/>\n",
    "\n",
    "A visual inspection of the follower/friend network of detected users (pictured above) shows a clear community structure. This suggests that there are certain user features that influence the propensity for a user to follow another user with similar features. These may be features which we have observed and recorded, or other features which we cannot predict. This can be tested by using community detection algorithms to partition the nodes of the graph into these communities, and then comparing these partitions to features with which they may be associated. Primarily, we are interested in whether these communities are related to whether a user is a 'witness' or not, as per our manual coding. If this is the case, the community metrics can be a useful feature in our models.\n",
    "\n",
    "The image below shows a representation of the same network structure, where only the 1500 coded nodes are displayed in colours which represent their codes. The general grouping of orange nodes towards one section of the graph which corresponds with a community cluster shown in the original graph structure suggests that this community contains a greater proportion of witness nodes and therefore is a dependent feature. A preliminary hypothesis is that local users are more likely to follow one another (thus forming this community) and are also more likely to be witnesses. If true, this community could accurately predict which users are local and therefore, more likely to be witnesses.\n",
    "\n",
    "<img src=\"./data/harvey_user_location/img/harvey-network-structure-coded.png\" alt=\"network-structure-coded\" style=\"width: 600px;\"/>\n",
    "\n",
    "The following image shows the output of a community detection algorithm which has partitioned the graph. In this example, the pink community appears to represent the witness group shown in the previous image.\n",
    "\n",
    "<img src=\"./data/harvey_user_location/img/harvey-network-structure-community.png\" alt=\"network-structure-community\" style=\"width: 600px;\"/>\n",
    "\n",
    "## Calculating Community Labels\n",
    "In the following section, the original dataframe is enhanced with modularity metrics. These are features which are calculated based upon the graph structure of the user friend/follower network. There are a number of community detection algorithms, so a set of these have been calculated to be tested and compared for association to the target (witness) class.\n",
    "\n",
    "Community metrics were calculated using the `networkx` implementations of `greedy_modularity_communities`, `label_propagation_communities`, `asyn_lpa_communities`, `asyn_fluidc` and `community_louvain` from the `community` package. These were chosen due to their common use for these applications as well as the availability of their implmentations within the package.\n",
    "\n",
    "The graph includes all detected users (i.e. not their followers/friends unless they were also detected as authors) for a total of 31,496 nodes and 99,602 edges. Community detection was performed on subgraph representing the largest connected component of 17,958 nodes and 75,203 edges. \n",
    "\n",
    "As most algorithms require an undirected graph, the direction of relationships was ignored.\n",
    "\n",
    "Communities are labelled as numbers according to their ranking in size (where 0 is the largest), thus the labels have some level of ordinality."
   ]
  },
  {
   "cell_type": "code",
   "execution_count": 3,
   "metadata": {},
   "outputs": [],
   "source": [
    "import networkx as nx\n",
    "import pandas as pd\n",
    "\n",
    "# Location of data files\n",
    "DIR = './data/harvey_user_location/'\n",
    "\n",
    "# Confirm correct database is set in Django settings.py\n",
    "if 'Harvey' not in Event.objects.all()[0].name:\n",
    "    raise Exception('Event name mismatch -- check connected database')"
   ]
  },
  {
   "cell_type": "code",
   "execution_count": 4,
   "metadata": {},
   "outputs": [],
   "source": [
    "def get_graph_object():\n",
    "    ''' \n",
    "    Gets the graph object for the current event.\n",
    "    Imports gexf file if extant, otherwise builds from database\n",
    "    and saves as gexf file.\n",
    "    '''\n",
    "    EVENT_NAME = Event.objects.all()[0].name.replace(' ', '')\n",
    "    FILENAME = 'network_data_{}_v1.gexf'.format(EVENT_NAME)\n",
    "    DIR = './data/harvey_user_location/'\n",
    "    try:\n",
    "        # Load cached file if available\n",
    "        G = nx.read_gexf(DIR + FILENAME)\n",
    "        print('Importing existing graph object...')\n",
    "    except:\n",
    "        print('Creating new graph object...')\n",
    "        classed_users = User.objects.filter(user_class__gte=1)\n",
    "        edges = Relo.objects.filter(target_user__in=classed_users, source_user__in=classed_users, end_observed_at=None)\n",
    "        G=nx.DiGraph()\n",
    "        for node in classed_users:\n",
    "            try:\n",
    "                user_code = node.coding_for_user.filter(coding_id=1).exclude(data_code__name='To Be Coded')[0].data_code.name\n",
    "            except:\n",
    "                user_code = ''\n",
    "            G.add_node(node.screen_name, user_class=node.user_class, user_code=user_code)\n",
    "        edge_list = [(edge.source_user.screen_name, edge.target_user.screen_name) for edge in edges]\n",
    "        G.add_edges_from(edge_list)\n",
    "        # Write to file and re-import to bypass unresolved issue with community algorithms\n",
    "        nx.write_gexf(G, DIR + FILENAME, prettyprint=True)\n",
    "        G = nx.read_gexf(DIR + FILENAME)\n",
    "    return G"
   ]
  },
  {
   "cell_type": "code",
   "execution_count": 5,
   "metadata": {},
   "outputs": [],
   "source": [
    "# Modularity:   https://scholar.google.com/scholar?q=Finding+community+structure+in+very+large+networks\n",
    "# Label Prop:   https://neo4j.com/docs/graph-algorithms/current/algorithms/label-propagation/#algorithms-label-propagation-sample\n",
    "# Louvain:      https://github.com/taynaud/python-louvain/blob/master/docs/index.rst\n",
    "\n",
    "#import networkx as nx\n",
    "from networkx.algorithms.community import (greedy_modularity_communities, \n",
    "                                            label_propagation_communities, \n",
    "                                            asyn_lpa_communities, \n",
    "                                            asyn_fluidc, girvan_newman)\n",
    "import community as community_louvain\n",
    "from collections import Counter\n",
    "\n",
    "def calc_community_metrics(G, filename=False):\n",
    "    ''' \n",
    "    Returns a graph object enhanced with various community \n",
    "    metrics added as node attributes.\n",
    "    If a filename is provided, imports a cached gexf file \n",
    "    with community values if extant, otherwise calculates \n",
    "    them and and saves as gexf file.\n",
    "    '''\n",
    "    \n",
    "    FLIUD_COMMUNITIES_NUMBER = 8\n",
    "    RETURN_GIANT_COMPONENT = True # Only return giant component as graph object\n",
    "    \n",
    "    # Load cached file if available\n",
    "    if filename:\n",
    "        try:\n",
    "            G = nx.read_gexf(DIR + filename)\n",
    "            print('Importing existing community graph object...')\n",
    "            return G\n",
    "        except:\n",
    "            pass\n",
    "    \n",
    "    print('Calculating community metrics for graph. {} nodes and {} edges...'\n",
    "              .format(len(G), G.number_of_edges()))\n",
    "\n",
    "    # Create undirected graph (required for community detection):\n",
    "    H = nx.Graph(G)\n",
    "\n",
    "    # Get largest component\n",
    "    Hcc = max(nx.connected_components(H), key=len)\n",
    "    H0 = H.subgraph(Hcc)\n",
    "    #H0 = nx.connected_component_subgraphs(H)[0]\n",
    "    print('Largest component has {} nodes and {} edges.'\n",
    "              .format(len(H0), H0.number_of_edges()))\n",
    "\n",
    "    # Discard other components:\n",
    "    if RETURN_GIANT_COMPONENT:\n",
    "        G = G.subgraph(Hcc)\n",
    "\n",
    "    # Get communities\n",
    "    print('Calculating c_modularity...')\n",
    "    c_modularity = list(greedy_modularity_communities(H0))\n",
    "    print('Calculating c_label_prop...')\n",
    "    c_label_prop = list(label_propagation_communities(H0))\n",
    "    c_label_prop = sorted(c_label_prop, key=len, reverse=True)\n",
    "    print('Calculating c_label_prop_asyn...')\n",
    "    c_label_prop_asyn = list(asyn_lpa_communities(H0))\n",
    "    c_label_prop_asyn = sorted(c_label_prop_asyn, key=len, reverse=True)\n",
    "    print('Calculating c_fluid...')\n",
    "    c_fluid = list(asyn_fluidc(H0, FLIUD_COMMUNITIES_NUMBER))\n",
    "    c_fluid = sorted(c_fluid, key=len, reverse=True)\n",
    "    # TOO SLOW:\n",
    "    # print('Calculating c_girvan_newman...')\n",
    "    # c_girvan_newman = list(girvan_newman(H0))\n",
    "    print('Calculating c_louvain...')\n",
    "    partition = community_louvain.best_partition(H0)\n",
    "    # Rank indices by size\n",
    "    counter = Counter(partition.values())\n",
    "    ranking = sorted(counter, key=counter.get, reverse=True)\n",
    "    partition_sorted = {k: ranking.index(v) for k, v in partition.items()}\n",
    "\n",
    "    print('Adding data as node attributes...')\n",
    "    # Add communities to node attributes:\n",
    "    community_output_dict = {'c_modularity': c_modularity,\n",
    "                            'c_label_prop': c_label_prop,\n",
    "                            'c_label_prop_asyn': c_label_prop_asyn,\n",
    "                            'c_fluid': c_fluid,\n",
    "                            # 'c_girvan_newman': c_girvan_newman\n",
    "                            }\n",
    "    for key in community_output_dict:\n",
    "        community_dict = {}\n",
    "        for i, c in enumerate(community_output_dict[key]):\n",
    "            for name in c:\n",
    "                community_dict[name] = i\n",
    "        nx.set_node_attributes(G, community_dict, key)\n",
    "    # (Louvain package returns a different format)\n",
    "    nx.set_node_attributes(G, partition_sorted, 'c_louvain')\n",
    "\n",
    "    if filename:\n",
    "        print('Writing to file...')\n",
    "        nx.write_gexf(G, DIR + filename, prettyprint=True)\n",
    "        \n",
    "    return G"
   ]
  },
  {
   "cell_type": "code",
   "execution_count": 4,
   "metadata": {},
   "outputs": [
    {
     "name": "stdout",
     "output_type": "stream",
     "text": [
      "Importing existing graph object...\n",
      "Importing existing community graph object...\n"
     ]
    },
    {
     "data": {
      "text/html": [
       "<div>\n",
       "<style scoped>\n",
       "    .dataframe tbody tr th:only-of-type {\n",
       "        vertical-align: middle;\n",
       "    }\n",
       "\n",
       "    .dataframe tbody tr th {\n",
       "        vertical-align: top;\n",
       "    }\n",
       "\n",
       "    .dataframe thead th {\n",
       "        text-align: right;\n",
       "    }\n",
       "</style>\n",
       "<table border=\"1\" class=\"dataframe\">\n",
       "  <thead>\n",
       "    <tr style=\"text-align: right;\">\n",
       "      <th></th>\n",
       "      <th>c_modularity</th>\n",
       "      <th>c_label_prop</th>\n",
       "      <th>c_label_prop_asyn</th>\n",
       "      <th>c_fluid</th>\n",
       "      <th>c_louvain</th>\n",
       "    </tr>\n",
       "  </thead>\n",
       "  <tbody>\n",
       "    <tr>\n",
       "      <th>0044Tamil</th>\n",
       "      <td>2</td>\n",
       "      <td>4</td>\n",
       "      <td>885</td>\n",
       "      <td>7</td>\n",
       "      <td>9</td>\n",
       "    </tr>\n",
       "    <tr>\n",
       "      <th>007rogerbmoore</th>\n",
       "      <td>3</td>\n",
       "      <td>0</td>\n",
       "      <td>955</td>\n",
       "      <td>7</td>\n",
       "      <td>0</td>\n",
       "    </tr>\n",
       "    <tr>\n",
       "      <th>01fmoreira</th>\n",
       "      <td>3</td>\n",
       "      <td>0</td>\n",
       "      <td>0</td>\n",
       "      <td>7</td>\n",
       "      <td>6</td>\n",
       "    </tr>\n",
       "    <tr>\n",
       "      <th>0KTOBR</th>\n",
       "      <td>5</td>\n",
       "      <td>2</td>\n",
       "      <td>3</td>\n",
       "      <td>1</td>\n",
       "      <td>3</td>\n",
       "    </tr>\n",
       "    <tr>\n",
       "      <th>0x41_0x48</th>\n",
       "      <td>241</td>\n",
       "      <td>885</td>\n",
       "      <td>106</td>\n",
       "      <td>6</td>\n",
       "      <td>0</td>\n",
       "    </tr>\n",
       "  </tbody>\n",
       "</table>\n",
       "</div>"
      ],
      "text/plain": [
       "                c_modularity  c_label_prop  c_label_prop_asyn  c_fluid  \\\n",
       "0044Tamil                  2             4                885        7   \n",
       "007rogerbmoore             3             0                955        7   \n",
       "01fmoreira                 3             0                  0        7   \n",
       "0KTOBR                     5             2                  3        1   \n",
       "0x41_0x48                241           885                106        6   \n",
       "\n",
       "                c_louvain  \n",
       "0044Tamil               9  \n",
       "007rogerbmoore          0  \n",
       "01fmoreira              6  \n",
       "0KTOBR                  3  \n",
       "0x41_0x48               0  "
      ]
     },
     "execution_count": 4,
     "metadata": {},
     "output_type": "execute_result"
    }
   ],
   "source": [
    "e = Event.objects.all()[0]\n",
    "filename = 'network_data_{}_comm.gexf'.format(e.name.replace(' ', ''))\n",
    "\n",
    "G = get_graph_object()\n",
    "G = calc_community_metrics(G, filename)\n",
    "\n",
    "# Create datagrame from graph node attributes\n",
    "nodes = G.nodes(data=True)\n",
    "df_comm = pd.DataFrame.from_dict(dict(nodes), orient='index')\n",
    "df_comm = df_comm.drop(['user_class', 'user_code', 'label'], axis=1)\n",
    "#df_comm = df_comm.reset_index(drop=True)\n",
    "df_comm.head()"
   ]
  },
  {
   "cell_type": "code",
   "execution_count": 5,
   "metadata": {},
   "outputs": [
    {
     "data": {
      "text/plain": [
       "(1500, 45)"
      ]
     },
     "execution_count": 5,
     "metadata": {},
     "output_type": "execute_result"
    }
   ],
   "source": [
    "# Open original Dataframe\n",
    "path_to_original_df = 'data/harvey_user_location/df_users.csv'\n",
    "\n",
    "users_df = pd.read_csv(path_to_original_df, index_col=0)\n",
    "users_df.shape"
   ]
  },
  {
   "cell_type": "code",
   "execution_count": 6,
   "metadata": {},
   "outputs": [
    {
     "data": {
      "text/html": [
       "<div>\n",
       "<style scoped>\n",
       "    .dataframe tbody tr th:only-of-type {\n",
       "        vertical-align: middle;\n",
       "    }\n",
       "\n",
       "    .dataframe tbody tr th {\n",
       "        vertical-align: top;\n",
       "    }\n",
       "\n",
       "    .dataframe thead th {\n",
       "        text-align: right;\n",
       "    }\n",
       "</style>\n",
       "<table border=\"1\" class=\"dataframe\">\n",
       "  <thead>\n",
       "    <tr style=\"text-align: right;\">\n",
       "      <th></th>\n",
       "      <th>added_at</th>\n",
       "      <th>betweenness_centrality</th>\n",
       "      <th>closeness_centrality</th>\n",
       "      <th>created_at</th>\n",
       "      <th>default_profile</th>\n",
       "      <th>default_profile_image</th>\n",
       "      <th>degree_centrality</th>\n",
       "      <th>description</th>\n",
       "      <th>eigenvector_centrality</th>\n",
       "      <th>favourites_count</th>\n",
       "      <th>...</th>\n",
       "      <th>has_url</th>\n",
       "      <th>changed_screen_name</th>\n",
       "      <th>account_age</th>\n",
       "      <th>day_of_detection</th>\n",
       "      <th>is_data_source_3</th>\n",
       "      <th>c_modularity</th>\n",
       "      <th>c_label_prop</th>\n",
       "      <th>c_label_prop_asyn</th>\n",
       "      <th>c_fluid</th>\n",
       "      <th>c_louvain</th>\n",
       "    </tr>\n",
       "  </thead>\n",
       "  <tbody>\n",
       "    <tr>\n",
       "      <th>0</th>\n",
       "      <td>2017-08-28 20:42:59.273657+00:00</td>\n",
       "      <td>0.000043</td>\n",
       "      <td>0.135798</td>\n",
       "      <td>2013-03-01 19:23:11+00:00</td>\n",
       "      <td>0</td>\n",
       "      <td>0</td>\n",
       "      <td>0.000304</td>\n",
       "      <td>If You Want To Live A Happy Life ❇ change your...</td>\n",
       "      <td>3.905631e-07</td>\n",
       "      <td>2030</td>\n",
       "      <td>...</td>\n",
       "      <td>0</td>\n",
       "      <td>0</td>\n",
       "      <td>1645</td>\n",
       "      <td>3</td>\n",
       "      <td>0</td>\n",
       "      <td>3.0</td>\n",
       "      <td>0.0</td>\n",
       "      <td>5.0</td>\n",
       "      <td>6.0</td>\n",
       "      <td>8.0</td>\n",
       "    </tr>\n",
       "    <tr>\n",
       "      <th>1</th>\n",
       "      <td>2017-08-30 13:58:20.296918+00:00</td>\n",
       "      <td>0.000015</td>\n",
       "      <td>0.122066</td>\n",
       "      <td>2014-01-20 00:34:57+00:00</td>\n",
       "      <td>1</td>\n",
       "      <td>0</td>\n",
       "      <td>0.000243</td>\n",
       "      <td>Employee Giving PM @Microsoft.A daydreamer w/ ...</td>\n",
       "      <td>1.785776e-07</td>\n",
       "      <td>1015</td>\n",
       "      <td>...</td>\n",
       "      <td>1</td>\n",
       "      <td>0</td>\n",
       "      <td>1321</td>\n",
       "      <td>5</td>\n",
       "      <td>0</td>\n",
       "      <td>5.0</td>\n",
       "      <td>0.0</td>\n",
       "      <td>1854.0</td>\n",
       "      <td>3.0</td>\n",
       "      <td>7.0</td>\n",
       "    </tr>\n",
       "    <tr>\n",
       "      <th>2</th>\n",
       "      <td>2017-08-26 19:51:45.107222+00:00</td>\n",
       "      <td>0.000000</td>\n",
       "      <td>0.077120</td>\n",
       "      <td>2012-07-24 13:47:47+00:00</td>\n",
       "      <td>0</td>\n",
       "      <td>0</td>\n",
       "      <td>0.000061</td>\n",
       "      <td>Making an impact isn’t something reserved for ...</td>\n",
       "      <td>8.518251e-14</td>\n",
       "      <td>12</td>\n",
       "      <td>...</td>\n",
       "      <td>1</td>\n",
       "      <td>0</td>\n",
       "      <td>1865</td>\n",
       "      <td>1</td>\n",
       "      <td>1</td>\n",
       "      <td>4.0</td>\n",
       "      <td>697.0</td>\n",
       "      <td>1469.0</td>\n",
       "      <td>3.0</td>\n",
       "      <td>10.0</td>\n",
       "    </tr>\n",
       "    <tr>\n",
       "      <th>3</th>\n",
       "      <td>2017-08-26 11:13:05.769123+00:00</td>\n",
       "      <td>0.000383</td>\n",
       "      <td>0.167070</td>\n",
       "      <td>2010-12-16 17:30:04+00:00</td>\n",
       "      <td>0</td>\n",
       "      <td>0</td>\n",
       "      <td>0.000668</td>\n",
       "      <td>Eyeing global entropy through a timeline windo...</td>\n",
       "      <td>4.315565e-05</td>\n",
       "      <td>347</td>\n",
       "      <td>...</td>\n",
       "      <td>1</td>\n",
       "      <td>0</td>\n",
       "      <td>2451</td>\n",
       "      <td>1</td>\n",
       "      <td>0</td>\n",
       "      <td>2.0</td>\n",
       "      <td>0.0</td>\n",
       "      <td>0.0</td>\n",
       "      <td>7.0</td>\n",
       "      <td>6.0</td>\n",
       "    </tr>\n",
       "    <tr>\n",
       "      <th>4</th>\n",
       "      <td>2017-08-26 14:19:23.604361+00:00</td>\n",
       "      <td>NaN</td>\n",
       "      <td>NaN</td>\n",
       "      <td>2009-04-24 12:08:14+00:00</td>\n",
       "      <td>0</td>\n",
       "      <td>0</td>\n",
       "      <td>NaN</td>\n",
       "      <td>Producer. Show Control Designer. Project Coord...</td>\n",
       "      <td>NaN</td>\n",
       "      <td>25</td>\n",
       "      <td>...</td>\n",
       "      <td>0</td>\n",
       "      <td>0</td>\n",
       "      <td>3052</td>\n",
       "      <td>1</td>\n",
       "      <td>0</td>\n",
       "      <td>NaN</td>\n",
       "      <td>NaN</td>\n",
       "      <td>NaN</td>\n",
       "      <td>NaN</td>\n",
       "      <td>NaN</td>\n",
       "    </tr>\n",
       "  </tbody>\n",
       "</table>\n",
       "<p>5 rows × 50 columns</p>\n",
       "</div>"
      ],
      "text/plain": [
       "                           added_at  betweenness_centrality  \\\n",
       "0  2017-08-28 20:42:59.273657+00:00                0.000043   \n",
       "1  2017-08-30 13:58:20.296918+00:00                0.000015   \n",
       "2  2017-08-26 19:51:45.107222+00:00                0.000000   \n",
       "3  2017-08-26 11:13:05.769123+00:00                0.000383   \n",
       "4  2017-08-26 14:19:23.604361+00:00                     NaN   \n",
       "\n",
       "   closeness_centrality                 created_at  default_profile  \\\n",
       "0              0.135798  2013-03-01 19:23:11+00:00                0   \n",
       "1              0.122066  2014-01-20 00:34:57+00:00                1   \n",
       "2              0.077120  2012-07-24 13:47:47+00:00                0   \n",
       "3              0.167070  2010-12-16 17:30:04+00:00                0   \n",
       "4                   NaN  2009-04-24 12:08:14+00:00                0   \n",
       "\n",
       "   default_profile_image  degree_centrality  \\\n",
       "0                      0           0.000304   \n",
       "1                      0           0.000243   \n",
       "2                      0           0.000061   \n",
       "3                      0           0.000668   \n",
       "4                      0                NaN   \n",
       "\n",
       "                                         description  eigenvector_centrality  \\\n",
       "0  If You Want To Live A Happy Life ❇ change your...            3.905631e-07   \n",
       "1  Employee Giving PM @Microsoft.A daydreamer w/ ...            1.785776e-07   \n",
       "2  Making an impact isn’t something reserved for ...            8.518251e-14   \n",
       "3  Eyeing global entropy through a timeline windo...            4.315565e-05   \n",
       "4  Producer. Show Control Designer. Project Coord...                     NaN   \n",
       "\n",
       "   favourites_count  ...  has_url  changed_screen_name  account_age  \\\n",
       "0              2030  ...        0                    0         1645   \n",
       "1              1015  ...        1                    0         1321   \n",
       "2                12  ...        1                    0         1865   \n",
       "3               347  ...        1                    0         2451   \n",
       "4                25  ...        0                    0         3052   \n",
       "\n",
       "   day_of_detection  is_data_source_3  c_modularity  c_label_prop  \\\n",
       "0                 3                 0           3.0           0.0   \n",
       "1                 5                 0           5.0           0.0   \n",
       "2                 1                 1           4.0         697.0   \n",
       "3                 1                 0           2.0           0.0   \n",
       "4                 1                 0           NaN           NaN   \n",
       "\n",
       "   c_label_prop_asyn  c_fluid c_louvain  \n",
       "0                5.0      6.0       8.0  \n",
       "1             1854.0      3.0       7.0  \n",
       "2             1469.0      3.0      10.0  \n",
       "3                0.0      7.0       6.0  \n",
       "4                NaN      NaN       NaN  \n",
       "\n",
       "[5 rows x 50 columns]"
      ]
     },
     "execution_count": 6,
     "metadata": {},
     "output_type": "execute_result"
    }
   ],
   "source": [
    "# Create list of community algorithm column names\n",
    "comm_cols = list(df_comm.columns)\n",
    "\n",
    "# Merge dataframes\n",
    "users_df = pd.merge(left=users_df, right=df_comm, how='left', left_on='screen_name', right_index=True)\n",
    "\n",
    "users_df.head()"
   ]
  },
  {
   "cell_type": "markdown",
   "metadata": {},
   "source": [
    "## Evaluating Community Metrics\n",
    "\n",
    "Some algorithms create many small communities of 1-10 members, which will not be useful in generalisation of the model. Therefore discarding these is useful.\n",
    "\n",
    "Chi-square tests are typically recommended to require contingency tables with values of at least 5, which is addressed (in part) by this step. Note that this does not elimnate all relevant cells in the confusion matrix -- e.g. a row with 5 positive and 0 negative should be excluded from chi-square statistics as the negative cell has a frequency <5. This is therefore properly sorted below."
   ]
  },
  {
   "cell_type": "code",
   "execution_count": 7,
   "metadata": {},
   "outputs": [],
   "source": [
    "import numpy as np\n",
    "    \n",
    "# Ignore small communities where observed cases are too low (required for chi-square tests)\n",
    "MIN_COMMUNITY_SIZE = 10\n",
    "\n",
    "for col in comm_cols:\n",
    "    s = users_df[col].value_counts()\n",
    "    #s = users_df.loc[users_df['coded_as_witness']==1, col].value_counts()\n",
    "    users_df.loc[~users_df[col].isin(s.index[s >= MIN_COMMUNITY_SIZE]), col] = np.NaN"
   ]
  },
  {
   "cell_type": "code",
   "execution_count": 8,
   "metadata": {},
   "outputs": [],
   "source": [
    "X = users_df[comm_cols]\n",
    "y = users_df['coded_as_witness']"
   ]
  },
  {
   "cell_type": "markdown",
   "metadata": {},
   "source": [
    "As a preliminary visual investigation into the relationship between community and code, we can check the proportion of nodes within a community that are coded as positive cases (witnesses). In an independent case, we would expect these ratios to be similar, and reflect the overall ratio of cases, which is:\n",
    "$$\\frac{386}{1500} = 0.257$$\n",
    "This is shown as a dotted line on the plots below."
   ]
  },
  {
   "cell_type": "code",
   "execution_count": 118,
   "metadata": {},
   "outputs": [],
   "source": [
    "%matplotlib inline\n",
    "import matplotlib.pyplot as plt\n",
    "plt.rcParams['figure.figsize'] = [6, 4]\n",
    "\n",
    "\n",
    "def create_plot_grid(df_list, titles=None, axhline=None, kind='bar'):\n",
    "    '''\n",
    "    Plots a list of dataframes or series as bar charts in a \n",
    "    single figure with two columns.\n",
    "    Can add a horizontal line at a value provided as axhline.\n",
    "    '''\n",
    "\n",
    "    # If df_list are series, use series names as titles\n",
    "    if not titles:\n",
    "        try:\n",
    "            titles = [x.name for x in df_list]\n",
    "        except:\n",
    "            pass\n",
    "    \n",
    "    # Plot single chart without grid\n",
    "    if len(df_list) == 1:\n",
    "        df_list[0].plot(kind=kind, colormap='Spectral', rot=45)\n",
    "        if titles:\n",
    "            ax.set_title(titles[0])\n",
    "        return\n",
    "    \n",
    "    ncol = 2\n",
    "    nrow = int((len(df_list)+1)/2)\n",
    "    # Temporarilty increase figsize \n",
    "    plt.rcParams['figure.figsize'] = [plt.rcParams['figure.figsize'][0] * 2, \n",
    "                                      plt.rcParams['figure.figsize'][1] * nrow]\n",
    "    fig, axs = plt.subplots(nrow,ncol)\n",
    "    fig.tight_layout(pad=4.0)\n",
    "    # Delete last cell if odd number:\n",
    "    if len(df_list) % 2 != 0:\n",
    "        fig.delaxes(axs[nrow-1,1])\n",
    "        \n",
    "    for r in range(nrow):\n",
    "        for c in range(ncol):\n",
    "            count = r*2+c\n",
    "            # Prevent trying last cell if odd length\n",
    "            if count == len(df_list):\n",
    "                break\n",
    "            # Handle missing index dimensions for 2x1 grid\n",
    "            if len(df_list) == 2:\n",
    "                ax = axs[c]\n",
    "            else:\n",
    "                ax = axs[r,c]\n",
    "            df_list[count].plot(kind=kind, ax=ax, colormap='Spectral', rot=45)\n",
    "            if titles:\n",
    "                #ax.set_title(titles[count])\n",
    "                ax.text(.5, .9, titles[count], \n",
    "                            horizontalalignment='center', \n",
    "                            transform=ax.transAxes, \n",
    "                            bbox=dict(facecolor='Grey', alpha=0.5))\n",
    "            if axhline:\n",
    "                axs[r,c].axhline(y=axhline, color='b', linestyle='dotted', lw=2)\n",
    "    \n",
    "    # Reset figsize \n",
    "    plt.rcParams['figure.figsize'] = [plt.rcParams['figure.figsize'][0] / 2, \n",
    "                                      plt.rcParams['figure.figsize'][1] / nrow]\n",
    "    return"
   ]
  },
  {
   "cell_type": "code",
   "execution_count": 119,
   "metadata": {},
   "outputs": [
    {
     "ename": "NameError",
     "evalue": "name 'comm_cols' is not defined",
     "output_type": "error",
     "traceback": [
      "\u001b[0;31m--------------------------------------\u001b[0m",
      "\u001b[0;31mNameError\u001b[0mTraceback (most recent call last)",
      "\u001b[0;32m<ipython-input-119-0a24264c9aa7>\u001b[0m in \u001b[0;36m<module>\u001b[0;34m\u001b[0m\n\u001b[1;32m      2\u001b[0m df_list = [users_df.loc[users_df['coded_as_witness']==1, col].dropna().value_counts() / \n\u001b[1;32m      3\u001b[0m                \u001b[0musers_df\u001b[0m\u001b[0;34m[\u001b[0m\u001b[0mcol\u001b[0m\u001b[0;34m]\u001b[0m\u001b[0;34m.\u001b[0m\u001b[0mdropna\u001b[0m\u001b[0;34m(\u001b[0m\u001b[0;34m)\u001b[0m\u001b[0;34m.\u001b[0m\u001b[0mvalue_counts\u001b[0m\u001b[0;34m(\u001b[0m\u001b[0;34m)\u001b[0m\u001b[0;34m\u001b[0m\u001b[0m\n\u001b[0;32m----> 4\u001b[0;31m                for col in comm_cols]\n\u001b[0m\u001b[1;32m      5\u001b[0m \u001b[0;34m\u001b[0m\u001b[0m\n\u001b[1;32m      6\u001b[0m \u001b[0;31m# Calculate expected proportion of positive cases given independence:\u001b[0m\u001b[0;34m\u001b[0m\u001b[0;34m\u001b[0m\u001b[0m\n",
      "\u001b[0;31mNameError\u001b[0m: name 'comm_cols' is not defined"
     ]
    }
   ],
   "source": [
    "# Create dataframe for ratio of positive cases per community class, for each community algorithm\n",
    "df_list = [users_df.loc[users_df['coded_as_witness']==1, col].dropna().value_counts() / \n",
    "               users_df[col].dropna().value_counts() \n",
    "               for col in comm_cols]\n",
    "\n",
    "# Calculate expected proportion of positive cases given independence:\n",
    "exp_pos_proportion = users_df['coded_as_witness'].value_counts()[1] / users_df.shape[0]\n",
    "\n",
    "create_plot_grid(df_list, axhline=exp_pos_proportion)"
   ]
  },
  {
   "cell_type": "markdown",
   "metadata": {},
   "source": [
    "From inspecting the graphs above, there appears to be a disproportionate amount of positive cases in certain communities, suggesting some association between community (as detected by a given algorithm) and the classification. Therefore, it is likely that including these metrics will increase the information available to the predictive models.\n",
    "\n",
    "The charts shown above suggest that the highest proportion of positive classes appear in the largest, or second-largest communities (as the labels have been ranked in order of size). This is significant -- a model cannot be trained on community label as a feature, as the labels are qualitative and will be different each time an algorithm runs on a network. Therefore these features cannot generalise to new datasets. The feature that is supplied must therefore be something which is generalisable; in this case, the ranking of the community by size my be appropriate (for example, a feature which represents whether a user is in the largest detected community). Alternatively, communities may exhibit different characteristics such as connectedness. This will be explored later. The higher proportions seen in some of the later communities are less relevant as these are of a much smaller size. Thus the high proportions are 'easier' to achieve, and as smaller communities are more likely to represent unique cases, they are less likely to generalise.\n",
    "\n",
    "The next steps in the analyis of the validity of this approach is the calculate whether the disparities observed above are statistically significant. That is, whether these associations could have been observed by chance.\n",
    "\n",
    "Formally, for each community detection algorithm, we are testing the hypotheses:\n",
    "$$H_0: \\text{There is no association between the community label and witness label}$$\n",
    "$$H_A: \\text{There is an association between the community label and witness label}$$\n",
    "\n",
    "### Chi-Square\n",
    "A chi-squre analysis is performed on the output of each detection algorithm with the target class. Note that communities with a size below 5 are removed as per the recommendation for chi-square analysis."
   ]
  },
  {
   "cell_type": "code",
   "execution_count": 11,
   "metadata": {},
   "outputs": [],
   "source": [
    "import scipy.stats as scs\n",
    "\n",
    "def chi_square(X, y):\n",
    "    '''\n",
    "    Calculate chi-square statistic between two rows.\n",
    "    Eliminates rows where cell value is below threshold\n",
    "    as per chi-square recommendation.\n",
    "    Note: Automatically drops NaN rows\n",
    "    '''\n",
    "    \n",
    "    MIN_CELL_VAL = 5\n",
    "    \n",
    "    confusion_matrix = pd.crosstab(X, y)\n",
    "    # Eliminate rows where observed cases are below threshold:\n",
    "    confusion_matrix = confusion_matrix[(confusion_matrix >= MIN_CELL_VAL).all(1)]\n",
    "    # Check dimensions, as eliminating shorter rows is preferred.\n",
    "    if confusion_matrix.shape[0] < confusion_matrix.shape[1]:\n",
    "        print('WARNING: check passed series order -- cell elimination performed row-wise. r={}, c={}'\n",
    "                  .format(confusion_matrix.shape[0], confusion_matrix.shape[1]))\n",
    "    \n",
    "    # Eliminate rows where expected values are below threshold:\n",
    "    exp_matrix = pd.DataFrame(scs.chi2_contingency(confusion_matrix)[3])\n",
    "    exp_matrix.index = confusion_matrix.index\n",
    "    \n",
    "    # Repeat in case new cells become < threshold once rows are dropped\n",
    "    while (exp_matrix >= MIN_CELL_VAL).all(1).all() == False:\n",
    "        confusion_matrix = confusion_matrix[(exp_matrix >= MIN_CELL_VAL).all(1)]\n",
    "        exp_matrix = pd.DataFrame(scs.chi2_contingency(confusion_matrix)[3])\n",
    "        exp_matrix.index = confusion_matrix.index\n",
    "    \n",
    "    return scs.chi2_contingency(confusion_matrix)\n"
   ]
  },
  {
   "cell_type": "code",
   "execution_count": 12,
   "metadata": {},
   "outputs": [
    {
     "data": {
      "text/html": [
       "<div>\n",
       "<style scoped>\n",
       "    .dataframe tbody tr th:only-of-type {\n",
       "        vertical-align: middle;\n",
       "    }\n",
       "\n",
       "    .dataframe tbody tr th {\n",
       "        vertical-align: top;\n",
       "    }\n",
       "\n",
       "    .dataframe thead th {\n",
       "        text-align: right;\n",
       "    }\n",
       "</style>\n",
       "<table border=\"1\" class=\"dataframe\">\n",
       "  <thead>\n",
       "    <tr style=\"text-align: right;\">\n",
       "      <th></th>\n",
       "      <th>chi-sq-a</th>\n",
       "      <th>chi-sq-a p-val</th>\n",
       "    </tr>\n",
       "  </thead>\n",
       "  <tbody>\n",
       "    <tr>\n",
       "      <th>c_modularity</th>\n",
       "      <td>203.524168</td>\n",
       "      <td>5.005149e-42</td>\n",
       "    </tr>\n",
       "    <tr>\n",
       "      <th>c_label_prop</th>\n",
       "      <td>76.213552</td>\n",
       "      <td>2.821223e-17</td>\n",
       "    </tr>\n",
       "    <tr>\n",
       "      <th>c_label_prop_asyn</th>\n",
       "      <td>125.452639</td>\n",
       "      <td>5.163057e-27</td>\n",
       "    </tr>\n",
       "    <tr>\n",
       "      <th>c_fluid</th>\n",
       "      <td>154.292529</td>\n",
       "      <td>5.088985e-30</td>\n",
       "    </tr>\n",
       "    <tr>\n",
       "      <th>c_louvain</th>\n",
       "      <td>207.972027</td>\n",
       "      <td>1.644365e-38</td>\n",
       "    </tr>\n",
       "  </tbody>\n",
       "</table>\n",
       "</div>"
      ],
      "text/plain": [
       "                     chi-sq-a  chi-sq-a p-val\n",
       "c_modularity       203.524168    5.005149e-42\n",
       "c_label_prop        76.213552    2.821223e-17\n",
       "c_label_prop_asyn  125.452639    5.163057e-27\n",
       "c_fluid            154.292529    5.088985e-30\n",
       "c_louvain          207.972027    1.644365e-38"
      ]
     },
     "execution_count": 12,
     "metadata": {},
     "output_type": "execute_result"
    }
   ],
   "source": [
    "def get_chi2_df(X, y):\n",
    "    cols = X.columns\n",
    "    data = [list(chi_square(X[col], y)[:2]) for col in cols]\n",
    "    chi2a_df = pd.DataFrame(data=data, columns=['chi-sq-a', 'chi-sq-a p-val'], index = cols)\n",
    "    return chi2a_df\n",
    "\n",
    "chi2a_df = get_chi2_df(X, y)\n",
    "chi2a_df"
   ]
  },
  {
   "cell_type": "markdown",
   "metadata": {},
   "source": [
    "For all features, the analysis produced a significant $\\chi^2$ value, well beyond our $\\alpha=0.05$. Therefore we can reject the null hypothesis and accept that the alternative: there is an association between community and witness status.\n",
    "\n",
    "In the following cells, a number of other measures of association are tested, including the `sklearn` implementation of chi-square.\n",
    "\n",
    "We are now interested in selecting the community algorithm which is most useful in class prediction.\n",
    "\n",
    "### Chi-Square (sklearn)"
   ]
  },
  {
   "cell_type": "code",
   "execution_count": 13,
   "metadata": {},
   "outputs": [
    {
     "data": {
      "text/html": [
       "<div>\n",
       "<style scoped>\n",
       "    .dataframe tbody tr th:only-of-type {\n",
       "        vertical-align: middle;\n",
       "    }\n",
       "\n",
       "    .dataframe tbody tr th {\n",
       "        vertical-align: top;\n",
       "    }\n",
       "\n",
       "    .dataframe thead th {\n",
       "        text-align: right;\n",
       "    }\n",
       "</style>\n",
       "<table border=\"1\" class=\"dataframe\">\n",
       "  <thead>\n",
       "    <tr style=\"text-align: right;\">\n",
       "      <th></th>\n",
       "      <th>chi-sq-b</th>\n",
       "      <th>chi-sq-b p-val</th>\n",
       "    </tr>\n",
       "  </thead>\n",
       "  <tbody>\n",
       "    <tr>\n",
       "      <th>c_modularity</th>\n",
       "      <td>55.752662</td>\n",
       "      <td>8.218691e-14</td>\n",
       "    </tr>\n",
       "    <tr>\n",
       "      <th>c_label_prop</th>\n",
       "      <td>52.367253</td>\n",
       "      <td>4.603366e-13</td>\n",
       "    </tr>\n",
       "    <tr>\n",
       "      <th>c_label_prop_asyn</th>\n",
       "      <td>2.756299</td>\n",
       "      <td>9.687211e-02</td>\n",
       "    </tr>\n",
       "    <tr>\n",
       "      <th>c_fluid</th>\n",
       "      <td>147.466040</td>\n",
       "      <td>6.206597e-34</td>\n",
       "    </tr>\n",
       "    <tr>\n",
       "      <th>c_louvain</th>\n",
       "      <td>295.778228</td>\n",
       "      <td>2.738891e-66</td>\n",
       "    </tr>\n",
       "  </tbody>\n",
       "</table>\n",
       "</div>"
      ],
      "text/plain": [
       "                     chi-sq-b  chi-sq-b p-val\n",
       "c_modularity        55.752662    8.218691e-14\n",
       "c_label_prop        52.367253    4.603366e-13\n",
       "c_label_prop_asyn    2.756299    9.687211e-02\n",
       "c_fluid            147.466040    6.206597e-34\n",
       "c_louvain          295.778228    2.738891e-66"
      ]
     },
     "execution_count": 13,
     "metadata": {},
     "output_type": "execute_result"
    }
   ],
   "source": [
    "from sklearn.feature_selection import chi2\n",
    "\n",
    "# This method drops NaN rows for any column, so more data is lost\n",
    "# temp_df = users_df[comm_cols + ['coded_as_witness']].dropna()\n",
    "\n",
    "# X = temp_df[comm_cols]\n",
    "# y = temp_df['coded_as_witness']\n",
    "\n",
    "# chi2b_df = pd.DataFrame(data={'feature': comm_cols, 'chi-sq-b': chi2(X,y)[0], 'chi-sq-b p-val': chi2(X,y)[1]})\n",
    "# #chi2b_df.plot(kind='bar', y='chi2', x='feature', rot=45)\n",
    "# chi2b_df\n",
    "\n",
    "# This method calculates each metric separately, so fewer rows are dropped.\n",
    "def get_chi2_sklearn_df(X, y):\n",
    "    cols = X.columns    \n",
    "#     data = [[k[0] for k in chi2(\n",
    "#                                 X[col].dropna().to_frame(), \n",
    "#                                 y[X[col].notna()]\n",
    "#                                 )\n",
    "#             ] for col in cols]\n",
    "    \n",
    "    data = []\n",
    "    for col in cols:\n",
    "        data.append( [k[0] for k in chi2(\n",
    "                                X[col].dropna().to_frame(), \n",
    "                                y[X[col].notna()])])\n",
    "    chi2b_df = pd.DataFrame(data=data, columns=['chi-sq-b', 'chi-sq-b p-val'], index=cols)\n",
    "    return chi2b_df\n",
    "\n",
    "chi2b_df = get_chi2_sklearn_df(X, y)\n",
    "chi2b_df"
   ]
  },
  {
   "cell_type": "markdown",
   "metadata": {},
   "source": [
    "`sklearn.feature_selection.chi2` uses a different implementation of the chi-square formula, therefore these result differ from the results returned by `scipy.stats.scs.chi2_contingency`. Regardless, the each of the p-values is sufficiently small to reject the null hypothesis and accept that there is an association.\n",
    "\n",
    " A p-value close to zero means that our variables are very unlikely to be completely unassociated in some population. However, this does not mean the variables are strongly associated; a weak association in a large sample size may also result in p = 0.000.\n",
    " \n",
    " ### Cramer's V\n",
    " \n",
    "Given that we would like to choose the algorithm which results in the communities with the strongest associations to the target label, we need another statistical measure. Cramérs $\\phi$ (or V) coefficient is based upon the $\\chi^2$ value and measures the strength the association between two categorical variables. Here, a score of $0$ represents no association, and $1$ represents a perfect association.\n",
    "\n",
    "$${\\phi}_c = \\sqrt{\\frac{\\chi^2}{N(k-1)}}$$"
   ]
  },
  {
   "cell_type": "code",
   "execution_count": 14,
   "metadata": {},
   "outputs": [],
   "source": [
    "import numpy as np\n",
    "\n",
    "def cramers_v(x, y):\n",
    "    confusion_matrix = pd.crosstab(x,y)\n",
    "    #chi2 = scs.chi2_contingency(confusion_matrix)[0]\n",
    "    chi2 = chi_square(x, y)[0]\n",
    "    n = confusion_matrix.sum().sum()\n",
    "    phi2 = chi2/n\n",
    "    r,k = confusion_matrix.shape\n",
    "    phi2corr = max(0, phi2-((k-1)*(r-1))/(n-1))\n",
    "    rcorr = r-((r-1)**2)/(n-1)\n",
    "    kcorr = k-((k-1)**2)/(n-1)\n",
    "    return np.sqrt(phi2corr/min((kcorr-1),(rcorr-1)))"
   ]
  },
  {
   "cell_type": "code",
   "execution_count": 15,
   "metadata": {},
   "outputs": [
    {
     "data": {
      "text/html": [
       "<div>\n",
       "<style scoped>\n",
       "    .dataframe tbody tr th:only-of-type {\n",
       "        vertical-align: middle;\n",
       "    }\n",
       "\n",
       "    .dataframe tbody tr th {\n",
       "        vertical-align: top;\n",
       "    }\n",
       "\n",
       "    .dataframe thead th {\n",
       "        text-align: right;\n",
       "    }\n",
       "</style>\n",
       "<table border=\"1\" class=\"dataframe\">\n",
       "  <thead>\n",
       "    <tr style=\"text-align: right;\">\n",
       "      <th></th>\n",
       "      <th>cramers_v</th>\n",
       "    </tr>\n",
       "  </thead>\n",
       "  <tbody>\n",
       "    <tr>\n",
       "      <th>c_modularity</th>\n",
       "      <td>0.499062</td>\n",
       "    </tr>\n",
       "    <tr>\n",
       "      <th>c_label_prop</th>\n",
       "      <td>0.331235</td>\n",
       "    </tr>\n",
       "    <tr>\n",
       "      <th>c_label_prop_asyn</th>\n",
       "      <td>0.467963</td>\n",
       "    </tr>\n",
       "    <tr>\n",
       "      <th>c_fluid</th>\n",
       "      <td>0.404088</td>\n",
       "    </tr>\n",
       "    <tr>\n",
       "      <th>c_louvain</th>\n",
       "      <td>0.474934</td>\n",
       "    </tr>\n",
       "  </tbody>\n",
       "</table>\n",
       "</div>"
      ],
      "text/plain": [
       "                   cramers_v\n",
       "c_modularity        0.499062\n",
       "c_label_prop        0.331235\n",
       "c_label_prop_asyn   0.467963\n",
       "c_fluid             0.404088\n",
       "c_louvain           0.474934"
      ]
     },
     "execution_count": 15,
     "metadata": {},
     "output_type": "execute_result"
    }
   ],
   "source": [
    "def get_cramers_df(X, y):\n",
    "    cols = X.columns\n",
    "    data = [cramers_v(X[col].dropna(), y[X[col].notna()]) for col in cols]\n",
    "    cramers_df = pd.DataFrame(data=data, columns=['cramers_v'], index=cols)\n",
    "    return cramers_df\n",
    "\n",
    "cramers_df = get_cramers_df(X, y)\n",
    "cramers_df"
   ]
  },
  {
   "cell_type": "markdown",
   "metadata": {},
   "source": [
    "### Theil's U\n",
    "While Cramer's Phi measures the strength of the association, Theil's U is a conditional measure. That is, it is able to measure how well we can predict one variable, given the other. Therefore, it is a more suitable statistic when evaluating features to use in prediction models.\n",
    "\n",
    "In essence: 'given Y, what fraction of the bits of X can we predict?'\n"
   ]
  },
  {
   "cell_type": "code",
   "execution_count": 16,
   "metadata": {},
   "outputs": [],
   "source": [
    "import math\n",
    "from collections import Counter\n",
    "\n",
    "def conditional_entropy(x, y, log_base: float = math.e):\n",
    "    y_counter = Counter(y)\n",
    "    xy_counter = Counter(list(zip(x, y)))\n",
    "    total_occurrences = sum(y_counter.values())\n",
    "    entropy = 0.0\n",
    "    for xy in xy_counter.keys():\n",
    "        p_xy = xy_counter[xy] / total_occurrences\n",
    "        p_y = y_counter[xy[1]] / total_occurrences\n",
    "        entropy += p_xy * math.log(p_y / p_xy, log_base)\n",
    "    return entropy\n",
    "\n",
    "def theils_u(x, y):\n",
    "    '''given Y, what fraction of the bits of X can we predict?'''\n",
    "    s_xy = conditional_entropy(x,y)\n",
    "    x_counter = Counter(x)\n",
    "    total_occurrences = sum(x_counter.values())\n",
    "    p_x = list(map(lambda n: n/total_occurrences, x_counter.values()))\n",
    "    s_x = scs.entropy(p_x)\n",
    "    if s_x == 0:\n",
    "        return 1\n",
    "    else:\n",
    "        return (s_x - s_xy) / s_x"
   ]
  },
  {
   "cell_type": "code",
   "execution_count": 17,
   "metadata": {},
   "outputs": [
    {
     "data": {
      "text/html": [
       "<div>\n",
       "<style scoped>\n",
       "    .dataframe tbody tr th:only-of-type {\n",
       "        vertical-align: middle;\n",
       "    }\n",
       "\n",
       "    .dataframe tbody tr th {\n",
       "        vertical-align: top;\n",
       "    }\n",
       "\n",
       "    .dataframe thead th {\n",
       "        text-align: right;\n",
       "    }\n",
       "</style>\n",
       "<table border=\"1\" class=\"dataframe\">\n",
       "  <thead>\n",
       "    <tr style=\"text-align: right;\">\n",
       "      <th></th>\n",
       "      <th>theils_u</th>\n",
       "    </tr>\n",
       "  </thead>\n",
       "  <tbody>\n",
       "    <tr>\n",
       "      <th>c_modularity</th>\n",
       "      <td>0.228286</td>\n",
       "    </tr>\n",
       "    <tr>\n",
       "      <th>c_label_prop</th>\n",
       "      <td>0.142234</td>\n",
       "    </tr>\n",
       "    <tr>\n",
       "      <th>c_label_prop_asyn</th>\n",
       "      <td>0.233647</td>\n",
       "    </tr>\n",
       "    <tr>\n",
       "      <th>c_fluid</th>\n",
       "      <td>0.136705</td>\n",
       "    </tr>\n",
       "    <tr>\n",
       "      <th>c_louvain</th>\n",
       "      <td>0.258152</td>\n",
       "    </tr>\n",
       "  </tbody>\n",
       "</table>\n",
       "</div>"
      ],
      "text/plain": [
       "                   theils_u\n",
       "c_modularity       0.228286\n",
       "c_label_prop       0.142234\n",
       "c_label_prop_asyn  0.233647\n",
       "c_fluid            0.136705\n",
       "c_louvain          0.258152"
      ]
     },
     "execution_count": 17,
     "metadata": {},
     "output_type": "execute_result"
    }
   ],
   "source": [
    "def get_theils_df(X, y):\n",
    "    cols = X.columns\n",
    "    # Swap X and y positions to match Theil format:\n",
    "    data = [theils_u(y[X[col].notna()], X[col].dropna()) for col in cols]\n",
    "    theils_df = pd.DataFrame(data=data, columns=['theils_u'], index=cols)\n",
    "    return theils_df\n",
    "\n",
    "theils_df = get_theils_df(X, y)\n",
    "theils_df"
   ]
  },
  {
   "cell_type": "markdown",
   "metadata": {},
   "source": [
    "### Random Forest Feature Selection\n",
    "Decision Trees (and their ensemble random forest counterparts) can rank features on their importance, where their importance represents how much reduction of the (gini) uncertainty measure each feature contributes to the model. Note that due to how decision trees learn, these importance values can vary each time a model is trained, though this variance should be minimised in ensemble methods."
   ]
  },
  {
   "cell_type": "code",
   "execution_count": 18,
   "metadata": {},
   "outputs": [
    {
     "data": {
      "text/html": [
       "<div>\n",
       "<style scoped>\n",
       "    .dataframe tbody tr th:only-of-type {\n",
       "        vertical-align: middle;\n",
       "    }\n",
       "\n",
       "    .dataframe tbody tr th {\n",
       "        vertical-align: top;\n",
       "    }\n",
       "\n",
       "    .dataframe thead th {\n",
       "        text-align: right;\n",
       "    }\n",
       "</style>\n",
       "<table border=\"1\" class=\"dataframe\">\n",
       "  <thead>\n",
       "    <tr style=\"text-align: right;\">\n",
       "      <th></th>\n",
       "      <th>importance</th>\n",
       "    </tr>\n",
       "  </thead>\n",
       "  <tbody>\n",
       "    <tr>\n",
       "      <th>c_modularity</th>\n",
       "      <td>0.248872</td>\n",
       "    </tr>\n",
       "    <tr>\n",
       "      <th>c_label_prop</th>\n",
       "      <td>0.076402</td>\n",
       "    </tr>\n",
       "    <tr>\n",
       "      <th>c_label_prop_asyn</th>\n",
       "      <td>0.160641</td>\n",
       "    </tr>\n",
       "    <tr>\n",
       "      <th>c_fluid</th>\n",
       "      <td>0.326263</td>\n",
       "    </tr>\n",
       "    <tr>\n",
       "      <th>c_louvain</th>\n",
       "      <td>0.187823</td>\n",
       "    </tr>\n",
       "  </tbody>\n",
       "</table>\n",
       "</div>"
      ],
      "text/plain": [
       "                   importance\n",
       "c_modularity         0.248872\n",
       "c_label_prop         0.076402\n",
       "c_label_prop_asyn    0.160641\n",
       "c_fluid              0.326263\n",
       "c_louvain            0.187823"
      ]
     },
     "execution_count": 18,
     "metadata": {},
     "output_type": "execute_result"
    }
   ],
   "source": [
    "from sklearn.tree import DecisionTreeRegressor, DecisionTreeClassifier\n",
    "from sklearn.ensemble import RandomForestClassifier\n",
    "import warnings\n",
    "\n",
    "# Ignore FutureWarning from RF classifier\n",
    "warnings.simplefilter(action='ignore', category=FutureWarning)\n",
    "\n",
    "def get_rf_importance_df(X, y):\n",
    "    '''\n",
    "    Returns importances of X variables as determined by\n",
    "    random forest model.\n",
    "    \n",
    "    X: dataframe\n",
    "    Y: series\n",
    "    '''\n",
    "    nan_rows = X.isna().any(1)\n",
    "    y = y[~nan_rows]\n",
    "    X = X[~nan_rows]\n",
    "\n",
    "    #tree = DecisionTreeRegressor().fit(X, y)\n",
    "    #tree = DecisionTreeClassifier().fit(X, y)\n",
    "    tree = RandomForestClassifier(n_estimators=1000).fit(X, y)\n",
    "\n",
    "    rf_df = pd.DataFrame(tree.feature_importances_, \n",
    "                   columns =['importance'], index=comm_cols)\n",
    "    return rf_df\n",
    "\n",
    "\n",
    "rf_df = get_rf_importance_df(users_df[comm_cols], users_df['coded_as_witness'])\n",
    "#rf_df.plot(kind='bar', x='feature', rot=45)\n",
    "rf_df "
   ]
  },
  {
   "cell_type": "markdown",
   "metadata": {},
   "source": [
    "We can now compare the algorithms across each association measure. Theil's U and perhaps the random forest feature importance measures are more significant here. The Louvain and modularity measures appear to be the most promising. The asynchronous implementation of label propogation appears to outperform its synchronous counterpart, though it's overall relevance requires further investigation."
   ]
  },
  {
   "cell_type": "code",
   "execution_count": 19,
   "metadata": {},
   "outputs": [
    {
     "data": {
      "image/png": "[encoded data removed]",
      "text/plain": [
       "<Figure size 864x864 with 5 Axes>"
      ]
     },
     "metadata": {
      "needs_background": "light"
     },
     "output_type": "display_data"
    }
   ],
   "source": [
    "df_list = [chi2a_df, chi2b_df, cramers_df, theils_df, rf_df]\n",
    "# Plot only first column:\n",
    "df_list = [x.iloc[:,0] for x in df_list]\n",
    "\n",
    "create_plot_grid(df_list)"
   ]
  },
  {
   "cell_type": "markdown",
   "metadata": {},
   "source": [
    "## Evaluation on Temporal Sub-Graphs\n",
    "\n",
    "While the analysis above demonstrates the predictive power of these algorithms at the end point of an event, once the graph data is most rich, the purpose of this research is to classify user objects as they are detected. Therefore, we need to test the efficacy of these algorithms on partial graphs, as they appeared throughout the data collection process.\n",
    "\n",
    "Data was collected over the course of several days for this event, therefore we can create subgraphs at intervals an re-calculate the metrics discussed above. This function creates a subgraph as it existed at every 24-hour interval from the event start time. Therefore, for the Hurricane Harvey event, which was recorded over 7 days and 10 hours, 7 sub-graphs are generated. With the final graph, there are a total of 8 graphs. Each graph contains all the data of the graph preceding it plus the newly observed users and their common relationships.\n",
    "\n",
    "The same transormations as above are then applied and the association measures calculated. It is expected that the measures increase over time, as the network structure is revealed. We are therefore interested in observing the rate at which this happens."
   ]
  },
  {
   "cell_type": "code",
   "execution_count": 20,
   "metadata": {},
   "outputs": [],
   "source": [
    "import networkx as nx\n",
    "from datetime import timedelta\n",
    "\n",
    "def get_graph_objects_time_sliced():\n",
    "    \"\"\"\n",
    "    Creates subgraphs of the main event's graph every 24 hours \n",
    "    from start date.\n",
    "    \n",
    "    Sub-graphs are returned in a dictionary keyed by their\n",
    "    slice index, where t_n = k*24h. The dictionary will not\n",
    "    include the final, complete graph.\n",
    "    \"\"\"\n",
    "    EVENT_NAME = Event.objects.all()[0].name.replace(' ', '')\n",
    "    DIR = './data/harvey_user_location/'\n",
    "    \n",
    "    # Get event and calculate duration:\n",
    "    e = Event.objects.all()[0]\n",
    "    end = max(e.time_end, e.kw_stream_end, e.gps_stream_end)\n",
    "    start = min(e.time_start, e.kw_stream_start, e.gps_stream_start)\n",
    "    duration_days = (end - start).days\n",
    "    print('Days in event: {}: {} '.format(e.name, duration_days))\n",
    "    # Create timestamps every 24 hours:\n",
    "    interim_time_slices = [start + timedelta(days=t+1) for t in range(duration_days)]\n",
    "    # Reverse list to support progressively paring down subset queries:\n",
    "    interim_time_slices.reverse()\n",
    "    \n",
    "    graph_dict = {}\n",
    "    print('Getting user and edge list for full graph...')\n",
    "    classed_users = User.objects.filter(user_class__gte=1)\n",
    "    edges = Relo.objects.filter(target_user__in=classed_users, source_user__in=classed_users, end_observed_at=None)\n",
    "    \n",
    "    # Create subgraphs for each time stamp in reverse chronological order:\n",
    "    for i in range(len(interim_time_slices)):\n",
    "        filename = 'network_data_{}_tslice-{}.gexf'.format(EVENT_NAME, len(interim_time_slices)-i)\n",
    "        try:\n",
    "            # Load cached file if available\n",
    "            G = nx.read_gexf(DIR + filename)\n",
    "            print('Importing existing graph object for time slice {} ...'.format(i))\n",
    "        except:\n",
    "            print('Creating new graph object for time slice {}...'.format(i))\n",
    "            # Subset classed users for those added prior to slice point:\n",
    "            classed_users = classed_users.filter(added_at__lt=interim_time_slices[i])\n",
    "            G=nx.DiGraph()\n",
    "            for node in classed_users:\n",
    "                try:\n",
    "                    user_code = (node.coding_for_user.filter(coding_id=1)\n",
    "                                .exclude(data_code__name='To Be Coded')[0]\n",
    "                                .data_code.name)\n",
    "                except:\n",
    "                    user_code = ''\n",
    "                G.add_node(node.screen_name, user_class=node.user_class, user_code=user_code)\n",
    "            # Subset edges to those associated with subset of users\n",
    "            edges = edges.filter(target_user__in=classed_users, \n",
    "                                    source_user__in=classed_users)\n",
    "            edge_list = [(edge.source_user.screen_name, edge.target_user.screen_name) for edge in edges]\n",
    "            G.add_edges_from(edge_list)\n",
    "            # Write to file and re-import to bypass issue with community algorithms\n",
    "            nx.write_gexf(G, DIR + filename, prettyprint=True)\n",
    "            G = nx.read_gexf(DIR + filename)\n",
    "            \n",
    "        graph_dict[len(interim_time_slices)-i] = G\n",
    "        \n",
    "    return graph_dict"
   ]
  },
  {
   "cell_type": "code",
   "execution_count": 21,
   "metadata": {},
   "outputs": [
    {
     "name": "stdout",
     "output_type": "stream",
     "text": [
      "Days in event: Hurricane Harvey: 7 \n",
      "Getting user and edge list for full graph...\n",
      "Importing existing graph object for time slice 0 ...\n",
      "Importing existing graph object for time slice 1 ...\n",
      "Importing existing graph object for time slice 2 ...\n",
      "Importing existing graph object for time slice 3 ...\n",
      "Importing existing graph object for time slice 4 ...\n",
      "Importing existing graph object for time slice 5 ...\n",
      "Importing existing graph object for time slice 6 ...\n"
     ]
    }
   ],
   "source": [
    "g_dict = get_graph_objects_time_sliced()"
   ]
  },
  {
   "cell_type": "markdown",
   "metadata": {},
   "source": [
    "Calculate the community metrics for each subgraph and create time slice dataframes for each metric:"
   ]
  },
  {
   "cell_type": "code",
   "execution_count": 22,
   "metadata": {},
   "outputs": [
    {
     "name": "stdout",
     "output_type": "stream",
     "text": [
      "Processing subgraph:  7\n",
      "Importing existing community graph object...\n",
      "Processing subgraph:  6\n",
      "Importing existing community graph object...\n",
      "Processing subgraph:  5\n",
      "Importing existing community graph object...\n",
      "Processing subgraph:  4\n",
      "Importing existing community graph object...\n",
      "Processing subgraph:  3\n",
      "Importing existing community graph object...\n",
      "Processing subgraph:  2\n",
      "Importing existing community graph object...\n",
      "Processing subgraph:  1\n",
      "Importing existing community graph object...\n"
     ]
    }
   ],
   "source": [
    "import os\n",
    "import pandas as pd\n",
    "# Ignore FutureWarning from RF classifier\n",
    "import warnings\n",
    "warnings.simplefilter(action='ignore', category=FutureWarning)\n",
    "\n",
    "\n",
    "DIR = './data/harvey_user_location/'\n",
    "DF_FILENAME = 'df_users.csv'\n",
    "\n",
    "users_df = pd.read_csv(DIR + DF_FILENAME, index_col=0)\n",
    "\n",
    "g_dict_comm = {}\n",
    "\n",
    "\n",
    "#df_comm.columns\n",
    "tslice_chi2a_df = pd.DataFrame()\n",
    "tslice_chi2b_df = pd.DataFrame()\n",
    "tslice_cramers_df = pd.DataFrame()\n",
    "tslice_theils_df = pd.DataFrame()\n",
    "tslice_rf_df = pd.DataFrame()\n",
    "\n",
    "    \n",
    "# Calculate the community metrics for each subgraph:\n",
    "for key in g_dict:\n",
    "    print('Processing subgraph: ', key)\n",
    "    e = Event.objects.all()[0]\n",
    "    filename = 'network_data_{}_comm_tslice-{}.gexf'.format(e.name.replace(' ', ''), key)\n",
    "    g2 = g_dict[key]\n",
    "    \n",
    "    # Write and reimport to avoid issue with community calculation:\n",
    "    nx.write_gexf(g2, DIR + 'temp.gexf', prettyprint=True)\n",
    "    g2 = nx.read_gexf(DIR + 'temp.gexf')\n",
    "    os.remove(DIR + 'temp.gexf')\n",
    "    \n",
    "    # Calc community metrics for graph\n",
    "    g2 = calc_community_metrics(g2, filename)\n",
    "    g_dict_comm[key] = g2\n",
    "    \n",
    "    # Create community dataframe\n",
    "    nodes = g2.nodes(data=True)\n",
    "    df_comm = pd.DataFrame.from_dict(dict(nodes), orient='index')\n",
    "    df_comm = df_comm.drop(['user_class', 'user_code', 'label'], axis=1)\n",
    "    \n",
    "    # Merge dataframes\n",
    "    comm_cols = list(df_comm.columns)\n",
    "    users_df_temp = pd.merge(left=users_df, right=df_comm, how='left', left_on='screen_name', right_index=True)\n",
    "\n",
    "    # Ignore small communities where observed cases are too low (required for chi-square tests)\n",
    "    MIN_COMMUNITY_SIZE = 5\n",
    "    for col in comm_cols:\n",
    "        s = users_df_temp[col].value_counts()\n",
    "        users_df_temp.loc[~users_df_temp[col].isin(s.index[s >= MIN_COMMUNITY_SIZE]), col] = np.NaN\n",
    "\n",
    "    X2 = users_df_temp[comm_cols]\n",
    "    y2 = users_df_temp['coded_as_witness']\n",
    "    # Chi-square\n",
    "    tslice_chi2a_df[key] = get_chi2_df(X2, y2).iloc[:,0]\n",
    "    # Chi-square sklearn\n",
    "    tslice_chi2b_df[key] = get_chi2_sklearn_df(X2, y2).iloc[:,0]\n",
    "    # Cramer's V\n",
    "    tslice_cramers_df[key] = get_cramers_df(X2, y2).iloc[:,0]\n",
    "    # Theil's U\n",
    "    tslice_theils_df[key] = get_theils_df(X2, y2).iloc[:,0]\n",
    "    # Random Forest\n",
    "    tslice_rf_df[key] = get_rf_importance_df(X2, y2).iloc[:,0]"
   ]
  },
  {
   "cell_type": "markdown",
   "metadata": {},
   "source": [
    "We can now inspect the rate of growth over the collection period. Edges are only included if they are connected to an existing user, therefore their growth should accelerate as the available users with which to connect increases."
   ]
  },
  {
   "cell_type": "code",
   "execution_count": 36,
   "metadata": {},
   "outputs": [
    {
     "data": {
      "text/html": [
       "<div>\n",
       "<style scoped>\n",
       "    .dataframe tbody tr th:only-of-type {\n",
       "        vertical-align: middle;\n",
       "    }\n",
       "\n",
       "    .dataframe tbody tr th {\n",
       "        vertical-align: top;\n",
       "    }\n",
       "\n",
       "    .dataframe thead th {\n",
       "        text-align: right;\n",
       "    }\n",
       "</style>\n",
       "<table border=\"1\" class=\"dataframe\">\n",
       "  <thead>\n",
       "    <tr style=\"text-align: right;\">\n",
       "      <th></th>\n",
       "      <th>nodes</th>\n",
       "      <th>edges</th>\n",
       "    </tr>\n",
       "  </thead>\n",
       "  <tbody>\n",
       "    <tr>\n",
       "      <th>0</th>\n",
       "      <td>0</td>\n",
       "      <td>0</td>\n",
       "    </tr>\n",
       "    <tr>\n",
       "      <th>1</th>\n",
       "      <td>2288</td>\n",
       "      <td>9990</td>\n",
       "    </tr>\n",
       "    <tr>\n",
       "      <th>2</th>\n",
       "      <td>3723</td>\n",
       "      <td>16733</td>\n",
       "    </tr>\n",
       "    <tr>\n",
       "      <th>3</th>\n",
       "      <td>6407</td>\n",
       "      <td>29516</td>\n",
       "    </tr>\n",
       "    <tr>\n",
       "      <th>4</th>\n",
       "      <td>10031</td>\n",
       "      <td>46996</td>\n",
       "    </tr>\n",
       "    <tr>\n",
       "      <th>5</th>\n",
       "      <td>13163</td>\n",
       "      <td>64469</td>\n",
       "    </tr>\n",
       "    <tr>\n",
       "      <th>6</th>\n",
       "      <td>16179</td>\n",
       "      <td>83982</td>\n",
       "    </tr>\n",
       "    <tr>\n",
       "      <th>7</th>\n",
       "      <td>18067</td>\n",
       "      <td>98005</td>\n",
       "    </tr>\n",
       "    <tr>\n",
       "      <th>final</th>\n",
       "      <td>18409</td>\n",
       "      <td>100257</td>\n",
       "    </tr>\n",
       "  </tbody>\n",
       "</table>\n",
       "</div>"
      ],
      "text/plain": [
       "       nodes   edges\n",
       "0          0       0\n",
       "1       2288    9990\n",
       "2       3723   16733\n",
       "3       6407   29516\n",
       "4      10031   46996\n",
       "5      13163   64469\n",
       "6      16179   83982\n",
       "7      18067   98005\n",
       "final  18409  100257"
      ]
     },
     "execution_count": 36,
     "metadata": {},
     "output_type": "execute_result"
    },
    {
     "data": {
      "image/png": "[encoded data removed]",
      "text/plain": [
       "<Figure size 432x288 with 1 Axes>"
      ]
     },
     "metadata": {
      "needs_background": "light"
     },
     "output_type": "display_data"
    }
   ],
   "source": [
    "node_counts = pd.Series([len(g) for g in g_dict_comm.values()] + [0]).iloc[::-1].reset_index(drop=True)\n",
    "node_counts.name = 'nodes'\n",
    "edge_counts = pd.Series([g.number_of_edges() for g in g_dict_comm.values()] + [0]).iloc[::-1].reset_index(drop=True)\n",
    "edge_counts.name = 'edges'\n",
    "dff = pd.concat([node_counts, edge_counts], axis=1)\n",
    "\n",
    "dff.loc['final'] = [len(G), G.number_of_edges()]\n",
    "dff.plot(title='Graph Growth per 24h')\n",
    "dff"
   ]
  },
  {
   "cell_type": "code",
   "execution_count": 24,
   "metadata": {},
   "outputs": [],
   "source": [
    "# Sort columns chronologically:\n",
    "dfs = [tslice_chi2a_df, tslice_chi2b_df, tslice_cramers_df, tslice_theils_df, tslice_rf_df]\n",
    "\n",
    "for df in dfs:\n",
    "    df.sort_index(axis=1, inplace=True)\n",
    "    \n",
    "# Append the final graph values to each dataframe:\n",
    "tslice_chi2a_df['final'] = chi2a_df.iloc[:,0]\n",
    "tslice_chi2b_df['final'] = chi2b_df.iloc[:,0]\n",
    "tslice_cramers_df['final'] = cramers_df.iloc[:,0]\n",
    "tslice_theils_df['final'] = theils_df.iloc[:,0]\n",
    "tslice_rf_df['final'] = rf_df.iloc[:,0]"
   ]
  },
  {
   "cell_type": "markdown",
   "metadata": {},
   "source": [
    "The association measures can now be viewed over the time slice periods. Their growth over time will illustrate the emergence of the graph structure as seen in the final graph. Where association measures are poor for early values if `t`,  modularity measures may not provide adequate predictive power in earlier graphs and therefore using the metrics may not be feasible in a live classification application. Ideally, the higher association measures will emerge early.\n",
    "\n",
    "We expect the chi-square values to generally increase as the graph size increases; this does not represent an increasing association but is a function of the formula. They are presented here for reference."
   ]
  },
  {
   "cell_type": "code",
   "execution_count": 37,
   "metadata": {},
   "outputs": [
    {
     "name": "stdout",
     "output_type": "stream",
     "text": [
      "chi-square a\n"
     ]
    },
    {
     "data": {
      "image/png": "[encoded data removed]",
      "text/plain": [
       "<Figure size 864x864 with 5 Axes>"
      ]
     },
     "metadata": {
      "needs_background": "light"
     },
     "output_type": "display_data"
    }
   ],
   "source": [
    "colnames = tslice_chi2a_df.columns\n",
    "\n",
    "print('chi-square a')\n",
    "series_list = [tslice_chi2a_df.iloc[i] for i in range(len(tslice_chi2a_df))]\n",
    "create_plot_grid(series_list)"
   ]
  },
  {
   "cell_type": "code",
   "execution_count": 38,
   "metadata": {},
   "outputs": [
    {
     "name": "stdout",
     "output_type": "stream",
     "text": [
      "chi-square b\n"
     ]
    },
    {
     "data": {
      "image/png": "[encoded data removed]",
      "text/plain": [
       "<Figure size 864x864 with 5 Axes>"
      ]
     },
     "metadata": {
      "needs_background": "light"
     },
     "output_type": "display_data"
    }
   ],
   "source": [
    "print('chi-square b')\n",
    "series_list = [tslice_chi2b_df.iloc[i] for i in range(len(tslice_chi2b_df))]\n",
    "create_plot_grid(series_list)"
   ]
  },
  {
   "cell_type": "code",
   "execution_count": 39,
   "metadata": {},
   "outputs": [
    {
     "name": "stdout",
     "output_type": "stream",
     "text": [
      "Cramer's v\n"
     ]
    },
    {
     "data": {
      "image/png": "[encoded data removed]",
      "text/plain": [
       "<Figure size 864x864 with 5 Axes>"
      ]
     },
     "metadata": {
      "needs_background": "light"
     },
     "output_type": "display_data"
    }
   ],
   "source": [
    "print('Cramer\\'s v')\n",
    "series_list = [tslice_cramers_df.iloc[i] for i in range(len(tslice_cramers_df))]\n",
    "create_plot_grid(series_list)"
   ]
  },
  {
   "cell_type": "code",
   "execution_count": 29,
   "metadata": {},
   "outputs": [
    {
     "name": "stdout",
     "output_type": "stream",
     "text": [
      "Theil's U\n"
     ]
    },
    {
     "data": {
      "image/png": "[encoded data removed]",
      "text/plain": [
       "<Figure size 864x864 with 5 Axes>"
      ]
     },
     "metadata": {
      "needs_background": "light"
     },
     "output_type": "display_data"
    }
   ],
   "source": [
    "print('Theil\\'s U')\n",
    "series_list = [tslice_theils_df.iloc[i] for i in range(len(tslice_theils_df))]\n",
    "create_plot_grid(series_list)"
   ]
  },
  {
   "cell_type": "code",
   "execution_count": 30,
   "metadata": {},
   "outputs": [
    {
     "name": "stdout",
     "output_type": "stream",
     "text": [
      "RF Feature Importance\n"
     ]
    },
    {
     "data": {
      "image/png": "[encoded data removed]",
      "text/plain": [
       "<Figure size 864x864 with 5 Axes>"
      ]
     },
     "metadata": {
      "needs_background": "light"
     },
     "output_type": "display_data"
    }
   ],
   "source": [
    "print('RF Feature Importance')\n",
    "series_list = [tslice_rf_df.iloc[i] for i in range(len(tslice_rf_df))]\n",
    "create_plot_grid(series_list)"
   ]
  },
  {
   "cell_type": "markdown",
   "metadata": {},
   "source": [
    "The stability in the Theil's U and Random Forest metrics suggest that the associations are strong even in smaller graphs. Therefore using these community data throughout the collection process in live classification is a viable strategy. Theil's U measures the fraction of Y (witness labels) we can predict using the community measures. The highest and most stable over time algorithms therefore appear to be c_modularity, c_label_prop_async, and c_louvain. Each of these shows a value of approximately .20-.25 over the course of the collection period.\n",
    "\n",
    "As community labels are qualitative, we now need to convert them to quantifiable metrics so that we can train a model that is able to generalise to new data (rather than simply learning the community label name). \n",
    "\n",
    "## Quantifying Community Structure\n",
    "\n",
    "The analysis above has measured whether there is an association between the (qualitative) community label, and the target class. This association has been shown to exist, meaning 'witness' users tend to co-appear in certain communities. To be able to use community data in a machine-learning model, the communities labels must be converted into a value which can be generalised to new datasets. A clustering algorithm may label communities arbitrarily and this will be different on each dataset, therefore these labels must be converted into some measure that can be generalised between datasets.\n",
    "\n",
    "In the current structure, communities are ranked by size. This could be a suitable metric: perhaps witness accounts are most common in the largest community. This has been observed in the output of, for example, the `c_fluid` algorithm, but is not consistant with the other algorithms' labels.\n",
    "\n",
    "In this section, various measures by which to characterise the communities are calculated, and their correlation to the target label is evaluated. In essence, we are hoping that the network structure within the communities with more 'witness' nodes is significantly different to the other communities."
   ]
  },
  {
   "cell_type": "code",
   "execution_count": 8,
   "metadata": {},
   "outputs": [
    {
     "name": "stdout",
     "output_type": "stream",
     "text": [
      "Importing existing graph object...\n",
      "Importing existing community graph object...\n"
     ]
    }
   ],
   "source": [
    "e = Event.objects.all()[0]\n",
    "filename = 'network_data_{}_comm.gexf'.format(e.name.replace(' ', ''))\n",
    "\n",
    "G = get_graph_object()\n",
    "G = calc_community_metrics(G, filename)"
   ]
  },
  {
   "cell_type": "code",
   "execution_count": 110,
   "metadata": {},
   "outputs": [],
   "source": [
    "def get_subgraphs_by_attr(G, attr, min_subgraph_size=0):\n",
    "    '''\n",
    "    Returns a dictionary of subgraphs of graph G\n",
    "    based on the attribute passed.\n",
    "    Dictionary is keyed by attribute label.\n",
    "    '''\n",
    "    subgraph_dict = {}\n",
    "    node_data = list(nx.get_node_attributes(G, attr).values())\n",
    "    labels = set(node_data)\n",
    "\n",
    "    for label in labels:\n",
    "        count = sum([1 for x in node_data if x == label])\n",
    "        # Exclude subgraphs below provided threshold.\n",
    "        if count < min_subgraph_size:\n",
    "            continue\n",
    "        # Node generator:\n",
    "        nodes = ( node for node, data in G.nodes(data=True) if data.get(attr) == label )\n",
    "        subgraph = G.subgraph(nodes)\n",
    "        subgraph_dict[label] = subgraph\n",
    "    return subgraph_dict"
   ]
  },
  {
   "cell_type": "code",
   "execution_count": 111,
   "metadata": {},
   "outputs": [],
   "source": [
    "#subgraphs_dict = get_subgraphs_by_attr(G, 'c_modularity', MIN_COMMUNITY_SIZE)\n",
    "subgraphs_dict = get_subgraphs_by_attr(G, 'c_modularity', 50)"
   ]
  },
  {
   "cell_type": "code",
   "execution_count": 148,
   "metadata": {},
   "outputs": [],
   "source": [
    "def calc_network_metrics(G):\n",
    "    # (Currently ignores reciprocal relationships?)\n",
    "    \n",
    "    result_dict = {}\n",
    "    \n",
    "    # Create undirected graph:\n",
    "    G = nx.Graph(G)\n",
    "    n = len(G)\n",
    "    \n",
    "    # Generate Erdős-Rényi graph or a binomial graph.\n",
    "    max_edges = n*(n-1)/2\n",
    "    pr_edge = G.number_of_edges() / max_edges\n",
    "    R = nx.gnp_random_graph(n, pr_edge)\n",
    "    \n",
    "    result_dict['nodes'] = n\n",
    "    result_dict['edges'] = G.number_of_edges()\n",
    "    # Max shortest path\n",
    "    result_dict['diameter'] = nx.diameter(G)\n",
    "    result_dict['ex_diameter'] = nx.diameter(R)\n",
    "    result_dict['diameter_diff'] = result_dict['diameter'] - result_dict['ex_diameter']\n",
    "    \n",
    "    # Transitivity: fraction of all possible triangles present in G.\n",
    "    transitivity = nx.transitivity(G)\n",
    "    result_dict['transitivity'] = transitivity\n",
    "    ex_transitivity = nx.transitivity(R)\n",
    "    result_dict['ex_transitivity'] = ex_transitivity\n",
    "    result_dict['transitivity_diff'] = transitivity - ex_transitivity\n",
    "    \n",
    "    # Clustering: fraction of possible triangles through that a node that exist\n",
    "    average_clustering = nx.average_clustering(G)\n",
    "    result_dict['average_clustering'] = average_clustering\n",
    "    \n",
    "    average_degree = G.number_of_edges() / n\n",
    "    result_dict['average_degree'] = average_degree\n",
    "    \n",
    "    average_shortest_path_length = nx.average_shortest_path_length(G)\n",
    "    result_dict['average_shortest_path_length'] = average_shortest_path_length\n",
    "    \n",
    "    degree_centrality = nx.degree_centrality(G)\n",
    "    avg_degree_centrality = sum([v for k, v in degree_centrality.items()]) / n\n",
    "    result_dict['avg_degree_centrality'] = avg_degree_centrality\n",
    "    \n",
    "    eigenvector_centrality = nx.eigenvector_centrality(G, max_iter=1000)\n",
    "    eigenvector_centrality = sum([v for k, v in eigenvector_centrality.items()]) / n\n",
    "    result_dict['eigenvector_centrality'] = eigenvector_centrality\n",
    "    \n",
    "    return result_dict\n",
    "    "
   ]
  },
  {
   "cell_type": "code",
   "execution_count": null,
   "metadata": {},
   "outputs": [],
   "source": [
    "results_df = pd.DataFrame()\n",
    "\n",
    "for k, v in subgraphs_dict.items():\n",
    "    results = calc_network_metrics(v)    \n",
    "    results_df[k] = results.values()\n",
    "    \n",
    "results_df.index = results.keys()\n",
    "results_df = results_df.T\n",
    "\n",
    "if not results_df['nodes'].is_monotonic_decreasing:\n",
    "    print('WARNING: Communities not sorted by size')\n",
    "\n",
    "results_df.head()"
   ]
  },
  {
   "cell_type": "code",
   "execution_count": null,
   "metadata": {},
   "outputs": [],
   "source": [
    "create_plot_grid([results_df[c] for c in results_df.columns], kind='line')"
   ]
  },
  {
   "cell_type": "code",
   "execution_count": null,
   "metadata": {},
   "outputs": [],
   "source": []
  }
 ],
 "metadata": {
  "kernelspec": {
   "display_name": "Django Shell-Plus",
   "language": "python",
   "name": "django_extensions"
  },
  "language_info": {
   "codemirror_mode": {
    "name": "ipython",
    "version": 3
   },
   "file_extension": ".py",
   "mimetype": "text/x-python",
   "name": "python",
   "nbconvert_exporter": "python",
   "pygments_lexer": "ipython3",
   "version": "3.6.2"
  },
  "toc": {
   "base_numbering": 1,
   "nav_menu": {},
   "number_sections": true,
   "sideBar": true,
   "skip_h1_title": false,
   "title_cell": "Table of Contents",
   "title_sidebar": "Contents",
   "toc_cell": false,
   "toc_position": {},
   "toc_section_display": true,
   "toc_window_display": true
  },
  "varInspector": {
   "cols": {
    "lenName": 16,
    "lenType": 16,
    "lenVar": 40
   },
   "kernels_config": {
    "python": {
     "delete_cmd_postfix": "",
     "delete_cmd_prefix": "del ",
     "library": "var_list.py",
     "varRefreshCmd": "print(var_dic_list())"
    },
    "r": {
     "delete_cmd_postfix": ") ",
     "delete_cmd_prefix": "rm(",
     "library": "var_list.r",
     "varRefreshCmd": "cat(var_dic_list()) "
    }
   },
   "position": {
    "height": "386px",
    "left": "1223px",
    "right": "20px",
    "top": "2px",
    "width": "680px"
   },
   "types_to_exclude": [
    "module",
    "function",
    "builtin_function_or_method",
    "instance",
    "_Feature"
   ],
   "window_display": false
  }
 },
 "nbformat": 4,
 "nbformat_minor": 2
}
