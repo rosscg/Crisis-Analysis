{
 "cells": [
  {
   "cell_type": "markdown",
   "metadata": {},
   "source": [
    "In this notebook, we calculate the metrics explored in the previous notebook using the data collected from other Hurricanes. In this notebook, these are imported from csv files and combined into a single dataframe. The code used to export the data is included below."
   ]
  },
  {
   "cell_type": "code",
   "execution_count": 1,
   "metadata": {},
   "outputs": [],
   "source": [
    "# # Code to export Tweets to csv:\n",
    "# import pandas as pd\n",
    "# from streamcollect.models import Tweet, Event\n",
    "\n",
    "# print('Exporting Tweets for:', Event.objects.all()[0].name)\n",
    "# ts = Tweet.objects.filter(data_source__gt=0)\n",
    "# df = pd.DataFrame(list(ts.values()))\n",
    "# df['text'] = df['text'].str.replace('\\r', ' ') # Must strip to prevent csv row splits\n",
    "# df.to_csv('{}-tweets-export.csv'.format(Event.objects.all()[0].name))"
   ]
  },
  {
   "cell_type": "code",
   "execution_count": 2,
   "metadata": {},
   "outputs": [],
   "source": [
    "### Initialisation ###\n",
    "import pandas as pd\n",
    "\n",
    "# Location of data files\n",
    "DIR = './data/harvey_user_location/tw_dfs/'\n",
    "files = ['Hurricane-Irma', 'Hurricane-Michael', 'Hurricane-Florence', 'Hurricane-Willa']\n",
    "suffix = '-tweets-export.csv'"
   ]
  },
  {
   "cell_type": "code",
   "execution_count": 3,
   "metadata": {},
   "outputs": [
    {
     "name": "stderr",
     "output_type": "stream",
     "text": [
      "/home/rosles/projects/crisis-data/venv/lib/python3.6/site-packages/numpy/lib/arraysetops.py:569: FutureWarning: elementwise comparison failed; returning scalar instead, but in the future will perform elementwise comparison\n",
      "  mask |= (ar1 == a)\n"
     ]
    }
   ],
   "source": [
    "for f in files:\n",
    "    path = DIR + f + suffix\n",
    "#    dfa = pd.read_csv(path, index_col='tweet_id')\n",
    "    df_temp = pd.read_csv(path, index_col=0)\n",
    "    df_temp['event'] = f\n",
    "    try:\n",
    "        df = df.append(df_temp, ignore_index=True, sort=False)\n",
    "    except:\n",
    "        df = df_temp.copy()"
   ]
  },
  {
   "cell_type": "code",
   "execution_count": 4,
   "metadata": {},
   "outputs": [
    {
     "data": {
      "text/plain": [
       "Hurricane-Florence    1779303\n",
       "Hurricane-Michael      335709\n",
       "Hurricane-Willa         53823\n",
       "Hurricane-Harvey        46872\n",
       "Hurricane-Irma          42167\n",
       "Name: event, dtype: int64"
      ]
     },
     "execution_count": 4,
     "metadata": {},
     "output_type": "execute_result"
    }
   ],
   "source": [
    "# Adding the Harvey tweets from the current database\n",
    "ts = Tweet.objects.filter(data_source__gte=1)\n",
    "df2 = pd.DataFrame(list(ts.values()))\n",
    "df2['event'] = 'Hurricane-Harvey'\n",
    "df = df.append(df2, ignore_index=True, sort=False)\n",
    "\n",
    "df.event.value_counts()"
   ]
  },
  {
   "cell_type": "markdown",
   "metadata": {},
   "source": [
    "We can now explore various metrics examined in the prior notebook. Note that the dataset is heavily skewed towards Florence."
   ]
  },
  {
   "cell_type": "code",
   "execution_count": 28,
   "metadata": {},
   "outputs": [
    {
     "name": "stdout",
     "output_type": "stream",
     "text": [
      "Total Tweets per data_source\n",
      "1: 532098, 23.57%\n",
      "2: 85742, 3.80%\n",
      "3: 94717, 4.19%\n",
      "4: 1545317, 68.44%\n"
     ]
    }
   ],
   "source": [
    "print('Total Tweets per data_source')\n",
    "for i in range(1,5):\n",
    "    print('{}: {}, {:.2f}%'.format(i, sum(df.data_source==i), sum(df.data_source==i)/df.shape[0]*100))"
   ]
  },
  {
   "cell_type": "code",
   "execution_count": 23,
   "metadata": {},
   "outputs": [
    {
     "name": "stdout",
     "output_type": "stream",
     "text": [
      "6914 of 617840 (1.12%) keyword streamed Tweets include coordinates\n"
     ]
    }
   ],
   "source": [
    "tot_coord = df.loc[(~df.coordinates_lon.isnull()) & (df.data_source < 3)].shape[0]\n",
    "tot = df.loc[(df.data_source < 3) & (df.data_source > 0)].shape[0]\n",
    "\n",
    "print('{} of {} ({:.2f}%) keyword streamed Tweets include coordinates'.format(tot_coord, tot, tot_coord/tot*100))"
   ]
  },
  {
   "cell_type": "code",
   "execution_count": 72,
   "metadata": {},
   "outputs": [
    {
     "name": "stdout",
     "output_type": "stream",
     "text": [
      "1911319 of 2257874 (84.65%) Tweets published by first-party clients\n",
      "372158 of 712557 (52.23%) non-Place Tweets published by first-party clients\n",
      "\n",
      "\n",
      "371248 of 617840 (60.09%) keyword Tweets published by first-party clients\n",
      "910 of 94717 (0.96%) coordinate Tweets published by first-party clients\n",
      "1539161 of 1545317 (99.60%) place Tweets published by first-party clients\n"
     ]
    }
   ],
   "source": [
    "fp = ['Twitter for iPhone',\n",
    " 'Twitter Web Client',\n",
    " 'Twitter for Android',\n",
    " 'TweetDeck',\n",
    " 'Twitter for iPad',\n",
    " 'Twitter Lite',\n",
    " 'Twitter for Windows',\n",
    " 'Twitter for Mac',\n",
    " 'Mobile Web (M2)',\n",
    " 'iOS',\n",
    " 'Twitter for Windows Phone',\n",
    " 'Twitter for Android Tablets',\n",
    " 'Twitter for BlackBerry']\n",
    "\n",
    "s1 = df['source'].apply(lambda x: True if x in fp else False)\n",
    "print('{} of {} ({:.2f}%) Tweets published by first-party clients'.format(sum(s1), s1.count(), sum(s1)/s1.count()*100))\n",
    "s1 = df.loc[(df.data_source < 4) & (df.data_source > 0)].source.apply(lambda x: True if x in fp else False)\n",
    "print('{} of {} ({:.2f}%) non-Place Tweets published by first-party clients'.format(sum(s1), s1.count(), sum(s1)/s1.count()*100))\n",
    "\n",
    "print('\\n')\n",
    "\n",
    "s1 = df.loc[(df.data_source < 3) & (df.data_source > 0)].source.apply(lambda x: True if x in fp else False)\n",
    "print('{} of {} ({:.2f}%) keyword Tweets published by first-party clients'.format(sum(s1), s1.count(), sum(s1)/s1.count()*100))\n",
    "s1 = df.loc[df.data_source == 3].source.apply(lambda x: True if x in fp else False)\n",
    "print('{} of {} ({:.2f}%) coordinate Tweets published by first-party clients'.format(sum(s1), s1.count(), sum(s1)/s1.count()*100))\n",
    "s1 = df.loc[df.data_source == 4].source.apply(lambda x: True if x in fp else False)\n",
    "print('{} of {} ({:.2f}%) place Tweets published by first-party clients'.format(sum(s1), s1.count(), sum(s1)/s1.count()*100))"
   ]
  },
  {
   "cell_type": "code",
   "execution_count": 70,
   "metadata": {},
   "outputs": [
    {
     "name": "stdout",
     "output_type": "stream",
     "text": [
      "63036 of 94717 (66.55%) coordinate Tweets came from Instagram\n",
      "67816 of 77999 (86.94%) total Instagram-sourced Tweets include coordinates\n",
      "4780 of 14963 (31.95%) Instagram-sourced Tweets from keyword streams include coordinates\n"
     ]
    }
   ],
   "source": [
    "# TODO: this should include all Tweets (i.e. also data_source <= 0)\n",
    "\n",
    "s1 = df.loc[df.data_source == 3].source == 'Instagram'\n",
    "print('{} of {} ({:.2f}%) coordinate Tweets came from Instagram'.format(sum(s1), s1.count(), sum(s1)/s1.count()*100))\n",
    "\n",
    "s1 = df.loc[df.source == 'Instagram'].coordinates_lat.notnull()\n",
    "print('{} of {} ({:.2f}%) total Instagram-sourced Tweets include coordinates'.format(sum(s1), s1.count(), sum(s1)/s1.count()*100))\n",
    "\n",
    "s1 = df.loc[(df.source == 'Instagram') & (df.data_source < 3)].coordinates_lat.notnull()\n",
    "print('{} of {} ({:.2f}%) Instagram-sourced Tweets from keyword streams include coordinates'.format(sum(s1), s1.count(), sum(s1)/s1.count()*100))"
   ]
  },
  {
   "cell_type": "code",
   "execution_count": 101,
   "metadata": {},
   "outputs": [
    {
     "name": "stdout",
     "output_type": "stream",
     "text": [
      "Total: 94716\n"
     ]
    },
    {
     "data": {
      "text/plain": [
       "Instagram                   66.552642\n",
       "WxTweeter                    6.802441\n",
       "Foursquare                   4.854512\n",
       "TweetMyJOBS                  3.866295\n",
       "Untappd                      2.759829\n",
       "SafeTweet by TweetMyJOBS     2.446260\n",
       "WxPic                        1.637527\n",
       "TTN RDU traffic              1.354576\n",
       "TownTweet                    1.179315\n",
       "iembot                       1.093796\n",
       "Cities                       0.839351\n",
       "circlepix                    0.831961\n",
       "BubbleLife                   0.635584\n",
       "Twitter for Android          0.533173\n",
       "WxUvCast                     0.502555\n",
       "Tweetbot for iΟS             0.448710\n",
       "NotableBirds                 0.426538\n",
       "TTN CHS traffic              0.305123\n",
       "Twitter for iPhone           0.291397\n",
       "Squarespace                  0.243887\n",
       "Name: source, dtype: float64"
      ]
     },
     "execution_count": 101,
     "metadata": {},
     "output_type": "execute_result"
    }
   ],
   "source": [
    "# Top sources in geo stream:\n",
    "s1 = df.loc[df.data_source == 3].source\n",
    "print('Total:', s1.count())\n",
    "(s1.value_counts() / s1.count()*100).head(20)"
   ]
  },
  {
   "cell_type": "code",
   "execution_count": 102,
   "metadata": {},
   "outputs": [
    {
     "name": "stdout",
     "output_type": "stream",
     "text": [
      "Total: 617840\n"
     ]
    },
    {
     "data": {
      "text/plain": [
       "Twitter for iPhone           20.918199\n",
       "Twitter Web Client           20.564547\n",
       "Twitter for Android          11.944355\n",
       "IFTTT                         6.570957\n",
       "Facebook                      5.067655\n",
       "TweetDeck                     2.977470\n",
       "dlvr.it                       2.668814\n",
       "Instagram                     2.421824\n",
       "Hootsuite Inc.                1.847566\n",
       "Twitter Lite                  1.798848\n",
       "Twitter for iPad              1.750291\n",
       "WordPress.com                 1.698336\n",
       "Google                        1.328985\n",
       "Buffer                        1.297261\n",
       "Global Citizen Mobile App     0.976790\n",
       "SocialNewsDesk                0.738217\n",
       "Tweet Old Post                0.659556\n",
       "Backfire                      0.618607\n",
       "SocialOomph                   0.612294\n",
       "Hootsuite                     0.515344\n",
       "Name: source, dtype: float64"
      ]
     },
     "execution_count": 102,
     "metadata": {},
     "output_type": "execute_result"
    }
   ],
   "source": [
    "# Top sources in keyword streams:\n",
    "\n",
    "s1 = df.loc[(df.data_source < 3) & (df.data_source > 0)].source\n",
    "print('Total:', s1.count())\n",
    "(s1.value_counts() / s1.count()*100).head(20)"
   ]
  },
  {
   "cell_type": "code",
   "execution_count": 103,
   "metadata": {},
   "outputs": [
    {
     "name": "stdout",
     "output_type": "stream",
     "text": [
      "Total: 1545317\n"
     ]
    },
    {
     "data": {
      "text/plain": [
       "Twitter for iPhone        79.550086\n",
       "Twitter for Android       14.342559\n",
       "Twitter Web Client         4.305395\n",
       "Twitter for iPad           1.403596\n",
       "Tweetbot for iΟS           0.349378\n",
       "Echofon                    0.020319\n",
       "Tweetbot for Mac           0.011130\n",
       "Trendsmap Alerting         0.010677\n",
       "Twitter for  iPhone        0.002071\n",
       "SocialGest                 0.001165\n",
       "weatherarena               0.001165\n",
       "SoundHound                 0.000841\n",
       "Sprout Social              0.000841\n",
       "GivePulseEvents            0.000518\n",
       "Twidere for Android #7     0.000129\n",
       "Oktopost                   0.000065\n",
       "Slixa                      0.000065\n",
       "Name: source, dtype: float64"
      ]
     },
     "execution_count": 103,
     "metadata": {},
     "output_type": "execute_result"
    }
   ],
   "source": [
    "# Top sources in place stream:\n",
    "\n",
    "s1 = df.loc[df.data_source == 4].source\n",
    "print('Total:', s1.count())\n",
    "(s1.value_counts() / s1.count()*100).head(20)"
   ]
  },
  {
   "cell_type": "code",
   "execution_count": null,
   "metadata": {},
   "outputs": [],
   "source": []
  }
 ],
 "metadata": {
  "kernelspec": {
   "display_name": "Django Shell-Plus",
   "language": "python",
   "name": "django_extensions"
  },
  "language_info": {
   "codemirror_mode": {
    "name": "ipython",
    "version": 3
   },
   "file_extension": ".py",
   "mimetype": "text/x-python",
   "name": "python",
   "nbconvert_exporter": "python",
   "pygments_lexer": "ipython3",
   "version": "3.6.2"
  },
  "toc": {
   "base_numbering": 1,
   "nav_menu": {},
   "number_sections": true,
   "sideBar": true,
   "skip_h1_title": false,
   "title_cell": "Table of Contents",
   "title_sidebar": "Contents",
   "toc_cell": false,
   "toc_position": {},
   "toc_section_display": true,
   "toc_window_display": false
  },
  "varInspector": {
   "cols": {
    "lenName": 16,
    "lenType": 16,
    "lenVar": 40
   },
   "kernels_config": {
    "python": {
     "delete_cmd_postfix": "",
     "delete_cmd_prefix": "del ",
     "library": "var_list.py",
     "varRefreshCmd": "print(var_dic_list())"
    },
    "r": {
     "delete_cmd_postfix": ") ",
     "delete_cmd_prefix": "rm(",
     "library": "var_list.r",
     "varRefreshCmd": "cat(var_dic_list()) "
    }
   },
   "position": {
    "height": "144px",
    "left": "981px",
    "right": "20px",
    "top": "131px",
    "width": "350px"
   },
   "types_to_exclude": [
    "module",
    "function",
    "builtin_function_or_method",
    "instance",
    "_Feature"
   ],
   "window_display": false
  }
 },
 "nbformat": 4,
 "nbformat_minor": 2
}
