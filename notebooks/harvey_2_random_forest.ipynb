{
 "cells": [
  {
   "cell_type": "markdown",
   "metadata": {},
   "source": [
    "# Ensemble Methods"
   ]
  },
  {
   "cell_type": "code",
   "execution_count": 2,
   "metadata": {},
   "outputs": [],
   "source": [
    "import pandas as pd\n",
    "import numpy as np\n",
    "from sklearn.model_selection import train_test_split\n",
    "\n",
    "tweet_df = pd.read_csv('data/harvey_tweet_df.csv')"
   ]
  },
  {
   "cell_type": "markdown",
   "metadata": {},
   "source": [
    "We now have a dataframe for coded Tweets to use for classification."
   ]
  },
  {
   "cell_type": "code",
   "execution_count": 3,
   "metadata": {},
   "outputs": [
    {
     "name": "stdout",
     "output_type": "stream",
     "text": [
      "['author_id', 'created_at', 'data_source', 'tweet_id', 'has_coords', 'is_reply', 'is_quoting', 'lang_en', 'source_other', 'source_Instagram', 'source_TwitterforiPhone', 'source_TwitterWebClient', 'source_TwitterforAndroid', 'source_Paper.li', 'source_Hootsuite', 'source_TweetMyJOBS', 'source_IFTTT', 'source_Facebook', 'source_TweetDeck', 'source_TwitterforiPad', 'source_BubbleLife', 'source_TwitterLite', 'hashtag_count', 'url_count', 'mention_count', 'data_code_id', 'betweenness_centrality', 'closeness_centrality', 'user_data_source', 'default_profile', 'default_profile_image', 'degree_centrality', 'eigenvector_centrality', 'favourites_count', 'followers_count', 'friends_count', 'geo_enabled', 'has_extended_profile', 'in_degree', 'katz_centrality', 'listed_count', 'load_centrality', 'out_degree', 'ratio_detected', 'ratio_media', 'ratio_original', 'statuses_count', 'tweets_per_hour', 'undirected_eigenvector_centrality', 'user_class', 'user_id', 'verified', 'profile_has_url', 'profile_has_local_location', 'user_lang_en']\n"
     ]
    },
    {
     "data": {
      "text/html": [
       "<div>\n",
       "<style scoped>\n",
       "    .dataframe tbody tr th:only-of-type {\n",
       "        vertical-align: middle;\n",
       "    }\n",
       "\n",
       "    .dataframe tbody tr th {\n",
       "        vertical-align: top;\n",
       "    }\n",
       "\n",
       "    .dataframe thead th {\n",
       "        text-align: right;\n",
       "    }\n",
       "</style>\n",
       "<table border=\"1\" class=\"dataframe\">\n",
       "  <thead>\n",
       "    <tr style=\"text-align: right;\">\n",
       "      <th></th>\n",
       "      <th>author_id</th>\n",
       "      <th>data_source</th>\n",
       "      <th>tweet_id</th>\n",
       "      <th>has_coords</th>\n",
       "      <th>is_reply</th>\n",
       "      <th>is_quoting</th>\n",
       "      <th>lang_en</th>\n",
       "      <th>source_other</th>\n",
       "      <th>source_Instagram</th>\n",
       "      <th>source_TwitterforiPhone</th>\n",
       "      <th>...</th>\n",
       "      <th>ratio_original</th>\n",
       "      <th>statuses_count</th>\n",
       "      <th>tweets_per_hour</th>\n",
       "      <th>undirected_eigenvector_centrality</th>\n",
       "      <th>user_class</th>\n",
       "      <th>user_id</th>\n",
       "      <th>verified</th>\n",
       "      <th>profile_has_url</th>\n",
       "      <th>profile_has_local_location</th>\n",
       "      <th>user_lang_en</th>\n",
       "    </tr>\n",
       "  </thead>\n",
       "  <tbody>\n",
       "    <tr>\n",
       "      <th>count</th>\n",
       "      <td>2.180000e+03</td>\n",
       "      <td>2180.000000</td>\n",
       "      <td>2.180000e+03</td>\n",
       "      <td>2180.000000</td>\n",
       "      <td>2180.000000</td>\n",
       "      <td>2180.000000</td>\n",
       "      <td>2180.000000</td>\n",
       "      <td>2180.000000</td>\n",
       "      <td>2180.000000</td>\n",
       "      <td>2180.000000</td>\n",
       "      <td>...</td>\n",
       "      <td>2180.000000</td>\n",
       "      <td>2180.000000</td>\n",
       "      <td>2180.000000</td>\n",
       "      <td>1.303000e+03</td>\n",
       "      <td>2180.0</td>\n",
       "      <td>2.180000e+03</td>\n",
       "      <td>2180.000000</td>\n",
       "      <td>2180.000000</td>\n",
       "      <td>2180.000000</td>\n",
       "      <td>2180.000000</td>\n",
       "    </tr>\n",
       "    <tr>\n",
       "      <th>mean</th>\n",
       "      <td>1.574727e+17</td>\n",
       "      <td>1.613303</td>\n",
       "      <td>9.025200e+17</td>\n",
       "      <td>0.338991</td>\n",
       "      <td>0.090367</td>\n",
       "      <td>0.104128</td>\n",
       "      <td>0.906422</td>\n",
       "      <td>0.063303</td>\n",
       "      <td>0.268807</td>\n",
       "      <td>0.179358</td>\n",
       "      <td>...</td>\n",
       "      <td>0.764151</td>\n",
       "      <td>2822.194954</td>\n",
       "      <td>0.516793</td>\n",
       "      <td>1.644440e-03</td>\n",
       "      <td>2.0</td>\n",
       "      <td>1.574727e+17</td>\n",
       "      <td>0.021101</td>\n",
       "      <td>0.550917</td>\n",
       "      <td>0.365138</td>\n",
       "      <td>0.949541</td>\n",
       "    </tr>\n",
       "    <tr>\n",
       "      <th>std</th>\n",
       "      <td>3.263025e+17</td>\n",
       "      <td>0.955411</td>\n",
       "      <td>7.319456e+14</td>\n",
       "      <td>0.473475</td>\n",
       "      <td>0.286773</td>\n",
       "      <td>0.305497</td>\n",
       "      <td>0.291308</td>\n",
       "      <td>0.243563</td>\n",
       "      <td>0.443441</td>\n",
       "      <td>0.383740</td>\n",
       "      <td>...</td>\n",
       "      <td>0.268269</td>\n",
       "      <td>2728.923208</td>\n",
       "      <td>1.339724</td>\n",
       "      <td>7.493121e-03</td>\n",
       "      <td>0.0</td>\n",
       "      <td>3.263025e+17</td>\n",
       "      <td>0.143754</td>\n",
       "      <td>0.497515</td>\n",
       "      <td>0.481579</td>\n",
       "      <td>0.218940</td>\n",
       "    </tr>\n",
       "    <tr>\n",
       "      <th>min</th>\n",
       "      <td>7.733230e+05</td>\n",
       "      <td>0.000000</td>\n",
       "      <td>9.012430e+17</td>\n",
       "      <td>0.000000</td>\n",
       "      <td>0.000000</td>\n",
       "      <td>0.000000</td>\n",
       "      <td>0.000000</td>\n",
       "      <td>0.000000</td>\n",
       "      <td>0.000000</td>\n",
       "      <td>0.000000</td>\n",
       "      <td>...</td>\n",
       "      <td>0.000000</td>\n",
       "      <td>1.000000</td>\n",
       "      <td>0.005650</td>\n",
       "      <td>7.589479e-11</td>\n",
       "      <td>2.0</td>\n",
       "      <td>7.733230e+05</td>\n",
       "      <td>0.000000</td>\n",
       "      <td>0.000000</td>\n",
       "      <td>0.000000</td>\n",
       "      <td>0.000000</td>\n",
       "    </tr>\n",
       "    <tr>\n",
       "      <th>25%</th>\n",
       "      <td>1.535618e+08</td>\n",
       "      <td>1.000000</td>\n",
       "      <td>9.019163e+17</td>\n",
       "      <td>0.000000</td>\n",
       "      <td>0.000000</td>\n",
       "      <td>0.000000</td>\n",
       "      <td>1.000000</td>\n",
       "      <td>0.000000</td>\n",
       "      <td>0.000000</td>\n",
       "      <td>0.000000</td>\n",
       "      <td>...</td>\n",
       "      <td>0.588235</td>\n",
       "      <td>521.250000</td>\n",
       "      <td>0.050854</td>\n",
       "      <td>5.643303e-06</td>\n",
       "      <td>2.0</td>\n",
       "      <td>1.535618e+08</td>\n",
       "      <td>0.000000</td>\n",
       "      <td>0.000000</td>\n",
       "      <td>0.000000</td>\n",
       "      <td>1.000000</td>\n",
       "    </tr>\n",
       "    <tr>\n",
       "      <th>50%</th>\n",
       "      <td>9.948646e+08</td>\n",
       "      <td>1.000000</td>\n",
       "      <td>9.025794e+17</td>\n",
       "      <td>0.000000</td>\n",
       "      <td>0.000000</td>\n",
       "      <td>0.000000</td>\n",
       "      <td>1.000000</td>\n",
       "      <td>0.000000</td>\n",
       "      <td>0.000000</td>\n",
       "      <td>0.000000</td>\n",
       "      <td>...</td>\n",
       "      <td>0.857143</td>\n",
       "      <td>1924.000000</td>\n",
       "      <td>0.146912</td>\n",
       "      <td>8.703362e-05</td>\n",
       "      <td>2.0</td>\n",
       "      <td>9.948646e+08</td>\n",
       "      <td>0.000000</td>\n",
       "      <td>1.000000</td>\n",
       "      <td>0.000000</td>\n",
       "      <td>1.000000</td>\n",
       "    </tr>\n",
       "    <tr>\n",
       "      <th>75%</th>\n",
       "      <td>3.197894e+09</td>\n",
       "      <td>3.000000</td>\n",
       "      <td>9.030652e+17</td>\n",
       "      <td>1.000000</td>\n",
       "      <td>0.000000</td>\n",
       "      <td>0.000000</td>\n",
       "      <td>1.000000</td>\n",
       "      <td>0.000000</td>\n",
       "      <td>1.000000</td>\n",
       "      <td>0.000000</td>\n",
       "      <td>...</td>\n",
       "      <td>1.000000</td>\n",
       "      <td>4504.250000</td>\n",
       "      <td>0.452038</td>\n",
       "      <td>5.474847e-04</td>\n",
       "      <td>2.0</td>\n",
       "      <td>3.197894e+09</td>\n",
       "      <td>0.000000</td>\n",
       "      <td>1.000000</td>\n",
       "      <td>1.000000</td>\n",
       "      <td>1.000000</td>\n",
       "    </tr>\n",
       "    <tr>\n",
       "      <th>max</th>\n",
       "      <td>9.037655e+17</td>\n",
       "      <td>3.000000</td>\n",
       "      <td>9.039072e+17</td>\n",
       "      <td>1.000000</td>\n",
       "      <td>1.000000</td>\n",
       "      <td>1.000000</td>\n",
       "      <td>1.000000</td>\n",
       "      <td>1.000000</td>\n",
       "      <td>1.000000</td>\n",
       "      <td>1.000000</td>\n",
       "      <td>...</td>\n",
       "      <td>1.000000</td>\n",
       "      <td>9999.000000</td>\n",
       "      <td>16.623686</td>\n",
       "      <td>9.981777e-02</td>\n",
       "      <td>2.0</td>\n",
       "      <td>9.037655e+17</td>\n",
       "      <td>1.000000</td>\n",
       "      <td>1.000000</td>\n",
       "      <td>1.000000</td>\n",
       "      <td>1.000000</td>\n",
       "    </tr>\n",
       "  </tbody>\n",
       "</table>\n",
       "<p>8 rows × 54 columns</p>\n",
       "</div>"
      ],
      "text/plain": [
       "          author_id  data_source      tweet_id   has_coords     is_reply  \\\n",
       "count  2.180000e+03  2180.000000  2.180000e+03  2180.000000  2180.000000   \n",
       "mean   1.574727e+17     1.613303  9.025200e+17     0.338991     0.090367   \n",
       "std    3.263025e+17     0.955411  7.319456e+14     0.473475     0.286773   \n",
       "min    7.733230e+05     0.000000  9.012430e+17     0.000000     0.000000   \n",
       "25%    1.535618e+08     1.000000  9.019163e+17     0.000000     0.000000   \n",
       "50%    9.948646e+08     1.000000  9.025794e+17     0.000000     0.000000   \n",
       "75%    3.197894e+09     3.000000  9.030652e+17     1.000000     0.000000   \n",
       "max    9.037655e+17     3.000000  9.039072e+17     1.000000     1.000000   \n",
       "\n",
       "        is_quoting      lang_en  source_other  source_Instagram  \\\n",
       "count  2180.000000  2180.000000   2180.000000       2180.000000   \n",
       "mean      0.104128     0.906422      0.063303          0.268807   \n",
       "std       0.305497     0.291308      0.243563          0.443441   \n",
       "min       0.000000     0.000000      0.000000          0.000000   \n",
       "25%       0.000000     1.000000      0.000000          0.000000   \n",
       "50%       0.000000     1.000000      0.000000          0.000000   \n",
       "75%       0.000000     1.000000      0.000000          1.000000   \n",
       "max       1.000000     1.000000      1.000000          1.000000   \n",
       "\n",
       "       source_TwitterforiPhone  ...  ratio_original  statuses_count  \\\n",
       "count              2180.000000  ...     2180.000000     2180.000000   \n",
       "mean                  0.179358  ...        0.764151     2822.194954   \n",
       "std                   0.383740  ...        0.268269     2728.923208   \n",
       "min                   0.000000  ...        0.000000        1.000000   \n",
       "25%                   0.000000  ...        0.588235      521.250000   \n",
       "50%                   0.000000  ...        0.857143     1924.000000   \n",
       "75%                   0.000000  ...        1.000000     4504.250000   \n",
       "max                   1.000000  ...        1.000000     9999.000000   \n",
       "\n",
       "       tweets_per_hour  undirected_eigenvector_centrality  user_class  \\\n",
       "count      2180.000000                       1.303000e+03      2180.0   \n",
       "mean          0.516793                       1.644440e-03         2.0   \n",
       "std           1.339724                       7.493121e-03         0.0   \n",
       "min           0.005650                       7.589479e-11         2.0   \n",
       "25%           0.050854                       5.643303e-06         2.0   \n",
       "50%           0.146912                       8.703362e-05         2.0   \n",
       "75%           0.452038                       5.474847e-04         2.0   \n",
       "max          16.623686                       9.981777e-02         2.0   \n",
       "\n",
       "            user_id     verified  profile_has_url  profile_has_local_location  \\\n",
       "count  2.180000e+03  2180.000000      2180.000000                 2180.000000   \n",
       "mean   1.574727e+17     0.021101         0.550917                    0.365138   \n",
       "std    3.263025e+17     0.143754         0.497515                    0.481579   \n",
       "min    7.733230e+05     0.000000         0.000000                    0.000000   \n",
       "25%    1.535618e+08     0.000000         0.000000                    0.000000   \n",
       "50%    9.948646e+08     0.000000         1.000000                    0.000000   \n",
       "75%    3.197894e+09     0.000000         1.000000                    1.000000   \n",
       "max    9.037655e+17     1.000000         1.000000                    1.000000   \n",
       "\n",
       "       user_lang_en  \n",
       "count   2180.000000  \n",
       "mean       0.949541  \n",
       "std        0.218940  \n",
       "min        0.000000  \n",
       "25%        1.000000  \n",
       "50%        1.000000  \n",
       "75%        1.000000  \n",
       "max        1.000000  \n",
       "\n",
       "[8 rows x 54 columns]"
      ]
     },
     "execution_count": 3,
     "metadata": {},
     "output_type": "execute_result"
    }
   ],
   "source": [
    "# Check the column names:\n",
    "print(list(tweet_df.columns))\n",
    "\n",
    "# Describe Data\n",
    "tweet_df.describe()"
   ]
  },
  {
   "cell_type": "code",
   "execution_count": 4,
   "metadata": {},
   "outputs": [
    {
     "name": "stdout",
     "output_type": "stream",
     "text": [
      "(1744, 45) (1744,)\n",
      "(436, 45) (436,)\n"
     ]
    },
    {
     "data": {
      "text/html": [
       "<div>\n",
       "<style scoped>\n",
       "    .dataframe tbody tr th:only-of-type {\n",
       "        vertical-align: middle;\n",
       "    }\n",
       "\n",
       "    .dataframe tbody tr th {\n",
       "        vertical-align: top;\n",
       "    }\n",
       "\n",
       "    .dataframe thead th {\n",
       "        text-align: right;\n",
       "    }\n",
       "</style>\n",
       "<table border=\"1\" class=\"dataframe\">\n",
       "  <thead>\n",
       "    <tr style=\"text-align: right;\">\n",
       "      <th></th>\n",
       "      <th>data_source</th>\n",
       "      <th>has_coords</th>\n",
       "      <th>is_reply</th>\n",
       "      <th>is_quoting</th>\n",
       "      <th>lang_en</th>\n",
       "      <th>source_other</th>\n",
       "      <th>source_Instagram</th>\n",
       "      <th>source_TwitterforiPhone</th>\n",
       "      <th>source_TwitterWebClient</th>\n",
       "      <th>source_TwitterforAndroid</th>\n",
       "      <th>...</th>\n",
       "      <th>load_centrality</th>\n",
       "      <th>ratio_detected</th>\n",
       "      <th>ratio_original</th>\n",
       "      <th>statuses_count</th>\n",
       "      <th>tweets_per_hour</th>\n",
       "      <th>undirected_eigenvector_centrality</th>\n",
       "      <th>verified</th>\n",
       "      <th>user_lang_en</th>\n",
       "      <th>profile_has_url</th>\n",
       "      <th>profile_has_local_location</th>\n",
       "    </tr>\n",
       "  </thead>\n",
       "  <tbody>\n",
       "    <tr>\n",
       "      <th>0</th>\n",
       "      <td>1</td>\n",
       "      <td>0</td>\n",
       "      <td>0</td>\n",
       "      <td>0</td>\n",
       "      <td>1</td>\n",
       "      <td>0</td>\n",
       "      <td>0</td>\n",
       "      <td>1</td>\n",
       "      <td>0</td>\n",
       "      <td>0</td>\n",
       "      <td>...</td>\n",
       "      <td>0.000970</td>\n",
       "      <td>1.00000</td>\n",
       "      <td>0.80000</td>\n",
       "      <td>8930</td>\n",
       "      <td>0.028252</td>\n",
       "      <td>0.000017</td>\n",
       "      <td>0</td>\n",
       "      <td>1</td>\n",
       "      <td>0</td>\n",
       "      <td>0</td>\n",
       "    </tr>\n",
       "    <tr>\n",
       "      <th>1</th>\n",
       "      <td>3</td>\n",
       "      <td>1</td>\n",
       "      <td>0</td>\n",
       "      <td>0</td>\n",
       "      <td>1</td>\n",
       "      <td>0</td>\n",
       "      <td>1</td>\n",
       "      <td>0</td>\n",
       "      <td>0</td>\n",
       "      <td>0</td>\n",
       "      <td>...</td>\n",
       "      <td>0.000057</td>\n",
       "      <td>0.03125</td>\n",
       "      <td>0.71875</td>\n",
       "      <td>1672</td>\n",
       "      <td>0.180815</td>\n",
       "      <td>0.000184</td>\n",
       "      <td>1</td>\n",
       "      <td>1</td>\n",
       "      <td>1</td>\n",
       "      <td>0</td>\n",
       "    </tr>\n",
       "    <tr>\n",
       "      <th>2</th>\n",
       "      <td>1</td>\n",
       "      <td>0</td>\n",
       "      <td>0</td>\n",
       "      <td>0</td>\n",
       "      <td>1</td>\n",
       "      <td>0</td>\n",
       "      <td>0</td>\n",
       "      <td>0</td>\n",
       "      <td>0</td>\n",
       "      <td>0</td>\n",
       "      <td>...</td>\n",
       "      <td>NaN</td>\n",
       "      <td>0.50000</td>\n",
       "      <td>1.00000</td>\n",
       "      <td>95</td>\n",
       "      <td>0.011301</td>\n",
       "      <td>NaN</td>\n",
       "      <td>0</td>\n",
       "      <td>1</td>\n",
       "      <td>0</td>\n",
       "      <td>1</td>\n",
       "    </tr>\n",
       "    <tr>\n",
       "      <th>3</th>\n",
       "      <td>1</td>\n",
       "      <td>0</td>\n",
       "      <td>0</td>\n",
       "      <td>0</td>\n",
       "      <td>1</td>\n",
       "      <td>1</td>\n",
       "      <td>0</td>\n",
       "      <td>0</td>\n",
       "      <td>0</td>\n",
       "      <td>0</td>\n",
       "      <td>...</td>\n",
       "      <td>0.000000</td>\n",
       "      <td>0.50000</td>\n",
       "      <td>1.00000</td>\n",
       "      <td>1689</td>\n",
       "      <td>0.011301</td>\n",
       "      <td>0.000023</td>\n",
       "      <td>0</td>\n",
       "      <td>1</td>\n",
       "      <td>1</td>\n",
       "      <td>0</td>\n",
       "    </tr>\n",
       "    <tr>\n",
       "      <th>4</th>\n",
       "      <td>1</td>\n",
       "      <td>0</td>\n",
       "      <td>0</td>\n",
       "      <td>0</td>\n",
       "      <td>1</td>\n",
       "      <td>0</td>\n",
       "      <td>0</td>\n",
       "      <td>1</td>\n",
       "      <td>0</td>\n",
       "      <td>0</td>\n",
       "      <td>...</td>\n",
       "      <td>0.000059</td>\n",
       "      <td>0.50000</td>\n",
       "      <td>1.00000</td>\n",
       "      <td>731</td>\n",
       "      <td>0.011301</td>\n",
       "      <td>0.000204</td>\n",
       "      <td>0</td>\n",
       "      <td>1</td>\n",
       "      <td>1</td>\n",
       "      <td>1</td>\n",
       "    </tr>\n",
       "  </tbody>\n",
       "</table>\n",
       "<p>5 rows × 45 columns</p>\n",
       "</div>"
      ],
      "text/plain": [
       "   data_source  has_coords  is_reply  is_quoting  lang_en  source_other  \\\n",
       "0            1           0         0           0        1             0   \n",
       "1            3           1         0           0        1             0   \n",
       "2            1           0         0           0        1             0   \n",
       "3            1           0         0           0        1             1   \n",
       "4            1           0         0           0        1             0   \n",
       "\n",
       "   source_Instagram  source_TwitterforiPhone  source_TwitterWebClient  \\\n",
       "0                 0                        1                        0   \n",
       "1                 1                        0                        0   \n",
       "2                 0                        0                        0   \n",
       "3                 0                        0                        0   \n",
       "4                 0                        1                        0   \n",
       "\n",
       "   source_TwitterforAndroid  ...  load_centrality  ratio_detected  \\\n",
       "0                         0  ...         0.000970         1.00000   \n",
       "1                         0  ...         0.000057         0.03125   \n",
       "2                         0  ...              NaN         0.50000   \n",
       "3                         0  ...         0.000000         0.50000   \n",
       "4                         0  ...         0.000059         0.50000   \n",
       "\n",
       "   ratio_original  statuses_count  tweets_per_hour  \\\n",
       "0         0.80000            8930         0.028252   \n",
       "1         0.71875            1672         0.180815   \n",
       "2         1.00000              95         0.011301   \n",
       "3         1.00000            1689         0.011301   \n",
       "4         1.00000             731         0.011301   \n",
       "\n",
       "   undirected_eigenvector_centrality  verified  user_lang_en  profile_has_url  \\\n",
       "0                           0.000017         0             1                0   \n",
       "1                           0.000184         1             1                1   \n",
       "2                                NaN         0             1                0   \n",
       "3                           0.000023         0             1                1   \n",
       "4                           0.000204         0             1                1   \n",
       "\n",
       "   profile_has_local_location  \n",
       "0                           0  \n",
       "1                           0  \n",
       "2                           1  \n",
       "3                           0  \n",
       "4                           1  \n",
       "\n",
       "[5 rows x 45 columns]"
      ]
     },
     "execution_count": 4,
     "metadata": {},
     "output_type": "execute_result"
    }
   ],
   "source": [
    "# Choose features:\n",
    "xVar = tweet_df[['data_source', 'has_coords', 'is_reply', 'is_quoting', 'lang_en', \\\n",
    "                 'source_other', 'source_Instagram', 'source_TwitterforiPhone', \\\n",
    "                 'source_TwitterWebClient', 'source_TwitterforAndroid', 'source_Paper.li', \\\n",
    "                 'source_Hootsuite', 'source_TweetMyJOBS', 'source_IFTTT', 'source_Facebook', \\\n",
    "                 'source_TweetDeck', 'source_TwitterforiPad', 'source_BubbleLife', \\\n",
    "                 'source_TwitterLite', 'hashtag_count', 'url_count', 'mention_count',\n",
    "                 \n",
    "                 'betweenness_centrality', 'closeness_centrality', \n",
    "                 'user_data_source', 'default_profile', 'default_profile_image', \n",
    "                 'degree_centrality', 'eigenvector_centrality', 'favourites_count', \n",
    "                 'followers_count', 'friends_count', 'geo_enabled', 'has_extended_profile', \n",
    "                 'listed_count', 'load_centrality', \n",
    "                 'ratio_detected', 'ratio_original', \n",
    "                 'statuses_count', 'tweets_per_hour', 'undirected_eigenvector_centrality', \n",
    "                 'verified', 'user_lang_en', 'profile_has_url', \n",
    "                 'profile_has_local_location'\n",
    "                ]]\n",
    "\n",
    "# 'in_degree','out_degree' are exlcuded as they contain negative values, may be error in data collection method.\n",
    "# 'katz_centrality' is excluded as it is not calculated for this dataset.\n",
    "# 'user_class' is 2 for all values\n",
    "# 'ratio_media', was not captured for this dataset\n",
    "\n",
    "yVar = tweet_df['data_code_id']\n",
    "\n",
    "# Partition data sets:\n",
    "X_train, X_test, y_train, y_test = train_test_split(xVar, yVar, test_size=0.2)\n",
    "print (X_train.shape, y_train.shape)\n",
    "print (X_test.shape, y_test.shape)\n",
    "\n",
    "xVar.head()"
   ]
  },
  {
   "cell_type": "code",
   "execution_count": 5,
   "metadata": {},
   "outputs": [
    {
     "data": {
      "text/html": [
       "<div>\n",
       "<style scoped>\n",
       "    .dataframe tbody tr th:only-of-type {\n",
       "        vertical-align: middle;\n",
       "    }\n",
       "\n",
       "    .dataframe tbody tr th {\n",
       "        vertical-align: top;\n",
       "    }\n",
       "\n",
       "    .dataframe thead th {\n",
       "        text-align: right;\n",
       "    }\n",
       "</style>\n",
       "<table border=\"1\" class=\"dataframe\">\n",
       "  <thead>\n",
       "    <tr style=\"text-align: right;\">\n",
       "      <th></th>\n",
       "      <th>data_source</th>\n",
       "      <th>has_coords</th>\n",
       "      <th>is_reply</th>\n",
       "      <th>is_quoting</th>\n",
       "      <th>lang_en</th>\n",
       "      <th>source_other</th>\n",
       "      <th>source_Instagram</th>\n",
       "      <th>source_TwitterforiPhone</th>\n",
       "      <th>source_TwitterWebClient</th>\n",
       "      <th>source_TwitterforAndroid</th>\n",
       "      <th>source_Paper.li</th>\n",
       "      <th>source_Hootsuite</th>\n",
       "      <th>source_TweetMyJOBS</th>\n",
       "      <th>source_IFTTT</th>\n",
       "      <th>source_Facebook</th>\n",
       "      <th>source_TweetDeck</th>\n",
       "      <th>source_TwitterforiPad</th>\n",
       "      <th>source_BubbleLife</th>\n",
       "      <th>source_TwitterLite</th>\n",
       "      <th>hashtag_count</th>\n",
       "      <th>url_count</th>\n",
       "      <th>mention_count</th>\n",
       "      <th>betweenness_centrality</th>\n",
       "      <th>closeness_centrality</th>\n",
       "      <th>user_data_source</th>\n",
       "      <th>default_profile</th>\n",
       "      <th>default_profile_image</th>\n",
       "      <th>degree_centrality</th>\n",
       "      <th>eigenvector_centrality</th>\n",
       "      <th>favourites_count</th>\n",
       "      <th>followers_count</th>\n",
       "      <th>friends_count</th>\n",
       "      <th>geo_enabled</th>\n",
       "      <th>has_extended_profile</th>\n",
       "      <th>listed_count</th>\n",
       "      <th>load_centrality</th>\n",
       "      <th>ratio_detected</th>\n",
       "      <th>ratio_original</th>\n",
       "      <th>statuses_count</th>\n",
       "      <th>tweets_per_hour</th>\n",
       "      <th>undirected_eigenvector_centrality</th>\n",
       "      <th>verified</th>\n",
       "      <th>user_lang_en</th>\n",
       "      <th>profile_has_url</th>\n",
       "      <th>profile_has_local_location</th>\n",
       "    </tr>\n",
       "  </thead>\n",
       "  <tbody>\n",
       "    <tr>\n",
       "      <th>0</th>\n",
       "      <td>3.0</td>\n",
       "      <td>1.0</td>\n",
       "      <td>1.0</td>\n",
       "      <td>1.0</td>\n",
       "      <td>1.0</td>\n",
       "      <td>1.0</td>\n",
       "      <td>1.0</td>\n",
       "      <td>1.0</td>\n",
       "      <td>1.0</td>\n",
       "      <td>1.0</td>\n",
       "      <td>1.0</td>\n",
       "      <td>1.0</td>\n",
       "      <td>1.0</td>\n",
       "      <td>1.0</td>\n",
       "      <td>1.0</td>\n",
       "      <td>1.0</td>\n",
       "      <td>1.0</td>\n",
       "      <td>1.0</td>\n",
       "      <td>1.0</td>\n",
       "      <td>12.0</td>\n",
       "      <td>2.0</td>\n",
       "      <td>11.0</td>\n",
       "      <td>0.007306</td>\n",
       "      <td>0.223369</td>\n",
       "      <td>3.0</td>\n",
       "      <td>1.0</td>\n",
       "      <td>1.0</td>\n",
       "      <td>0.009476</td>\n",
       "      <td>0.128534</td>\n",
       "      <td>317855.0</td>\n",
       "      <td>4989.0</td>\n",
       "      <td>5000.0</td>\n",
       "      <td>1.0</td>\n",
       "      <td>1.0</td>\n",
       "      <td>1123.0</td>\n",
       "      <td>0.007015</td>\n",
       "      <td>1.0</td>\n",
       "      <td>1.0</td>\n",
       "      <td>9999.0</td>\n",
       "      <td>16.623686</td>\n",
       "      <td>0.099818</td>\n",
       "      <td>1.0</td>\n",
       "      <td>1.0</td>\n",
       "      <td>1.0</td>\n",
       "      <td>1.0</td>\n",
       "    </tr>\n",
       "  </tbody>\n",
       "</table>\n",
       "</div>"
      ],
      "text/plain": [
       "   data_source  has_coords  is_reply  is_quoting  lang_en  source_other  \\\n",
       "0          3.0         1.0       1.0         1.0      1.0           1.0   \n",
       "\n",
       "   source_Instagram  source_TwitterforiPhone  source_TwitterWebClient  \\\n",
       "0               1.0                      1.0                      1.0   \n",
       "\n",
       "   source_TwitterforAndroid  source_Paper.li  source_Hootsuite  \\\n",
       "0                       1.0              1.0               1.0   \n",
       "\n",
       "   source_TweetMyJOBS  source_IFTTT  source_Facebook  source_TweetDeck  \\\n",
       "0                 1.0           1.0              1.0               1.0   \n",
       "\n",
       "   source_TwitterforiPad  source_BubbleLife  source_TwitterLite  \\\n",
       "0                    1.0                1.0                 1.0   \n",
       "\n",
       "   hashtag_count  url_count  mention_count  betweenness_centrality  \\\n",
       "0           12.0        2.0           11.0                0.007306   \n",
       "\n",
       "   closeness_centrality  user_data_source  default_profile  \\\n",
       "0              0.223369               3.0              1.0   \n",
       "\n",
       "   default_profile_image  degree_centrality  eigenvector_centrality  \\\n",
       "0                    1.0           0.009476                0.128534   \n",
       "\n",
       "   favourites_count  followers_count  friends_count  geo_enabled  \\\n",
       "0          317855.0           4989.0         5000.0          1.0   \n",
       "\n",
       "   has_extended_profile  listed_count  load_centrality  ratio_detected  \\\n",
       "0                   1.0        1123.0         0.007015             1.0   \n",
       "\n",
       "   ratio_original  statuses_count  tweets_per_hour  \\\n",
       "0             1.0          9999.0        16.623686   \n",
       "\n",
       "   undirected_eigenvector_centrality  verified  user_lang_en  profile_has_url  \\\n",
       "0                           0.099818       1.0           1.0              1.0   \n",
       "\n",
       "   profile_has_local_location  \n",
       "0                         1.0  "
      ]
     },
     "execution_count": 5,
     "metadata": {},
     "output_type": "execute_result"
    }
   ],
   "source": [
    "# Checking dataframe for NaN/negative values\n",
    "pd.set_option('display.max_columns', None)\n",
    "\n",
    "# Filling centrality measures from non-principal component\n",
    "xVar = xVar.fillna(0)\n",
    "#xVar.columns[xVar.isna().any()].tolist()\n",
    "X_train, X_test, y_train, y_test = train_test_split(xVar, yVar, test_size=0.2)\n",
    "\n",
    "# Check min/max values for columns (negatives are incompatible)\n",
    "xVar.max().to_frame().T"
   ]
  },
  {
   "cell_type": "code",
   "execution_count": 6,
   "metadata": {},
   "outputs": [],
   "source": [
    "from sklearn.metrics import classification_report, confusion_matrix\n",
    "\n",
    "def benchmark_clf(clf):\n",
    "    clf.fit(X_train, y_train)\n",
    "    score = clf.score(X_test, y_test)\n",
    "    preds = clf.predict(X_test)\n",
    "    \n",
    "    print('=' * 80)\n",
    "    print(str(clf).split('(')[0]) \n",
    "    print(\"%d mislabeled points out of a total %d\" % \n",
    "          ((1-score)*y_test.shape[0], y_test.shape[0]))\n",
    "    print(\"Accuracy: %.2f%%\" % (score * 100))\n",
    "    print(classification_report(y_test, preds))\n",
    "    \n",
    "    # Precision and Recall for chosen classes:\n",
    "    calc_prec_recall([1,2], y_test, preds)\n",
    "    #Confusion Matrix:\n",
    "    print(pd.crosstab(y_test, preds, rownames=['Actual Result'], \n",
    "                      colnames=['Predicted Result'], dropna=False))\n",
    "    #print(confusion_matrix(y_test, preds))\n",
    "\n",
    "    \n",
    "# Calculate precision and recall for the chosen categories:\n",
    "def calc_prec_recall(code_group, y_test, preds):\n",
    "    correct = 0\n",
    "    total_true = 0\n",
    "    for true, pred in list(zip(y_test, preds)):\n",
    "        if true in code_group:\n",
    "            total_true += 1\n",
    "            if true == pred:\n",
    "                correct += 1\n",
    "    print('Recall for selected classes:', round(correct/total_true, 2) * 100, '%')\n",
    "    correct = 0\n",
    "    total_pred = 0\n",
    "    for true, pred in list(zip(y_test, preds)):\n",
    "        if pred in code_group:\n",
    "            total_pred += 1\n",
    "            if true == pred:\n",
    "                correct += 1\n",
    "    print('Precision for selected classes:', round(correct/total_pred, 2) * 100, '%')\n",
    "    print('Naive Precision:', round(total_true/y_test.shape[0], 2) * 100, '%\\n')\n",
    "    return"
   ]
  },
  {
   "cell_type": "markdown",
   "metadata": {},
   "source": [
    "## Random Forest"
   ]
  },
  {
   "cell_type": "markdown",
   "metadata": {},
   "source": [
    "Training a random forest model:\n",
    "\n",
    "Notes: high max_depth can lead to overfitting."
   ]
  },
  {
   "cell_type": "code",
   "execution_count": 7,
   "metadata": {},
   "outputs": [
    {
     "data": {
      "text/plain": [
       "RandomForestClassifier(bootstrap=True, class_weight=None, criterion='gini',\n",
       "                       max_depth=None, max_features='auto', max_leaf_nodes=None,\n",
       "                       min_impurity_decrease=0.0, min_impurity_split=None,\n",
       "                       min_samples_leaf=1, min_samples_split=2,\n",
       "                       min_weight_fraction_leaf=0.0, n_estimators=100, n_jobs=2,\n",
       "                       oob_score=False, random_state=0, verbose=0,\n",
       "                       warm_start=False)"
      ]
     },
     "execution_count": 7,
     "metadata": {},
     "output_type": "execute_result"
    }
   ],
   "source": [
    "from sklearn.ensemble import RandomForestClassifier\n",
    "\n",
    "clf = RandomForestClassifier(n_jobs=2, random_state=0, n_estimators=100)\n",
    "clf.fit(X_train, y_train)\n",
    "\n",
    "clf"
   ]
  },
  {
   "cell_type": "markdown",
   "metadata": {},
   "source": [
    "Test model against test data and view results in confusion matrix:"
   ]
  },
  {
   "cell_type": "code",
   "execution_count": 8,
   "metadata": {},
   "outputs": [],
   "source": [
    "pred = clf.predict(X_test)"
   ]
  },
  {
   "cell_type": "code",
   "execution_count": 9,
   "metadata": {},
   "outputs": [
    {
     "name": "stdout",
     "output_type": "stream",
     "text": [
      "1: Aid Request: 34\n",
      "2: Ground Truth: 313\n",
      "3: Info for Affected: 114\n",
      "4: Info for Non-Affected: 531\n",
      "5: Emotion - Affected: 165\n",
      "6: Emotion - Unaffected: 594\n",
      "7: Unrelated: 429\n"
     ]
    },
    {
     "data": {
      "text/html": [
       "<div>\n",
       "<style scoped>\n",
       "    .dataframe tbody tr th:only-of-type {\n",
       "        vertical-align: middle;\n",
       "    }\n",
       "\n",
       "    .dataframe tbody tr th {\n",
       "        vertical-align: top;\n",
       "    }\n",
       "\n",
       "    .dataframe thead th {\n",
       "        text-align: right;\n",
       "    }\n",
       "</style>\n",
       "<table border=\"1\" class=\"dataframe\">\n",
       "  <thead>\n",
       "    <tr style=\"text-align: right;\">\n",
       "      <th>Predicted Result</th>\n",
       "      <th>1</th>\n",
       "      <th>2</th>\n",
       "      <th>3</th>\n",
       "      <th>4</th>\n",
       "      <th>5</th>\n",
       "      <th>6</th>\n",
       "      <th>7</th>\n",
       "    </tr>\n",
       "    <tr>\n",
       "      <th>Actual Result</th>\n",
       "      <th></th>\n",
       "      <th></th>\n",
       "      <th></th>\n",
       "      <th></th>\n",
       "      <th></th>\n",
       "      <th></th>\n",
       "      <th></th>\n",
       "    </tr>\n",
       "  </thead>\n",
       "  <tbody>\n",
       "    <tr>\n",
       "      <th>1</th>\n",
       "      <td>0</td>\n",
       "      <td>0</td>\n",
       "      <td>0</td>\n",
       "      <td>1</td>\n",
       "      <td>0</td>\n",
       "      <td>3</td>\n",
       "      <td>2</td>\n",
       "    </tr>\n",
       "    <tr>\n",
       "      <th>2</th>\n",
       "      <td>0</td>\n",
       "      <td>17</td>\n",
       "      <td>0</td>\n",
       "      <td>11</td>\n",
       "      <td>0</td>\n",
       "      <td>13</td>\n",
       "      <td>15</td>\n",
       "    </tr>\n",
       "    <tr>\n",
       "      <th>3</th>\n",
       "      <td>0</td>\n",
       "      <td>2</td>\n",
       "      <td>0</td>\n",
       "      <td>11</td>\n",
       "      <td>2</td>\n",
       "      <td>8</td>\n",
       "      <td>1</td>\n",
       "    </tr>\n",
       "    <tr>\n",
       "      <th>4</th>\n",
       "      <td>0</td>\n",
       "      <td>4</td>\n",
       "      <td>0</td>\n",
       "      <td>68</td>\n",
       "      <td>0</td>\n",
       "      <td>29</td>\n",
       "      <td>3</td>\n",
       "    </tr>\n",
       "    <tr>\n",
       "      <th>5</th>\n",
       "      <td>1</td>\n",
       "      <td>10</td>\n",
       "      <td>0</td>\n",
       "      <td>4</td>\n",
       "      <td>1</td>\n",
       "      <td>14</td>\n",
       "      <td>7</td>\n",
       "    </tr>\n",
       "    <tr>\n",
       "      <th>6</th>\n",
       "      <td>0</td>\n",
       "      <td>7</td>\n",
       "      <td>1</td>\n",
       "      <td>15</td>\n",
       "      <td>1</td>\n",
       "      <td>90</td>\n",
       "      <td>4</td>\n",
       "    </tr>\n",
       "    <tr>\n",
       "      <th>7</th>\n",
       "      <td>0</td>\n",
       "      <td>6</td>\n",
       "      <td>1</td>\n",
       "      <td>6</td>\n",
       "      <td>1</td>\n",
       "      <td>9</td>\n",
       "      <td>68</td>\n",
       "    </tr>\n",
       "  </tbody>\n",
       "</table>\n",
       "</div>"
      ],
      "text/plain": [
       "Predicted Result  1   2  3   4  5   6   7\n",
       "Actual Result                            \n",
       "1                 0   0  0   1  0   3   2\n",
       "2                 0  17  0  11  0  13  15\n",
       "3                 0   2  0  11  2   8   1\n",
       "4                 0   4  0  68  0  29   3\n",
       "5                 1  10  0   4  1  14   7\n",
       "6                 0   7  1  15  1  90   4\n",
       "7                 0   6  1   6  1   9  68"
      ]
     },
     "execution_count": 9,
     "metadata": {},
     "output_type": "execute_result"
    }
   ],
   "source": [
    "# Print legend for result codes with totals:\n",
    "test_counts = yVar.value_counts()\n",
    "for i in range(1,len(test_counts)+1):\n",
    "    print('{}: {}: {}'.format(i, DataCode.objects.get(data_code_id=i).name, test_counts[i]))\n",
    "\n",
    "#Confusion Matrix:\n",
    "pd.crosstab(y_test, pred, rownames=['Actual Result'], colnames=['Predicted Result'])"
   ]
  },
  {
   "cell_type": "code",
   "execution_count": 37,
   "metadata": {},
   "outputs": [
    {
     "name": "stdout",
     "output_type": "stream",
     "text": [
      "Accuracy on Test Data: 55.28 %.\n",
      "Accuracy on Training Data: 99.03 %.\n"
     ]
    }
   ],
   "source": [
    "error_vector = pred - y_test # Magnitude is not relevant as codes are categorical, not ordinal\n",
    "errors = sum(1 for x in error_vector if x != 0)\n",
    "print('Accuracy on Test Data:', round((1 - errors/len(pred)) * 100, 2), '%.')\n",
    "\n",
    "pred_train = clf.predict(X_train)\n",
    "error_vector_train = pred_train - y_train\n",
    "errors_train = sum(1 for x in error_vector_train if x != 0)\n",
    "print('Accuracy on Training Data:', round((1 - errors_train/len(pred_train)) * 100, 2), '%.')"
   ]
  },
  {
   "cell_type": "markdown",
   "metadata": {},
   "source": [
    "We can check the importance of each feature as per the model and use these values to inform the choice of features in future iterations."
   ]
  },
  {
   "cell_type": "code",
   "execution_count": 38,
   "metadata": {},
   "outputs": [
    {
     "data": {
      "text/plain": [
       "[('source_Hootsuite', 0.0),\n",
       " ('source_IFTTT', 0.0),\n",
       " ('source_Facebook', 0.0),\n",
       " ('source_TweetDeck', 0.0),\n",
       " ('source_TwitterforiPad', 0.0),\n",
       " ('source_BubbleLife', 0.0),\n",
       " ('source_TwitterLite', 0.0),\n",
       " ('default_profile_image', 0.0),\n",
       " ('verified', 0.0),\n",
       " ('user_lang_en', 0.0),\n",
       " ('is_reply', 0.01),\n",
       " ('is_quoting', 0.01),\n",
       " ('lang_en', 0.01),\n",
       " ('source_other', 0.01),\n",
       " ('source_TwitterforiPhone', 0.01),\n",
       " ('source_TwitterWebClient', 0.01),\n",
       " ('source_TwitterforAndroid', 0.01),\n",
       " ('default_profile', 0.01),\n",
       " ('geo_enabled', 0.01),\n",
       " ('has_extended_profile', 0.01),\n",
       " ('profile_has_url', 0.01),\n",
       " ('data_source', 0.02),\n",
       " ('source_Instagram', 0.02),\n",
       " ('source_TweetMyJOBS', 0.02),\n",
       " ('mention_count', 0.02),\n",
       " ('betweenness_centrality', 0.02),\n",
       " ('user_data_source', 0.02),\n",
       " ('eigenvector_centrality', 0.02),\n",
       " ('load_centrality', 0.02),\n",
       " ('profile_has_local_location', 0.02),\n",
       " ('has_coords', 0.03),\n",
       " ('source_Paper.li', 0.03),\n",
       " ('closeness_centrality', 0.03),\n",
       " ('degree_centrality', 0.03),\n",
       " ('hashtag_count', 0.04),\n",
       " ('undirected_eigenvector_centrality', 0.04),\n",
       " ('friends_count', 0.05),\n",
       " ('listed_count', 0.05),\n",
       " ('url_count', 0.06),\n",
       " ('favourites_count', 0.06),\n",
       " ('followers_count', 0.06),\n",
       " ('ratio_detected', 0.06),\n",
       " ('ratio_original', 0.06),\n",
       " ('statuses_count', 0.06),\n",
       " ('tweets_per_hour', 0.06)]"
      ]
     },
     "execution_count": 38,
     "metadata": {},
     "output_type": "execute_result"
    }
   ],
   "source": [
    "sorted(list(zip(X_train, clf.feature_importances_.round(decimals=2))), key=lambda x: x[1])"
   ]
  },
  {
   "cell_type": "markdown",
   "metadata": {},
   "source": [
    "[From tweet only data:] The relatively high weights for homogenous sources makes sense. For example, all content from 'Paper.li' is classed as spam, therefore it is a more significant feature than more heterogeneous sources.\n",
    "\n",
    "The most important features are the entity (hashtag, mention, url) counts."
   ]
  },
  {
   "cell_type": "code",
   "execution_count": 39,
   "metadata": {},
   "outputs": [
    {
     "data": {
      "text/plain": [
       "source_other                 5.963303\n",
       "source_Instagram            24.770642\n",
       "source_TwitterforiPhone     21.559633\n",
       "source_TwitterWebClient     17.660550\n",
       "source_TwitterforAndroid     9.174312\n",
       "source_Paper.li              3.899083\n",
       "source_Hootsuite             1.605505\n",
       "source_TweetMyJOBS           6.192661\n",
       "source_IFTTT                 1.376147\n",
       "source_Facebook              1.376147\n",
       "source_TweetDeck             1.605505\n",
       "source_TwitterforiPad        1.376147\n",
       "source_BubbleLife            2.752294\n",
       "source_TwitterLite           0.688073\n",
       "dtype: float64"
      ]
     },
     "execution_count": 39,
     "metadata": {},
     "output_type": "execute_result"
    }
   ],
   "source": [
    "#Check proportions by source in test data:\n",
    "source_cols = [col for col in tweet_df.columns if 'source_' in col]\n",
    "X_test[source_cols].sum()/X_test.shape[0]*100"
   ]
  },
  {
   "cell_type": "markdown",
   "metadata": {},
   "source": [
    "Some classes are more important than others. As we are more interested in identifying messages from a subset of classes, we can check the precision (accuracy) and recall of these sets."
   ]
  },
  {
   "cell_type": "code",
   "execution_count": 40,
   "metadata": {},
   "outputs": [
    {
     "name": "stdout",
     "output_type": "stream",
     "text": [
      "Recall for selected classes: 27.0 %\n",
      "Precision for selected classes: 28.000000000000004 %\n",
      "Naive Precision: 13.0 %\n",
      "\n"
     ]
    }
   ],
   "source": [
    "# Choosing classes:\n",
    "# 1: Aid Request: 34\n",
    "# 2: Ground Truth: 313\n",
    "calc_prec_recall([1,2], y_test, pred)"
   ]
  },
  {
   "cell_type": "markdown",
   "metadata": {},
   "source": [
    "As the aim of the project is to classify as relevant/not relevant, we can try to reduce the number of output dimensions from the current 7 to a binary value and retrain our model.\n",
    "\n",
    "We can consider the case where classes 1 (aid request) and 2 (ground truth) are 'relevant' and where classes 1, 2 and 5 (Emotion - Affected) are 'relevant'. "
   ]
  },
  {
   "cell_type": "code",
   "execution_count": 28,
   "metadata": {},
   "outputs": [
    {
     "name": "stdout",
     "output_type": "stream",
     "text": [
      "Random Forest combining classes 1 & 2:\n",
      "Accuracy: 0.8577981651376146\n",
      "Recall for selected classes: 10.0 %\n",
      "Precision for selected classes: 50.0 %\n",
      "Naive Precision: 14.000000000000002 %\n",
      "\n",
      "Random Forest combining classes 1 & 2 (balanced):\n",
      "Accuracy: 0.8509174311926605\n",
      "Recall for selected classes: 8.0 %\n",
      "Precision for selected classes: 38.0 %\n",
      "Naive Precision: 14.000000000000002 %\n",
      "\n"
     ]
    },
    {
     "data": {
      "text/html": [
       "<div>\n",
       "<style scoped>\n",
       "    .dataframe tbody tr th:only-of-type {\n",
       "        vertical-align: middle;\n",
       "    }\n",
       "\n",
       "    .dataframe tbody tr th {\n",
       "        vertical-align: top;\n",
       "    }\n",
       "\n",
       "    .dataframe thead th {\n",
       "        text-align: right;\n",
       "    }\n",
       "</style>\n",
       "<table border=\"1\" class=\"dataframe\">\n",
       "  <thead>\n",
       "    <tr style=\"text-align: right;\">\n",
       "      <th>Predicted Result</th>\n",
       "      <th>0</th>\n",
       "      <th>1</th>\n",
       "    </tr>\n",
       "    <tr>\n",
       "      <th>Actual Result</th>\n",
       "      <th></th>\n",
       "      <th></th>\n",
       "    </tr>\n",
       "  </thead>\n",
       "  <tbody>\n",
       "    <tr>\n",
       "      <th>0</th>\n",
       "      <td>366</td>\n",
       "      <td>8</td>\n",
       "    </tr>\n",
       "    <tr>\n",
       "      <th>1</th>\n",
       "      <td>57</td>\n",
       "      <td>5</td>\n",
       "    </tr>\n",
       "  </tbody>\n",
       "</table>\n",
       "</div>"
      ],
      "text/plain": [
       "Predicted Result    0  1\n",
       "Actual Result           \n",
       "0                 366  8\n",
       "1                  57  5"
      ]
     },
     "execution_count": 28,
     "metadata": {},
     "output_type": "execute_result"
    }
   ],
   "source": [
    "print('Random Forest combining classes 1 & 2:')\n",
    "d = {1:1, 2:1, 3:0, 4:0, 5:0, 6:0, 7:0}\n",
    "y_train_merged = y_train.replace(d)\n",
    "y_test_merged = y_test.replace(d)\n",
    "clf = RandomForestClassifier(n_jobs=-1, random_state=0, n_estimators=1000, max_features=0.4)\n",
    "clf.fit(X_train, y_train_merged)\n",
    "pred = clf.predict(X_test)\n",
    "print('Accuracy: {}'.format(clf.score(X_test, y_test_merged)))\n",
    "calc_prec_recall([1], y_test_merged, pred)\n",
    "\n",
    "print('Random Forest combining classes 1 & 2 (balanced):')\n",
    "clf = RandomForestClassifier(n_jobs=-1, random_state=0, max_features=0.4,\n",
    "                             n_estimators=1000, class_weight='balanced')\n",
    "clf.fit(X_train, y_train_merged)\n",
    "pred = clf.predict(X_test)\n",
    "print('Accuracy: {}'.format(clf.score(X_test, y_test_merged)))\n",
    "calc_prec_recall([1], y_test_merged, pred)\n",
    "\n",
    "\n",
    "#Confusion Matrix:\n",
    "pd.crosstab(y_test_merged, pred, rownames=['Actual Result'], colnames=['Predicted Result'])"
   ]
  },
  {
   "cell_type": "markdown",
   "metadata": {},
   "source": [
    "### Parameter Tuning\n",
    "\n",
    "We will use AUC (Area Under Curve) as the evaluation metric. Our target value is now binary so it’s a binary classification problem. AUC is a good way for evaluation for this type of problems.\n",
    "\n",
    "The AUC is calculated for the default model, then we iterate through a range of values and plot the curves to find the optimal value."
   ]
  },
  {
   "cell_type": "code",
   "execution_count": 42,
   "metadata": {},
   "outputs": [
    {
     "data": {
      "text/plain": [
       "0.5238721804511278"
      ]
     },
     "execution_count": 42,
     "metadata": {},
     "output_type": "execute_result"
    }
   ],
   "source": [
    "from sklearn.metrics import roc_curve, auc, roc_auc_score\n",
    "\n",
    "#false_positive_rate, true_positive_rate, thresholds = roc_curve(y_test_merged, pred)\n",
    "#roc_auc = auc(false_positive_rate, true_positive_rate)\n",
    "roc_auc = roc_auc_score(y_test_merged, pred)\n",
    "\n",
    "roc_auc"
   ]
  },
  {
   "cell_type": "code",
   "execution_count": 43,
   "metadata": {
    "scrolled": false
   },
   "outputs": [
    {
     "data": {
      "image/png": "[encoded data removed]",
      "text/plain": [
       "<Figure size 432x288 with 1 Axes>"
      ]
     },
     "metadata": {
      "needs_background": "light"
     },
     "output_type": "display_data"
    }
   ],
   "source": [
    "import matplotlib.pyplot as plt\n",
    "from matplotlib.legend_handler import HandlerLine2D\n",
    "    \n",
    "def compare_forests(rfs, category, X_train, y_train, X_test, y_test, x_intervals):\n",
    "    train_results = []\n",
    "    test_results = []\n",
    "    for rf in rfs:\n",
    "        rf.fit(X_train, y_train)\n",
    "        train_pred = rf.predict(X_train)\n",
    "        false_positive_rate, true_positive_rate, thresholds = roc_curve(y_train, train_pred)\n",
    "        roc_auc = auc(false_positive_rate, true_positive_rate)\n",
    "        train_results.append(roc_auc)\n",
    "        y_pred = rf.predict(X_test)\n",
    "        #false_positive_rate, true_positive_rate, thresholds = roc_curve(y_test, y_pred)\n",
    "        #roc_auc = auc(false_positive_rate, true_positive_rate)\n",
    "        roc_auc = roc_auc_score(y_test_merged, y_pred)\n",
    "        test_results.append(roc_auc)\n",
    "    line1, = plt.plot(x_intervals, train_results, 'b', label='Train AUC')\n",
    "    line2, = plt.plot(x_intervals, test_results, 'r', label='Test AUC')\n",
    "    plt.legend(handler_map={line1: HandlerLine2D(numpoints=2)})\n",
    "    plt.ylabel('AUC score')\n",
    "    plt.xlabel(category)\n",
    "    plt.show()\n",
    "    \n",
    "\n",
    "testing_vals = [1, 2, 4, 8, 16, 18, 20, 25, 28, 30, 32, 34, 64, 100, 200, 500]\n",
    "rfs = [RandomForestClassifier(n_estimators=x, n_jobs=-1) for x in testing_vals]\n",
    "compare_forests(rfs, 'n_estimators', X_train, y_train_merged, X_test, y_test_merged, testing_vals)"
   ]
  },
  {
   "cell_type": "markdown",
   "metadata": {},
   "source": [
    "The best values appear to be between 20-30.\n",
    "\n",
    "We can do the same for max_depth, which determines the number of splits in the tree."
   ]
  },
  {
   "cell_type": "code",
   "execution_count": 44,
   "metadata": {},
   "outputs": [
    {
     "data": {
      "image/png": "[encoded data removed]",
      "text/plain": [
       "<Figure size 432x288 with 1 Axes>"
      ]
     },
     "metadata": {
      "needs_background": "light"
     },
     "output_type": "display_data"
    }
   ],
   "source": [
    "testing_vals = np.linspace(1, 64, 64, endpoint=True)\n",
    "rfs = [RandomForestClassifier(n_estimators=100, max_depth=x, n_jobs=-1) for x in testing_vals]\n",
    "compare_forests(rfs, 'max_depth', X_train, y_train_merged, X_test, y_test_merged, testing_vals)"
   ]
  },
  {
   "cell_type": "code",
   "execution_count": 45,
   "metadata": {},
   "outputs": [
    {
     "data": {
      "image/png": "[encoded data removed]",
      "text/plain": [
       "<Figure size 432x288 with 1 Axes>"
      ]
     },
     "metadata": {
      "needs_background": "light"
     },
     "output_type": "display_data"
    }
   ],
   "source": [
    "testing_vals = np.linspace(0.1, 1.0, 10, endpoint=True)\n",
    "\n",
    "rfs = [RandomForestClassifier(n_estimators=100, min_samples_split=x, n_jobs=-1) for x in testing_vals]\n",
    "compare_forests(rfs, 'min_samples_split', X_train, y_train_merged, X_test, y_test_merged, testing_vals)"
   ]
  },
  {
   "cell_type": "code",
   "execution_count": 46,
   "metadata": {},
   "outputs": [
    {
     "data": {
      "image/png": "[encoded data removed]",
      "text/plain": [
       "<Figure size 432x288 with 1 Axes>"
      ]
     },
     "metadata": {
      "needs_background": "light"
     },
     "output_type": "display_data"
    }
   ],
   "source": [
    "testing_vals = np.linspace(0.1, 0.5, 5, endpoint=True)\n",
    "\n",
    "rfs = [RandomForestClassifier(n_estimators=100, min_samples_leaf=x, n_jobs=-1) for x in testing_vals]\n",
    "compare_forests(rfs, 'min_samples_leafs', X_train, y_train_merged, X_test, y_test_merged, testing_vals)"
   ]
  },
  {
   "cell_type": "code",
   "execution_count": 47,
   "metadata": {},
   "outputs": [
    {
     "data": {
      "image/png": "[encoded data removed]",
      "text/plain": [
       "<Figure size 432x288 with 1 Axes>"
      ]
     },
     "metadata": {
      "needs_background": "light"
     },
     "output_type": "display_data"
    }
   ],
   "source": [
    "testing_vals = np.linspace(0.1, 0.5, 5, endpoint=True)\n",
    "\n",
    "rfs = [RandomForestClassifier(n_estimators=100, min_samples_split=x, n_jobs=-1) for x in testing_vals]\n",
    "compare_forests(rfs, 'min_samples_split', X_train, y_train_merged, X_test, y_test_merged, testing_vals)"
   ]
  },
  {
   "cell_type": "code",
   "execution_count": 48,
   "metadata": {},
   "outputs": [
    {
     "data": {
      "image/png": "[encoded data removed]",
      "text/plain": [
       "<Figure size 432x288 with 1 Axes>"
      ]
     },
     "metadata": {
      "needs_background": "light"
     },
     "output_type": "display_data"
    }
   ],
   "source": [
    "testing_vals = np.linspace(0.1, 1.0, 10, endpoint=True)\n",
    "\n",
    "rfs = [RandomForestClassifier(n_estimators=100, max_features=x, n_jobs=-1) for x in testing_vals]\n",
    "compare_forests(rfs, 'max_features', X_train, y_train_merged, X_test, y_test_merged, testing_vals)"
   ]
  },
  {
   "cell_type": "code",
   "execution_count": 49,
   "metadata": {},
   "outputs": [
    {
     "name": "stdout",
     "output_type": "stream",
     "text": [
      "True: 0.5225563909774436\n",
      "False: 0.5301691729323308\n"
     ]
    }
   ],
   "source": [
    "# Comparing use of bootstrapping:\n",
    "for x in [True, False]:\n",
    "    rf = RandomForestClassifier(n_estimators=100, n_jobs=-1, bootstrap=x)\n",
    "    rf.fit(X_train, y_train_merged)\n",
    "    y_pred = rf.predict(X_test)\n",
    "    false_positive_rate, true_positive_rate, thresholds = roc_curve(y_test_merged, y_pred)\n",
    "    roc_auc = auc(false_positive_rate, true_positive_rate)\n",
    "    print('{}: {}'.format(x, roc_auc))"
   ]
  },
  {
   "cell_type": "markdown",
   "metadata": {},
   "source": [
    "#### Randomised Search Cross Validation\n",
    "Instead of looking at curves, we can randomly search through a set of combinations of values."
   ]
  },
  {
   "cell_type": "code",
   "execution_count": 50,
   "metadata": {},
   "outputs": [
    {
     "name": "stdout",
     "output_type": "stream",
     "text": [
      "{'bootstrap': [True, False],\n",
      " 'class_weight': ['balanced'],\n",
      " 'criterion': ['gini', 'entropy'],\n",
      " 'max_depth': [10, 20, 30, 40, 50, 60, 70, 80, 90, 100, 110, None],\n",
      " 'max_features': ['auto', 'sqrt'],\n",
      " 'min_samples_leaf': [1, 2, 4],\n",
      " 'min_samples_split': [2, 5, 10],\n",
      " 'n_estimators': [10, 231, 452, 673, 894, 1115, 1336, 1557, 1778, 2000]}\n"
     ]
    }
   ],
   "source": [
    "from sklearn.model_selection import RandomizedSearchCV\n",
    "from pprint import pprint\n",
    "\n",
    "# Number of trees in random forest\n",
    "n_estimators = [int(x) for x in np.linspace(start = 10, stop = 2000, num = 10)]\n",
    "# Number of features to consider at every split\n",
    "max_features = ['auto', 'sqrt']\n",
    "# Maximum number of levels in tree\n",
    "max_depth = [int(x) for x in np.linspace(10, 110, num = 11)]\n",
    "max_depth.append(None)\n",
    "# Minimum number of samples required to split a node\n",
    "min_samples_split = [2, 5, 10]\n",
    "# Minimum number of samples required at each leaf node\n",
    "min_samples_leaf = [1, 2, 4]\n",
    "# Method of selecting samples for training each tree\n",
    "bootstrap = [True, False]\n",
    "# The function to measure the quality of a split.\n",
    "criterion = ['gini', 'entropy']\n",
    "# Create the random grid\n",
    "random_grid = {'class_weight': ['balanced'],\n",
    "               'n_estimators': n_estimators,\n",
    "               'max_features': max_features,\n",
    "               'max_depth': max_depth,\n",
    "               'min_samples_split': min_samples_split,\n",
    "               'min_samples_leaf': min_samples_leaf,\n",
    "               'bootstrap': bootstrap,\n",
    "               'criterion': criterion}\n",
    "pprint(random_grid)"
   ]
  },
  {
   "cell_type": "code",
   "execution_count": 51,
   "metadata": {},
   "outputs": [
    {
     "name": "stdout",
     "output_type": "stream",
     "text": [
      "Fitting 5 folds for each of 100 candidates, totalling 500 fits\n"
     ]
    },
    {
     "name": "stderr",
     "output_type": "stream",
     "text": [
      "[Parallel(n_jobs=-1)]: Using backend LokyBackend with 4 concurrent workers.\n",
      "[Parallel(n_jobs=-1)]: Done  33 tasks      | elapsed:   25.6s\n",
      "[Parallel(n_jobs=-1)]: Done 154 tasks      | elapsed:  2.8min\n",
      "[Parallel(n_jobs=-1)]: Done 357 tasks      | elapsed:  6.1min\n",
      "[Parallel(n_jobs=-1)]: Done 500 out of 500 | elapsed:  8.3min finished\n"
     ]
    },
    {
     "data": {
      "text/plain": [
       "{'n_estimators': 1778,\n",
       " 'min_samples_split': 2,\n",
       " 'min_samples_leaf': 1,\n",
       " 'max_features': 'auto',\n",
       " 'max_depth': 50,\n",
       " 'criterion': 'entropy',\n",
       " 'class_weight': 'balanced',\n",
       " 'bootstrap': True}"
      ]
     },
     "execution_count": 51,
     "metadata": {},
     "output_type": "execute_result"
    }
   ],
   "source": [
    "# Random search of parameters, using 3 fold cross validation, \n",
    "# search across 100 different combinations, and use all available cores\n",
    "\n",
    "rf = RandomForestClassifier()\n",
    "\n",
    "rf_random = RandomizedSearchCV(estimator = rf, param_distributions = random_grid, \n",
    "                               n_iter = 100, cv = 5, verbose=2, random_state=42, n_jobs = -1)\n",
    "# Fit the random search model\n",
    "rf_random.fit(X_train, y_train_merged)\n",
    "\n",
    "rf_random.best_params_"
   ]
  },
  {
   "cell_type": "code",
   "execution_count": 52,
   "metadata": {},
   "outputs": [
    {
     "name": "stdout",
     "output_type": "stream",
     "text": [
      "0.8692660550458715\n",
      "0.5595864661654135\n",
      "0.8577981651376146\n",
      "0.5149436090225564\n",
      "Improvement of -7.98%.\n"
     ]
    }
   ],
   "source": [
    "def compare_models(clf1, clf2):\n",
    "    accuracy = clf1.score(X_test, y_test_merged)\n",
    "    print(accuracy)\n",
    "    y_pred = clf1.predict(X_test)\n",
    "    clf1_roc_auc = roc_auc_score(y_test_merged, y_pred)\n",
    "    print(clf1_roc_auc)\n",
    "\n",
    "    accuracy = clf2.score(X_test, y_test_merged)\n",
    "    print(accuracy)\n",
    "    y_pred = clf2.predict(X_test)\n",
    "    clf2_roc_auc = roc_auc_score(y_test_merged, y_pred)\n",
    "    print(clf2_roc_auc)\n",
    "\n",
    "    print('Improvement of {:0.2f}%.'.format( 100 * \\\n",
    "                                            (clf2_roc_auc - clf1_roc_auc) / clf1_roc_auc))\n",
    "    \n",
    "    \n",
    "base_model = RandomForestClassifier(n_estimators = 10, random_state = 42, \n",
    "                                    class_weight='balanced')\n",
    "base_model.fit(X_train, y_train_merged)\n",
    "best_random = rf_random.best_estimator_\n",
    "compare_models(base_model, best_random)"
   ]
  },
  {
   "cell_type": "code",
   "execution_count": 53,
   "metadata": {},
   "outputs": [
    {
     "name": "stdout",
     "output_type": "stream",
     "text": [
      "Fitting 3 folds for each of 288 candidates, totalling 864 fits\n"
     ]
    },
    {
     "name": "stderr",
     "output_type": "stream",
     "text": [
      "[Parallel(n_jobs=-1)]: Using backend LokyBackend with 4 concurrent workers.\n",
      "[Parallel(n_jobs=-1)]: Done  33 tasks      | elapsed:   10.9s\n",
      "[Parallel(n_jobs=-1)]: Done 154 tasks      | elapsed:  1.2min\n",
      "[Parallel(n_jobs=-1)]: Done 357 tasks      | elapsed:  2.8min\n",
      "[Parallel(n_jobs=-1)]: Done 640 tasks      | elapsed:  5.4min\n",
      "[Parallel(n_jobs=-1)]: Done 864 out of 864 | elapsed:  7.3min finished\n"
     ]
    },
    {
     "name": "stdout",
     "output_type": "stream",
     "text": [
      "{'bootstrap': True, 'class_weight': 'balanced', 'criterion': 'gini', 'max_depth': 90, 'max_features': 0.1, 'min_samples_leaf': 1, 'min_samples_split': 2, 'n_estimators': 500}\n",
      "0.8692660550458715\n",
      "0.5595864661654135\n",
      "0.8623853211009175\n",
      "0.5175751879699249\n",
      "Improvement of -7.51%.\n"
     ]
    }
   ],
   "source": [
    "from sklearn.model_selection import GridSearchCV\n",
    "\n",
    "param_grid = {\n",
    "    'class_weight': ['balanced'],\n",
    "    'bootstrap': [True],\n",
    "    'max_depth': [70, 80, 90, 100],\n",
    "    'max_features': [0.1, 0.2, 0.3, 0.4],\n",
    "    'min_samples_leaf': [1, 2, 3],\n",
    "    'min_samples_split': [2, 3, 5],\n",
    "    'n_estimators': [500, 1000],\n",
    "    'criterion': ['gini']\n",
    "}\n",
    "\n",
    "rf = RandomForestClassifier()\n",
    "\n",
    "grid_search = GridSearchCV(estimator = rf, param_grid = param_grid, \n",
    "                          cv = 3, n_jobs = -1, verbose = 2)\n",
    "\n",
    "grid_search.fit(X_train, y_train_merged)\n",
    "print(grid_search.best_params_)\n",
    "best_grid = grid_search.best_estimator_\n",
    "compare_models(base_model, best_grid)\n"
   ]
  },
  {
   "cell_type": "code",
   "execution_count": 54,
   "metadata": {},
   "outputs": [
    {
     "data": {
      "text/html": [
       "<div>\n",
       "<style scoped>\n",
       "    .dataframe tbody tr th:only-of-type {\n",
       "        vertical-align: middle;\n",
       "    }\n",
       "\n",
       "    .dataframe tbody tr th {\n",
       "        vertical-align: top;\n",
       "    }\n",
       "\n",
       "    .dataframe thead th {\n",
       "        text-align: right;\n",
       "    }\n",
       "</style>\n",
       "<table border=\"1\" class=\"dataframe\">\n",
       "  <thead>\n",
       "    <tr style=\"text-align: right;\">\n",
       "      <th>Predicted Result</th>\n",
       "      <th>0</th>\n",
       "      <th>1</th>\n",
       "    </tr>\n",
       "    <tr>\n",
       "      <th>Actual Result</th>\n",
       "      <th></th>\n",
       "      <th></th>\n",
       "    </tr>\n",
       "  </thead>\n",
       "  <tbody>\n",
       "    <tr>\n",
       "      <th>0</th>\n",
       "      <td>373</td>\n",
       "      <td>7</td>\n",
       "    </tr>\n",
       "    <tr>\n",
       "      <th>1</th>\n",
       "      <td>53</td>\n",
       "      <td>3</td>\n",
       "    </tr>\n",
       "  </tbody>\n",
       "</table>\n",
       "</div>"
      ],
      "text/plain": [
       "Predicted Result    0  1\n",
       "Actual Result           \n",
       "0                 373  7\n",
       "1                  53  3"
      ]
     },
     "execution_count": 54,
     "metadata": {},
     "output_type": "execute_result"
    }
   ],
   "source": [
    "#sorted(list(zip(X_train, best_grid.feature_importances_.round(decimals=2))), \n",
    "#       key=lambda x: x[1])\n",
    "\n",
    "pred = best_grid.predict(X_test)\n",
    "pd.crosstab(y_test_merged, pred, rownames=['Actual Result'], colnames=['Predicted Result'])"
   ]
  },
  {
   "cell_type": "code",
   "execution_count": 55,
   "metadata": {},
   "outputs": [
    {
     "name": "stdout",
     "output_type": "stream",
     "text": [
      "Fitting 3 folds for each of 288 candidates, totalling 864 fits\n"
     ]
    },
    {
     "name": "stderr",
     "output_type": "stream",
     "text": [
      "[Parallel(n_jobs=-1)]: Using backend LokyBackend with 4 concurrent workers.\n",
      "[Parallel(n_jobs=-1)]: Done  33 tasks      | elapsed:   12.9s\n",
      "[Parallel(n_jobs=-1)]: Done 154 tasks      | elapsed:  1.4min\n",
      "[Parallel(n_jobs=-1)]: Done 357 tasks      | elapsed:  3.5min\n",
      "[Parallel(n_jobs=-1)]: Done 640 tasks      | elapsed:  6.6min\n",
      "[Parallel(n_jobs=-1)]: Done 864 out of 864 | elapsed:  8.9min finished\n"
     ]
    },
    {
     "name": "stdout",
     "output_type": "stream",
     "text": [
      "{'bootstrap': True, 'class_weight': 'balanced', 'criterion': 'gini', 'max_depth': 100, 'max_features': 0.1, 'min_samples_leaf': 2, 'min_samples_split': 2, 'n_estimators': 500}\n",
      "Recall for selected classes: 32.0 %\n",
      "Precision for selected classes: 28.999999999999996 %\n",
      "Naive Precision: 13.0 %\n",
      "\n"
     ]
    }
   ],
   "source": [
    "param_grid = {\n",
    "    'class_weight': ['balanced'],\n",
    "    'bootstrap': [True],\n",
    "    'max_depth': [70, 80, 90, 100],\n",
    "    'max_features': [0.1, 0.2, 0.3, 0.4],\n",
    "    'min_samples_leaf': [1, 2, 3],\n",
    "    'min_samples_split': [2, 3, 5],\n",
    "    'n_estimators': [500, 1000],\n",
    "    'criterion': ['gini']\n",
    "}\n",
    "\n",
    "rf = RandomForestClassifier()\n",
    "\n",
    "grid_search = GridSearchCV(estimator = rf, param_grid = param_grid, \n",
    "                          cv = 3, n_jobs = -1, verbose = 2)\n",
    "\n",
    "grid_search.fit(X_train, y_train)\n",
    "print(grid_search.best_params_)\n",
    "best_grid = grid_search.best_estimator_\n",
    "pred = best_grid.predict(X_test)\n",
    "calc_prec_recall([1,2], y_test, pred)"
   ]
  },
  {
   "cell_type": "code",
   "execution_count": 56,
   "metadata": {},
   "outputs": [
    {
     "data": {
      "text/html": [
       "<div>\n",
       "<style scoped>\n",
       "    .dataframe tbody tr th:only-of-type {\n",
       "        vertical-align: middle;\n",
       "    }\n",
       "\n",
       "    .dataframe tbody tr th {\n",
       "        vertical-align: top;\n",
       "    }\n",
       "\n",
       "    .dataframe thead th {\n",
       "        text-align: right;\n",
       "    }\n",
       "</style>\n",
       "<table border=\"1\" class=\"dataframe\">\n",
       "  <thead>\n",
       "    <tr style=\"text-align: right;\">\n",
       "      <th>Predicted Result</th>\n",
       "      <th>2</th>\n",
       "      <th>3</th>\n",
       "      <th>4</th>\n",
       "      <th>5</th>\n",
       "      <th>6</th>\n",
       "      <th>7</th>\n",
       "    </tr>\n",
       "    <tr>\n",
       "      <th>Actual Result</th>\n",
       "      <th></th>\n",
       "      <th></th>\n",
       "      <th></th>\n",
       "      <th></th>\n",
       "      <th></th>\n",
       "      <th></th>\n",
       "    </tr>\n",
       "  </thead>\n",
       "  <tbody>\n",
       "    <tr>\n",
       "      <th>1</th>\n",
       "      <td>2</td>\n",
       "      <td>0</td>\n",
       "      <td>3</td>\n",
       "      <td>2</td>\n",
       "      <td>2</td>\n",
       "      <td>1</td>\n",
       "    </tr>\n",
       "    <tr>\n",
       "      <th>2</th>\n",
       "      <td>18</td>\n",
       "      <td>0</td>\n",
       "      <td>11</td>\n",
       "      <td>0</td>\n",
       "      <td>11</td>\n",
       "      <td>6</td>\n",
       "    </tr>\n",
       "    <tr>\n",
       "      <th>3</th>\n",
       "      <td>3</td>\n",
       "      <td>1</td>\n",
       "      <td>13</td>\n",
       "      <td>1</td>\n",
       "      <td>3</td>\n",
       "      <td>6</td>\n",
       "    </tr>\n",
       "    <tr>\n",
       "      <th>4</th>\n",
       "      <td>7</td>\n",
       "      <td>1</td>\n",
       "      <td>74</td>\n",
       "      <td>0</td>\n",
       "      <td>30</td>\n",
       "      <td>2</td>\n",
       "    </tr>\n",
       "    <tr>\n",
       "      <th>5</th>\n",
       "      <td>5</td>\n",
       "      <td>0</td>\n",
       "      <td>3</td>\n",
       "      <td>3</td>\n",
       "      <td>16</td>\n",
       "      <td>5</td>\n",
       "    </tr>\n",
       "    <tr>\n",
       "      <th>6</th>\n",
       "      <td>12</td>\n",
       "      <td>0</td>\n",
       "      <td>13</td>\n",
       "      <td>2</td>\n",
       "      <td>83</td>\n",
       "      <td>5</td>\n",
       "    </tr>\n",
       "    <tr>\n",
       "      <th>7</th>\n",
       "      <td>16</td>\n",
       "      <td>0</td>\n",
       "      <td>4</td>\n",
       "      <td>2</td>\n",
       "      <td>6</td>\n",
       "      <td>64</td>\n",
       "    </tr>\n",
       "  </tbody>\n",
       "</table>\n",
       "</div>"
      ],
      "text/plain": [
       "Predicted Result   2  3   4  5   6   7\n",
       "Actual Result                         \n",
       "1                  2  0   3  2   2   1\n",
       "2                 18  0  11  0  11   6\n",
       "3                  3  1  13  1   3   6\n",
       "4                  7  1  74  0  30   2\n",
       "5                  5  0   3  3  16   5\n",
       "6                 12  0  13  2  83   5\n",
       "7                 16  0   4  2   6  64"
      ]
     },
     "execution_count": 56,
     "metadata": {},
     "output_type": "execute_result"
    }
   ],
   "source": [
    "#Confusion Matrix:\n",
    "pd.crosstab(y_test, pred, rownames=['Actual Result'], colnames=['Predicted Result'])"
   ]
  },
  {
   "cell_type": "markdown",
   "metadata": {},
   "source": [
    "## XGBoost"
   ]
  },
  {
   "cell_type": "code",
   "execution_count": 7,
   "metadata": {},
   "outputs": [],
   "source": [
    "from xgboost import XGBClassifier"
   ]
  },
  {
   "cell_type": "code",
   "execution_count": 40,
   "metadata": {},
   "outputs": [],
   "source": [
    "# Set weights for unbalanced classes as their proportion:\n",
    "total = sum(y_train.value_counts())\n",
    "y_weights = y_train.apply(lambda x: (total-y_train.value_counts()[x]) /\n",
    "                          y_train.value_counts()[x])\n",
    "\n",
    "# Set weights for unbalanced classes arbitrarily:\n",
    "weight_dict = {1:20, 2:10, 3:2, 4:2, 5:2, 6:2, 7:2}\n",
    "y_weights = y_train.map(weight_dict)"
   ]
  },
  {
   "cell_type": "code",
   "execution_count": 41,
   "metadata": {},
   "outputs": [
    {
     "data": {
      "text/plain": [
       "XGBClassifier(base_score=0.5, booster='gbtree', colsample_bylevel=1,\n",
       "              colsample_bynode=1, colsample_bytree=1, eval_metric='auc',\n",
       "              gamma=0, learning_rate=0.1, max_delta_step=0, max_depth=6,\n",
       "              min_child_weight=1, missing=None, n_estimators=100, n_jobs=1,\n",
       "              nthread=None, objective='multi:softprob', random_state=0,\n",
       "              reg_alpha=0, reg_lambda=1, scale_pos_weight=1, seed=None,\n",
       "              silent=None, subsample=1, verbosity=1)"
      ]
     },
     "execution_count": 41,
     "metadata": {},
     "output_type": "execute_result"
    }
   ],
   "source": [
    "model = XGBClassifier(max_depth=6, eval_metric='auc')\n",
    "model.fit(X_train, y_train, sample_weight=y_weights)"
   ]
  },
  {
   "cell_type": "code",
   "execution_count": 42,
   "metadata": {},
   "outputs": [
    {
     "name": "stdout",
     "output_type": "stream",
     "text": [
      "Training Accuracy: 96.27%\n",
      "Test Accuracy: 53.90%\n",
      "Recall for selected classes: 47.0 %\n",
      "Precision for selected classes: 30.0 %\n",
      "Naive Precision: 16.0 %\n",
      "\n"
     ]
    },
    {
     "data": {
      "text/html": [
       "<div>\n",
       "<style scoped>\n",
       "    .dataframe tbody tr th:only-of-type {\n",
       "        vertical-align: middle;\n",
       "    }\n",
       "\n",
       "    .dataframe tbody tr th {\n",
       "        vertical-align: top;\n",
       "    }\n",
       "\n",
       "    .dataframe thead th {\n",
       "        text-align: right;\n",
       "    }\n",
       "</style>\n",
       "<table border=\"1\" class=\"dataframe\">\n",
       "  <thead>\n",
       "    <tr style=\"text-align: right;\">\n",
       "      <th>Predicted Result</th>\n",
       "      <th>1</th>\n",
       "      <th>2</th>\n",
       "      <th>3</th>\n",
       "      <th>4</th>\n",
       "      <th>5</th>\n",
       "      <th>6</th>\n",
       "      <th>7</th>\n",
       "    </tr>\n",
       "    <tr>\n",
       "      <th>Actual Result</th>\n",
       "      <th></th>\n",
       "      <th></th>\n",
       "      <th></th>\n",
       "      <th></th>\n",
       "      <th></th>\n",
       "      <th></th>\n",
       "      <th></th>\n",
       "    </tr>\n",
       "  </thead>\n",
       "  <tbody>\n",
       "    <tr>\n",
       "      <th>1</th>\n",
       "      <td>0</td>\n",
       "      <td>3</td>\n",
       "      <td>1</td>\n",
       "      <td>0</td>\n",
       "      <td>1</td>\n",
       "      <td>4</td>\n",
       "      <td>0</td>\n",
       "    </tr>\n",
       "    <tr>\n",
       "      <th>2</th>\n",
       "      <td>1</td>\n",
       "      <td>33</td>\n",
       "      <td>0</td>\n",
       "      <td>11</td>\n",
       "      <td>0</td>\n",
       "      <td>12</td>\n",
       "      <td>4</td>\n",
       "    </tr>\n",
       "    <tr>\n",
       "      <th>3</th>\n",
       "      <td>0</td>\n",
       "      <td>6</td>\n",
       "      <td>0</td>\n",
       "      <td>9</td>\n",
       "      <td>2</td>\n",
       "      <td>7</td>\n",
       "      <td>2</td>\n",
       "    </tr>\n",
       "    <tr>\n",
       "      <th>4</th>\n",
       "      <td>0</td>\n",
       "      <td>14</td>\n",
       "      <td>1</td>\n",
       "      <td>61</td>\n",
       "      <td>1</td>\n",
       "      <td>24</td>\n",
       "      <td>3</td>\n",
       "    </tr>\n",
       "    <tr>\n",
       "      <th>5</th>\n",
       "      <td>1</td>\n",
       "      <td>9</td>\n",
       "      <td>1</td>\n",
       "      <td>0</td>\n",
       "      <td>2</td>\n",
       "      <td>11</td>\n",
       "      <td>3</td>\n",
       "    </tr>\n",
       "    <tr>\n",
       "      <th>6</th>\n",
       "      <td>1</td>\n",
       "      <td>23</td>\n",
       "      <td>1</td>\n",
       "      <td>14</td>\n",
       "      <td>3</td>\n",
       "      <td>86</td>\n",
       "      <td>3</td>\n",
       "    </tr>\n",
       "    <tr>\n",
       "      <th>7</th>\n",
       "      <td>0</td>\n",
       "      <td>18</td>\n",
       "      <td>0</td>\n",
       "      <td>0</td>\n",
       "      <td>1</td>\n",
       "      <td>6</td>\n",
       "      <td>53</td>\n",
       "    </tr>\n",
       "  </tbody>\n",
       "</table>\n",
       "</div>"
      ],
      "text/plain": [
       "Predicted Result  1   2  3   4  5   6   7\n",
       "Actual Result                            \n",
       "1                 0   3  1   0  1   4   0\n",
       "2                 1  33  0  11  0  12   4\n",
       "3                 0   6  0   9  2   7   2\n",
       "4                 0  14  1  61  1  24   3\n",
       "5                 1   9  1   0  2  11   3\n",
       "6                 1  23  1  14  3  86   3\n",
       "7                 0  18  0   0  1   6  53"
      ]
     },
     "execution_count": 42,
     "metadata": {},
     "output_type": "execute_result"
    }
   ],
   "source": [
    "from sklearn.metrics import accuracy_score\n",
    "\n",
    "# Calculate Bias\n",
    "y_pred = model.predict(X_train)\n",
    "accuracy = accuracy_score(y_train, y_pred)\n",
    "print(\"Training Accuracy: %.2f%%\" % (accuracy * 100.0))\n",
    "\n",
    "# Variance\n",
    "y_pred = model.predict(X_test)\n",
    "accuracy = accuracy_score(y_test, y_pred)\n",
    "print(\"Test Accuracy: %.2f%%\" % (accuracy * 100.0))\n",
    "\n",
    "calc_prec_recall([1,2], y_test, y_pred)\n",
    "    \n",
    "pd.crosstab(y_test, y_pred, rownames=['Actual Result'], colnames=['Predicted Result'])"
   ]
  },
  {
   "cell_type": "code",
   "execution_count": null,
   "metadata": {},
   "outputs": [],
   "source": []
  },
  {
   "cell_type": "code",
   "execution_count": 37,
   "metadata": {},
   "outputs": [
    {
     "data": {
      "text/plain": [
       "[('verified', 0.003),\n",
       " ('source_TwitterforiPad', 0.005),\n",
       " ('default_profile_image', 0.006),\n",
       " ('source_TwitterforAndroid', 0.007),\n",
       " ('source_Facebook', 0.007),\n",
       " ('user_lang_en', 0.007),\n",
       " ('profile_has_url', 0.008),\n",
       " ('source_IFTTT', 0.009),\n",
       " ('has_extended_profile', 0.01),\n",
       " ('data_source', 0.011),\n",
       " ('is_reply', 0.011),\n",
       " ('mention_count', 0.011),\n",
       " ('default_profile', 0.011),\n",
       " ('favourites_count', 0.011),\n",
       " ('followers_count', 0.011),\n",
       " ('friends_count', 0.011),\n",
       " ('listed_count', 0.011),\n",
       " ('load_centrality', 0.011),\n",
       " ('source_TwitterforiPhone', 0.012),\n",
       " ('source_Hootsuite', 0.012),\n",
       " ('closeness_centrality', 0.012),\n",
       " ('ratio_detected', 0.012),\n",
       " ('source_TwitterLite', 0.013),\n",
       " ('degree_centrality', 0.013),\n",
       " ('lang_en', 0.014),\n",
       " ('source_TwitterWebClient', 0.014),\n",
       " ('source_TweetDeck', 0.014),\n",
       " ('hashtag_count', 0.015),\n",
       " ('eigenvector_centrality', 0.015),\n",
       " ('ratio_original', 0.015),\n",
       " ('statuses_count', 0.015),\n",
       " ('tweets_per_hour', 0.015),\n",
       " ('betweenness_centrality', 0.016),\n",
       " ('geo_enabled', 0.016),\n",
       " ('source_other', 0.017),\n",
       " ('is_quoting', 0.019),\n",
       " ('user_data_source', 0.022),\n",
       " ('source_BubbleLife', 0.023),\n",
       " ('undirected_eigenvector_centrality', 0.024),\n",
       " ('profile_has_local_location', 0.025),\n",
       " ('has_coords', 0.06),\n",
       " ('source_Paper.li', 0.083),\n",
       " ('source_Instagram', 0.086),\n",
       " ('url_count', 0.097),\n",
       " ('source_TweetMyJOBS', 0.158)]"
      ]
     },
     "execution_count": 37,
     "metadata": {},
     "output_type": "execute_result"
    }
   ],
   "source": [
    "sorted(list(zip(X_train, model.feature_importances_.round(decimals=3))), key=lambda x: x[1])"
   ]
  },
  {
   "cell_type": "code",
   "execution_count": 33,
   "metadata": {},
   "outputs": [
    {
     "name": "stdout",
     "output_type": "stream",
     "text": [
      "Accuracy: 85.55%\n"
     ]
    },
    {
     "data": {
      "text/html": [
       "<div>\n",
       "<style scoped>\n",
       "    .dataframe tbody tr th:only-of-type {\n",
       "        vertical-align: middle;\n",
       "    }\n",
       "\n",
       "    .dataframe tbody tr th {\n",
       "        vertical-align: top;\n",
       "    }\n",
       "\n",
       "    .dataframe thead th {\n",
       "        text-align: right;\n",
       "    }\n",
       "</style>\n",
       "<table border=\"1\" class=\"dataframe\">\n",
       "  <thead>\n",
       "    <tr style=\"text-align: right;\">\n",
       "      <th>Predicted Result</th>\n",
       "      <th>0</th>\n",
       "      <th>1</th>\n",
       "    </tr>\n",
       "    <tr>\n",
       "      <th>Actual Result</th>\n",
       "      <th></th>\n",
       "      <th></th>\n",
       "    </tr>\n",
       "  </thead>\n",
       "  <tbody>\n",
       "    <tr>\n",
       "      <th>0</th>\n",
       "      <td>369</td>\n",
       "      <td>5</td>\n",
       "    </tr>\n",
       "    <tr>\n",
       "      <th>1</th>\n",
       "      <td>58</td>\n",
       "      <td>4</td>\n",
       "    </tr>\n",
       "  </tbody>\n",
       "</table>\n",
       "</div>"
      ],
      "text/plain": [
       "Predicted Result    0  1\n",
       "Actual Result           \n",
       "0                 369  5\n",
       "1                  58  4"
      ]
     },
     "execution_count": 33,
     "metadata": {},
     "output_type": "execute_result"
    }
   ],
   "source": [
    "model = XGBClassifier()\n",
    "model.fit(X_train, y_train_merged)\n",
    "y_pred_merged = model.predict(X_test)\n",
    "accuracy = accuracy_score(y_test_merged, y_pred_merged)\n",
    "print(\"Accuracy: %.2f%%\" % (accuracy * 100.0))\n",
    "\n",
    "#Confusion Matrix:\n",
    "pd.crosstab(y_test_merged, y_pred_merged, rownames=['Actual Result'], colnames=['Predicted Result'])\n"
   ]
  },
  {
   "cell_type": "code",
   "execution_count": 71,
   "metadata": {},
   "outputs": [
    {
     "name": "stdout",
     "output_type": "stream",
     "text": [
      "Accuracy: 54.18% (1.27%)\n"
     ]
    }
   ],
   "source": [
    "# CV model\n",
    "from sklearn.model_selection import KFold\n",
    "from sklearn.model_selection import cross_val_score\n",
    "\n",
    "model = XGBClassifier()\n",
    "kfold = KFold(n_splits=3, random_state=7)\n",
    "results = cross_val_score(model, xVar, yVar, cv=kfold)\n",
    "print(\"Accuracy: %.2f%% (%.2f%%)\" % (results.mean()*100, results.std()*100))"
   ]
  },
  {
   "cell_type": "code",
   "execution_count": 73,
   "metadata": {},
   "outputs": [
    {
     "name": "stdout",
     "output_type": "stream",
     "text": [
      "Accuracy: 53.95% (1.34%)\n"
     ]
    }
   ],
   "source": [
    "#Stratified KFold\n",
    "from sklearn.model_selection import StratifiedKFold\n",
    "\n",
    "model = XGBClassifier()\n",
    "kfold = StratifiedKFold(n_splits=3, random_state=7)\n",
    "results = cross_val_score(model, xVar, yVar, cv=kfold)\n",
    "print(\"Accuracy: %.2f%% (%.2f%%)\" % (results.mean()*100, results.std()*100))"
   ]
  },
  {
   "cell_type": "code",
   "execution_count": null,
   "metadata": {},
   "outputs": [],
   "source": []
  }
 ],
 "metadata": {
  "kernelspec": {
   "display_name": "Django Shell-Plus",
   "language": "python",
   "name": "django_extensions"
  },
  "language_info": {
   "codemirror_mode": {
    "name": "ipython",
    "version": 3
   },
   "file_extension": ".py",
   "mimetype": "text/x-python",
   "name": "python",
   "nbconvert_exporter": "python",
   "pygments_lexer": "ipython3",
   "version": "3.6.2"
  },
  "toc": {
   "base_numbering": 1,
   "nav_menu": {},
   "number_sections": true,
   "sideBar": true,
   "skip_h1_title": false,
   "title_cell": "Table of Contents",
   "title_sidebar": "Contents",
   "toc_cell": false,
   "toc_position": {},
   "toc_section_display": true,
   "toc_window_display": false
  },
  "varInspector": {
   "cols": {
    "lenName": 16,
    "lenType": 16,
    "lenVar": 40
   },
   "kernels_config": {
    "python": {
     "delete_cmd_postfix": "",
     "delete_cmd_prefix": "del ",
     "library": "var_list.py",
     "varRefreshCmd": "print(var_dic_list())"
    },
    "r": {
     "delete_cmd_postfix": ") ",
     "delete_cmd_prefix": "rm(",
     "library": "var_list.r",
     "varRefreshCmd": "cat(var_dic_list()) "
    }
   },
   "oldHeight": 668,
   "position": {
    "height": "690px",
    "left": "1135px",
    "right": "20px",
    "top": "123px",
    "width": "685px"
   },
   "types_to_exclude": [
    "module",
    "function",
    "builtin_function_or_method",
    "instance",
    "_Feature"
   ],
   "varInspector_section_display": "block",
   "window_display": false
  }
 },
 "nbformat": 4,
 "nbformat_minor": 2
}
