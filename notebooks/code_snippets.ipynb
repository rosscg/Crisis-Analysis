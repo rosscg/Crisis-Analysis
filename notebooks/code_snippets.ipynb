{
 "cells": [
  {
   "cell_type": "code",
   "execution_count": 1,
   "metadata": {},
   "outputs": [
    {
     "ename": "NameError",
     "evalue": "name 'LATEX_DIR' is not defined",
     "output_type": "error",
     "traceback": [
      "\u001b[0;31m---------------------------------------------------------------------------\u001b[0m",
      "\u001b[0;31mNameError\u001b[0m                                 Traceback (most recent call last)",
      "\u001b[0;32m<ipython-input-1-56450f8021c5>\u001b[0m in \u001b[0;36m<module>\u001b[0;34m\u001b[0m\n\u001b[1;32m     43\u001b[0m \u001b[0;34m\u001b[0m\u001b[0m\n\u001b[1;32m     44\u001b[0m \u001b[0mplt\u001b[0m\u001b[0;34m.\u001b[0m\u001b[0maxis\u001b[0m\u001b[0;34m(\u001b[0m\u001b[0;34m'off'\u001b[0m\u001b[0;34m)\u001b[0m \u001b[0;31m# Hide border, (and make background transparent)\u001b[0m\u001b[0;34m\u001b[0m\u001b[0m\n\u001b[0;32m---> 45\u001b[0;31m \u001b[0mf\u001b[0m\u001b[0;34m.\u001b[0m\u001b[0msavefig\u001b[0m\u001b[0;34m(\u001b[0m\u001b[0mLATEX_DIR\u001b[0m \u001b[0;34m+\u001b[0m \u001b[0;34m'barbell-unbalanced.png'\u001b[0m\u001b[0;34m,\u001b[0m \u001b[0mbbox_inches\u001b[0m\u001b[0;34m=\u001b[0m\u001b[0;34m'tight'\u001b[0m\u001b[0;34m,\u001b[0m \u001b[0mpad_inches\u001b[0m\u001b[0;34m=\u001b[0m\u001b[0;36m0\u001b[0m\u001b[0;34m,\u001b[0m \u001b[0mdpi\u001b[0m \u001b[0;34m=\u001b[0m \u001b[0;36m300\u001b[0m\u001b[0;34m)\u001b[0m\u001b[0;34m\u001b[0m\u001b[0m\n\u001b[0m",
      "\u001b[0;31mNameError\u001b[0m: name 'LATEX_DIR' is not defined"
     ]
    }
   ],
   "source": [
    "# From 4_network_analysis\n",
    "\n",
    "# Creating unbalanced barbell graph to demonstrate different community structures\n",
    "\n",
    "import networkx as nx\n",
    "import random\n",
    "import matplotlib.pyplot as plt\n",
    "\n",
    "plt.rcParams['figure.figsize'] = (16, 8) \n",
    "\n",
    "tot = 30\n",
    "split = int(tot/2)\n",
    "\n",
    "G = nx.Graph()\n",
    "G.add_nodes_from([i for i in range(tot)])\n",
    "\n",
    "for n in range(split):\n",
    "    for m in range(split):\n",
    "        G.add_edge(n,m)\n",
    "for n in range(split,tot):\n",
    "    for m in range(split,tot):\n",
    "        if random.random() > 0.95:\n",
    "            G.add_edge(n,m)\n",
    "    G.add_edge(n,split+1)\n",
    "G.add_edge(0,split+1)\n",
    "\n",
    "f = plt.figure()\n",
    "\n",
    "pos = {k:(k/tot,k/tot) for k in range(tot)}\n",
    "\n",
    "pos[0] = (0.3, 0.5)\n",
    "pos[1] = (0.01, 0.6)\n",
    "pos[2] = (0.01, 0.4)\n",
    "pos[(split+1)] = (0.7,0.5)\n",
    "fixed = [0, 1, 2, (split+1)]\n",
    "\n",
    "pos = nx.spring_layout(G, pos=pos, fixed=fixed)\n",
    "\n",
    "node_color = [('black' if i < split else 'darkred') for i in range(tot)]\n",
    "#node_color[1] = 'blue'\n",
    "#node_color[2] = 'blue'\n",
    "nx.draw_networkx(G, pos=pos, with_labels=False, node_color=node_color)\n",
    "\n",
    "plt.axis('off') # Hide border, (and make background transparent)\n",
    "f.savefig(LATEX_DIR + 'barbell-unbalanced.png', bbox_inches='tight', pad_inches=0, dpi = 300)"
   ]
  },
  {
   "cell_type": "code",
   "execution_count": null,
   "metadata": {},
   "outputs": [],
   "source": []
  }
 ],
 "metadata": {
  "kernelspec": {
   "display_name": "Python 3",
   "language": "python",
   "name": "python3"
  },
  "language_info": {
   "codemirror_mode": {
    "name": "ipython",
    "version": 3
   },
   "file_extension": ".py",
   "mimetype": "text/x-python",
   "name": "python",
   "nbconvert_exporter": "python",
   "pygments_lexer": "ipython3",
   "version": "3.6.2"
  },
  "toc": {
   "base_numbering": 1,
   "nav_menu": {},
   "number_sections": true,
   "sideBar": true,
   "skip_h1_title": false,
   "title_cell": "Table of Contents",
   "title_sidebar": "Contents",
   "toc_cell": false,
   "toc_position": {},
   "toc_section_display": true,
   "toc_window_display": false
  },
  "varInspector": {
   "cols": {
    "lenName": 16,
    "lenType": 16,
    "lenVar": 40
   },
   "kernels_config": {
    "python": {
     "delete_cmd_postfix": "",
     "delete_cmd_prefix": "del ",
     "library": "var_list.py",
     "varRefreshCmd": "print(var_dic_list())"
    },
    "r": {
     "delete_cmd_postfix": ") ",
     "delete_cmd_prefix": "rm(",
     "library": "var_list.r",
     "varRefreshCmd": "cat(var_dic_list()) "
    }
   },
   "types_to_exclude": [
    "module",
    "function",
    "builtin_function_or_method",
    "instance",
    "_Feature"
   ],
   "window_display": false
  }
 },
 "nbformat": 4,
 "nbformat_minor": 2
}
